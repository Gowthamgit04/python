{
  "nbformat": 4,
  "nbformat_minor": 0,
  "metadata": {
    "colab": {
      "name": "Python Advanced.ipynb",
      "provenance": [],
      "collapsed_sections": []
    },
    "kernelspec": {
      "name": "python3",
      "display_name": "Python 3"
    }
  },
  "cells": [
    {
      "cell_type": "markdown",
      "metadata": {
        "id": "Odt0e1I8LJvu",
        "colab_type": "text"
      },
      "source": [
        "\n",
        "\n",
        "> **Classes/Objects :**\n",
        "* Class is defined as blue print or template of an object\n",
        "* Python is an object oriented programming language\n",
        "* Almost everything in Python is an object, with its properties and methods\n",
        "* A Class is like an object constructor, or a \"blueprint\" for creating objects\n",
        "* Physical existence of a class is called an **object**\n",
        "\n",
        "> **Create Class :**\n",
        "* To create a class, use the keyword **class**\n",
        "\n",
        ">**Create Object :**\n",
        "* Now we can use the class named to create objects\n",
        "\n",
        "\n",
        "\n",
        "\n"
      ]
    },
    {
      "cell_type": "markdown",
      "metadata": {
        "id": "QUeftlqVRuR-",
        "colab_type": "text"
      },
      "source": [
        ""
      ]
    },
    {
      "cell_type": "code",
      "metadata": {
        "id": "ZzU52W1PK73X",
        "colab_type": "code",
        "outputId": "46e863aa-5345-464c-b1b2-10decdfd3201",
        "colab": {
          "base_uri": "https://localhost:8080/",
          "height": 51
        }
      },
      "source": [
        "# Create a class\n",
        "class number:\n",
        "  x=10\n",
        "# create an object\n",
        "p=number()\n",
        "print(p.x)\n",
        "a=number()\n",
        "print(a.x)\n"
      ],
      "execution_count": 0,
      "outputs": [
        {
          "output_type": "stream",
          "text": [
            "10\n",
            "10\n"
          ],
          "name": "stdout"
        }
      ]
    },
    {
      "cell_type": "markdown",
      "metadata": {
        "id": "vmdgWUtDgvpM",
        "colab_type": "text"
      },
      "source": [
        "\n",
        "\n",
        "> **Doc String :**\n",
        "* Used to describe the information in the class\n",
        "* Information is Enclosed in the triple quote (''' ''')\n",
        "\n"
      ]
    },
    {
      "cell_type": "code",
      "metadata": {
        "id": "1Ei5XbLIhVHc",
        "colab_type": "code",
        "outputId": "3a380898-509b-4947-d58c-5ede170e6af1",
        "colab": {
          "base_uri": "https://localhost:8080/",
          "height": 255
        }
      },
      "source": [
        "class Student:\n",
        "  '''This class is developed by Gowtham'''\n",
        "print(Student.__doc__)\n",
        "help(Student)"
      ],
      "execution_count": 0,
      "outputs": [
        {
          "output_type": "stream",
          "text": [
            "This class is developed by Gowtham\n",
            "Help on class Student in module __main__:\n",
            "\n",
            "class Student(builtins.object)\n",
            " |  This class is developed by Gowtham\n",
            " |  \n",
            " |  Data descriptors defined here:\n",
            " |  \n",
            " |  __dict__\n",
            " |      dictionary for instance variables (if defined)\n",
            " |  \n",
            " |  __weakref__\n",
            " |      list of weak references to the object (if defined)\n",
            "\n"
          ],
          "name": "stdout"
        }
      ]
    },
    {
      "cell_type": "markdown",
      "metadata": {
        "id": "jYa4ulq7it7V",
        "colab_type": "text"
      },
      "source": [
        "> **Self Variable :**\n",
        "* Self is a reference variable which is always pointing to current object.\n",
        "* Within the python class to refer current object we should use self variable\n",
        "* The first argument to the constructor and instance method should be self\n",
        "* PVM (python virtual machine) is responsible to provide value for self argument and we are not required to provide explicitly.\n",
        "* By using self we can declare instance variable\n",
        "* By using self we can access instance variable\n",
        "* We can use keyword arguments for creating the object \n",
        "* Instead of self we can use any name, but recomended to use **self**\n"
      ]
    },
    {
      "cell_type": "code",
      "metadata": {
        "id": "WnPlC0vjNopi",
        "colab_type": "code",
        "outputId": "6a9f1d4d-a9d5-410c-fcc3-abd57cb5391e",
        "colab": {
          "base_uri": "https://localhost:8080/",
          "height": 221
        }
      },
      "source": [
        "class student:\n",
        "  '''Program for displaying Student information'''\n",
        "  def __init__(self,sname,srollno,sdept):# Constructor\n",
        "    print(id(self))\n",
        "    self.sname=sname\n",
        "    self.srollno=srollno\n",
        "    self.sdept=sdept\n",
        "  def info(self):\n",
        "    print('*'*20)\n",
        "    print('Name of student :',self.sname)\n",
        "    print('Student Rollno :',self.srollno)\n",
        "    print('Student Department :',self.sdept)\n",
        "s1=student('Gowtham',11,'medical')\n",
        "s2=student(sname='Reddy',sdept='AI',srollno=4)\n",
        "s1.info()\n",
        "s2.info()\n",
        "print(id(s1))\n",
        "print(id(s2))\n",
        "\n"
      ],
      "execution_count": 0,
      "outputs": [
        {
          "output_type": "stream",
          "text": [
            "139890377755112\n",
            "139890377393488\n",
            "********************\n",
            "Name of student : Gowtham\n",
            "Student Rollno : 11\n",
            "Student Department : medical\n",
            "********************\n",
            "Name of student : Reddy\n",
            "Student Rollno : 4\n",
            "Student Department : AI\n",
            "139890377755112\n",
            "139890377393488\n"
          ],
          "name": "stdout"
        }
      ]
    },
    {
      "cell_type": "markdown",
      "metadata": {
        "id": "SLBa8j9SehC3",
        "colab_type": "text"
      },
      "source": [
        "> **Constructor :**\n",
        "* special method in python\n",
        "* The name should be always :__ init __ \n",
        "* whenever we are creating an object constructor will be exected automatically and we are not required to call explicitly\n",
        "* The Main objective : to declare and initialize variables\n",
        "* For every object constructor will be exected only once \n",
        "* Atleast one argument self\n",
        "* If not declared python will provide default constructor\n",
        "* If we define multiple constructors by overloadding, PVM will consider the latest created constructor\n",
        "* Overloadding is not applicable in python \n",
        "\n"
      ]
    },
    {
      "cell_type": "code",
      "metadata": {
        "id": "70HnO5GqhXik",
        "colab_type": "code",
        "outputId": "fdbcf136-1328-4131-8e7c-ba3748ecf527",
        "colab": {
          "base_uri": "https://localhost:8080/",
          "height": 34
        }
      },
      "source": [
        "class Test:\n",
        "  def __init__(self):\n",
        "    print('Constructor Exection')\n",
        "t=Test()"
      ],
      "execution_count": 0,
      "outputs": [
        {
          "output_type": "stream",
          "text": [
            "Constructor Exection\n"
          ],
          "name": "stdout"
        }
      ]
    },
    {
      "cell_type": "code",
      "metadata": {
        "id": "M2KO9On1h0c9",
        "colab_type": "code",
        "outputId": "497296c9-f72d-4c18-8d3b-7a745c96eabc",
        "colab": {
          "base_uri": "https://localhost:8080/",
          "height": 34
        }
      },
      "source": [
        "class Test:\n",
        "  def __init__(self):\n",
        "    print('no - arg contructor')\n",
        "  def __init__(self,x):\n",
        "    print('one - arg constructor')\n",
        "# t1=Test()\n",
        "t2=Test(10)"
      ],
      "execution_count": 0,
      "outputs": [
        {
          "output_type": "stream",
          "text": [
            "one - arg constructor\n"
          ],
          "name": "stdout"
        }
      ]
    },
    {
      "cell_type": "markdown",
      "metadata": {
        "id": "6xdTjNV_mK7y",
        "colab_type": "text"
      },
      "source": [
        "\n",
        "\n",
        "> **Method :**\n",
        "* The name of method can be anything\n",
        "* The method will be exected if we call\n",
        "* Per object method will be called any number of times\n",
        "* Business logic is implemented\n",
        "\n",
        "> **Constructor:**\n",
        "* The name of constructor should be :__ init __\n",
        "* The constructor is executed automatically if we are creating an object\n",
        "* Per object constructor will be executed only once\n",
        "* To declare and initialize instance variable\n",
        "\n",
        "\n",
        "\n"
      ]
    },
    {
      "cell_type": "code",
      "metadata": {
        "id": "zhIMp6ZInmNv",
        "colab_type": "code",
        "outputId": "1348d178-8d53-46d4-ebb5-fb4286a3332a",
        "colab": {
          "base_uri": "https://localhost:8080/",
          "height": 153
        }
      },
      "source": [
        "class student:\n",
        "  '''Program for displaying Student information'''\n",
        "  def __init__(self,sname,srollno,sdept):# Constructor declaration\n",
        "    self.sname=sname\n",
        "    self.srollno=srollno\n",
        "    self.sdept=sdept\n",
        "  def info(self): # Method declaration\n",
        "    print('*'*20)\n",
        "    print('Name of student :',self.sname)\n",
        "    print('Student Rollno :',self.srollno)\n",
        "    print('Student Department :',self.sdept)\n",
        "s1=student('Gowtham',11,'medical') # object creation and assigning to reference variable\n",
        "s1.info() # calling method\n",
        "s1.info()"
      ],
      "execution_count": 0,
      "outputs": [
        {
          "output_type": "stream",
          "text": [
            "********************\n",
            "Name of student : Gowtham\n",
            "Student Rollno : 11\n",
            "Student Department : medical\n",
            "********************\n",
            "Name of student : Gowtham\n",
            "Student Rollno : 11\n",
            "Student Department : medical\n"
          ],
          "name": "stdout"
        }
      ]
    },
    {
      "cell_type": "markdown",
      "metadata": {
        "id": "nPplsEcHojUy",
        "colab_type": "text"
      },
      "source": [
        "> **Types of methods and variables in a class:**\n",
        "\n",
        "> **Variables:**\n",
        "* Instance variables / object level variables\n",
        "* static variables / class level variables\n",
        "* local variables / method variables\n",
        "\n",
        "> **Methods :**\n",
        "* Instance methods / object related methods\n",
        "* class methods / class related methods\n",
        "* static methods / general utility methods\n",
        "\n",
        "\n",
        "\n",
        "\n",
        "\n",
        "\n"
      ]
    },
    {
      "cell_type": "markdown",
      "metadata": {
        "id": "rzjDJHunTcmI",
        "colab_type": "text"
      },
      "source": [
        "> **Instance variables / object level variables :**\n",
        "* If the value a variable is varied from object to object such types of variables is called Instance variable \n",
        "* For every object separate copy will be created\n",
        "\n",
        "> **Where we have to declare Instance variable :**\n",
        "* **Inside constructor** by using **self**\n",
        "* **Inside Instance method** by using **self**\n",
        "* From **outside of the class** by using **object reference**\n",
        "\n",
        "> **How to access Instance variable :**\n",
        "* **Within the class** by using **self**\n",
        "* from **outside of the class** by using **object reference**\n",
        "\n",
        "> **How to Delete Instance variable :**\n",
        "* **Within the class** by using **del self.variablename**\n",
        "* from **outside of the class** by using **del objectreference.variablename**\n",
        "\n",
        "\n"
      ]
    },
    {
      "cell_type": "code",
      "metadata": {
        "id": "rSjEaS-rTeMc",
        "colab_type": "code",
        "outputId": "c812fdf8-a317-42ee-a129-7fe90ba28417",
        "colab": {
          "base_uri": "https://localhost:8080/",
          "height": 51
        }
      },
      "source": [
        "class Test:\n",
        "  def __init__(self):\n",
        "    # instance variable declaration inside constructor by using the self\n",
        "    self.a=10\n",
        "    self.b=20\n",
        "    self.c=30\n",
        "  def m1(self):\n",
        "    # instance variable declaration inside method by using the self\n",
        "    self.d=40\n",
        "  def m2(self):\n",
        "    self.e=50\n",
        "\n",
        "t1=Test()\n",
        "t1.m1()\n",
        "t2=Test()\n",
        "t2.m1()\n",
        "# instance variable declaration outside the class by using the self\n",
        "t2.p=60\n",
        "t2.q=70\n",
        "print(t1.__dict__)\n",
        "print(t2.__dict__)"
      ],
      "execution_count": 0,
      "outputs": [
        {
          "output_type": "stream",
          "text": [
            "{'a': 10, 'b': 20, 'c': 30, 'd': 40}\n",
            "{'a': 10, 'b': 20, 'c': 30, 'd': 40, 'p': 60, 'q': 70}\n"
          ],
          "name": "stdout"
        }
      ]
    },
    {
      "cell_type": "code",
      "metadata": {
        "id": "jbnbrCe3UUKa",
        "colab_type": "code",
        "outputId": "6155ce2f-b8ff-468d-b9cc-306b3d16d41a",
        "colab": {
          "base_uri": "https://localhost:8080/",
          "height": 68
        }
      },
      "source": [
        "class student:\n",
        "  def __init__(self,name,rollno):\n",
        "    self.name=name\n",
        "    self.rollno=rollno\n",
        "  def info(self):\n",
        "    self.marks=60\n",
        "  def display(self):\n",
        "    # Accessing Instance Variable inside the class by using self\n",
        "    print('Hello my Name is : ', self.name)\n",
        "    print('My Rollno is :',self.rollno)\n",
        "s1=student('Gowtham',11)\n",
        "s1.info()\n",
        "s1.subject='Medical Imaging'\n",
        "print(s1.__dict__)\n",
        "\n",
        "s2=student('Reddy',12)\n",
        "s2.batch='2019-2020'\n",
        "print(s2.__dict__)\n",
        "# Accessing Instance variables outside the class by using object reference variable\n",
        "print(s1.name,s1.rollno)"
      ],
      "execution_count": 0,
      "outputs": [
        {
          "output_type": "stream",
          "text": [
            "{'name': 'Gowtham', 'rollno': 11, 'marks': 60, 'subject': 'Medical Imaging'}\n",
            "{'name': 'Reddy', 'rollno': 12, 'batch': '2019-2020'}\n",
            "Gowtham 11\n"
          ],
          "name": "stdout"
        }
      ]
    },
    {
      "cell_type": "code",
      "metadata": {
        "id": "EnhCA74TYDei",
        "colab_type": "code",
        "outputId": "b73bb7ec-fe7d-4c48-d4dc-60aa63bd55b3",
        "colab": {
          "base_uri": "https://localhost:8080/",
          "height": 68
        }
      },
      "source": [
        "class Test():\n",
        "  def __init__(self):\n",
        "    self.a=10\n",
        "    self.b=20\n",
        "    self.c=30\n",
        "  def delete(self):\n",
        "    del self.a\n",
        "    del self.b\n",
        "t1=Test()\n",
        "del t1.c\n",
        "print(t1.__dict__)\n",
        "t2=Test()\n",
        "del t2.c\n",
        "t2.delete()\n",
        "print(t2.__dict__)\n",
        "\n",
        "t3=Test()\n",
        "t3.a=500\n",
        "t3.c=600\n",
        "print(t3.a,t3.c)"
      ],
      "execution_count": 0,
      "outputs": [
        {
          "output_type": "stream",
          "text": [
            "{'a': 10, 'b': 20}\n",
            "{}\n",
            "500 600\n"
          ],
          "name": "stdout"
        }
      ]
    },
    {
      "cell_type": "markdown",
      "metadata": {
        "id": "__kl1wCWqnws",
        "colab_type": "text"
      },
      "source": [
        "> **Static variables / class level variables :**\n",
        "* If the value of the variable is constant throughout the class\n",
        "* For all objects a single copy maintained at class level\n",
        "\n",
        "> **What are various places are there to declare static variables :**\n",
        "* **within the class directly** but from outside of any method\n",
        "* **Inside Constructor / Instance method** by using **classname**\n",
        "* **Inside class method** using **cls variable or classname**\n",
        "* **Inside static method** using **class name**\n",
        "* From **outside of the class** using **class name**\n",
        "\n",
        "> **How to access Static variables :**\n",
        "* we can access static variables either by class name or by object reference\n",
        "* **Within the class :** self,cls,classname\n",
        "* **outside the class :** classname,objectreference\n",
        "\n",
        "> **How to modify Static variables :**\n",
        "* **within the class** we should use **classname, cls variable(only for class method)**\n",
        "* from **outside the class**: only **classname**\n",
        "\n",
        "> **How to delete Static variables :**\n",
        "* **within the class** we should use **classname, cls variable(only for class method)**\n",
        "* from **outside the class**: only **classname**"
      ]
    },
    {
      "cell_type": "code",
      "metadata": {
        "id": "VitksGFktxYA",
        "colab_type": "code",
        "outputId": "461cb65f-c687-4172-a570-78f0fdb391b7",
        "colab": {
          "base_uri": "https://localhost:8080/",
          "height": 71
        }
      },
      "source": [
        "class Test:\n",
        "  a=20\n",
        "  def __init__(self):\n",
        "    Test.b=10\n",
        "  def m1(self):\n",
        "    Test.c=30\n",
        "  @classmethod\n",
        "  def m2(cls):\n",
        "    cls.d=40\n",
        "    Test.e=50\n",
        "  @staticmethod\n",
        "  def m3():\n",
        "    Test.f=60\n",
        "Test.g=70\n",
        "print(Test.__dict__)\n",
        "t1=Test()\n",
        "t1.m1()\n",
        "Test.m2()\n",
        "Test.m3()\n",
        "print(Test.__dict__)"
      ],
      "execution_count": 0,
      "outputs": [
        {
          "output_type": "stream",
          "text": [
            "{'__module__': '__main__', 'a': 20, '__init__': <function Test.__init__ at 0x7f920dd46400>, 'm1': <function Test.m1 at 0x7f920dd46d90>, 'm2': <classmethod object at 0x7f920dd54208>, 'm3': <staticmethod object at 0x7f920dd544e0>, '__dict__': <attribute '__dict__' of 'Test' objects>, '__weakref__': <attribute '__weakref__' of 'Test' objects>, '__doc__': None, 'g': 70}\n",
            "{'__module__': '__main__', 'a': 20, '__init__': <function Test.__init__ at 0x7f920dd46400>, 'm1': <function Test.m1 at 0x7f920dd46d90>, 'm2': <classmethod object at 0x7f920dd54208>, 'm3': <staticmethod object at 0x7f920dd544e0>, '__dict__': <attribute '__dict__' of 'Test' objects>, '__weakref__': <attribute '__weakref__' of 'Test' objects>, '__doc__': None, 'g': 70, 'b': 10, 'c': 30, 'd': 40, 'e': 50, 'f': 60}\n"
          ],
          "name": "stdout"
        }
      ]
    },
    {
      "cell_type": "code",
      "metadata": {
        "id": "GRMpOMgguhbN",
        "colab_type": "code",
        "outputId": "adf3d805-9cdd-484e-a0fa-ca643a9dfbd3",
        "colab": {
          "base_uri": "https://localhost:8080/",
          "height": 187
        }
      },
      "source": [
        "class Test:\n",
        "  a=10\n",
        "  def __init__(self):\n",
        "    print('Inside constructor')\n",
        "    print(self.a,Test.a)\n",
        "  def m1(self):\n",
        "    print('Inside Instance method')\n",
        "    print(self.a,Test.a)\n",
        "  @classmethod\n",
        "  def m2(cls):\n",
        "    print('classmethod')\n",
        "    print(cls.a,Test.a)\n",
        "  @staticmethod\n",
        "  def m3():\n",
        "    print('static method')\n",
        "    print(Test.a)\n",
        "t1=Test()\n",
        "t1.m1()\n",
        "Test.m2()\n",
        "Test.m3()\n",
        "print('outside class')\n",
        "print(t1.a,Test.a)"
      ],
      "execution_count": 0,
      "outputs": [
        {
          "output_type": "stream",
          "text": [
            "Inside constructor\n",
            "10 10\n",
            "Inside Instance method\n",
            "10 10\n",
            "classmethod\n",
            "10 10\n",
            "static method\n",
            "10\n",
            "outside class\n",
            "10 10\n"
          ],
          "name": "stdout"
        }
      ]
    },
    {
      "cell_type": "code",
      "metadata": {
        "id": "gRHRTWdBz3pA",
        "colab_type": "code",
        "outputId": "cf300ddf-f76d-47ff-d5bc-ff35ac738780",
        "colab": {
          "base_uri": "https://localhost:8080/",
          "height": 68
        }
      },
      "source": [
        "class Test():\n",
        "  a=20\n",
        "  def __init__(self):\n",
        "    print('inside constuctor')\n",
        "    Test.a=200\n",
        "  def m1(self):\n",
        "    print('inside instancemethod')\n",
        "    Test.a=2000\n",
        "  @classmethod\n",
        "  def m2(cls):\n",
        "    cls.a=20000\n",
        "    Test.a=30\n",
        "  @staticmethod\n",
        "  def m3():\n",
        "    Test.a=300\n",
        "    print(Test.a)\n",
        "t=Test()\n",
        "t.m1()\n",
        "Test.m2()\n",
        "Test.m3()\n",
        "# Test.a=400\n",
        "# print(Test.a)\n",
        "\n"
      ],
      "execution_count": 0,
      "outputs": [
        {
          "output_type": "stream",
          "text": [
            "inside constuctor\n",
            "inside instancemethod\n",
            "300\n"
          ],
          "name": "stdout"
        }
      ]
    },
    {
      "cell_type": "code",
      "metadata": {
        "id": "62TrVO5V5C-Y",
        "colab_type": "code",
        "outputId": "2d064a77-bdb3-4348-f86d-76a1ce45cfed",
        "colab": {
          "base_uri": "https://localhost:8080/",
          "height": 88
        }
      },
      "source": [
        "class Test:\n",
        "  a=10\n",
        "  b=20\n",
        "  c=30\n",
        "  def __init__(self):\n",
        "    del Test.a\n",
        "  @classmethod\n",
        "  def m1(cls):\n",
        "    del cls.b\n",
        "\n",
        "print(Test.__dict__)\n",
        "t1=Test()\n",
        "del Test.c\n",
        "print(Test.__dict__)\n",
        "Test.m1()\n",
        "print(Test.__dict__)"
      ],
      "execution_count": 0,
      "outputs": [
        {
          "output_type": "stream",
          "text": [
            "{'__module__': '__main__', 'a': 10, 'b': 20, 'c': 30, '__init__': <function Test.__init__ at 0x7f3cecf552f0>, 'm1': <classmethod object at 0x7f3cecf4fe80>, '__dict__': <attribute '__dict__' of 'Test' objects>, '__weakref__': <attribute '__weakref__' of 'Test' objects>, '__doc__': None}\n",
            "{'__module__': '__main__', 'b': 20, '__init__': <function Test.__init__ at 0x7f3cecf552f0>, 'm1': <classmethod object at 0x7f3cecf4fe80>, '__dict__': <attribute '__dict__' of 'Test' objects>, '__weakref__': <attribute '__weakref__' of 'Test' objects>, '__doc__': None}\n",
            "{'__module__': '__main__', '__init__': <function Test.__init__ at 0x7f3cecf552f0>, 'm1': <classmethod object at 0x7f3cecf4fe80>, '__dict__': <attribute '__dict__' of 'Test' objects>, '__weakref__': <attribute '__weakref__' of 'Test' objects>, '__doc__': None}\n"
          ],
          "name": "stdout"
        }
      ]
    },
    {
      "cell_type": "code",
      "metadata": {
        "id": "OdpIkzkj6-FD",
        "colab_type": "code",
        "outputId": "20eafd8d-1f39-40ac-f6f1-7c4787b4e51d",
        "colab": {
          "base_uri": "https://localhost:8080/",
          "height": 51
        }
      },
      "source": [
        "class Test:\n",
        "  x=10\n",
        "  def __init__(self):\n",
        "    self.y=20\n",
        "t1=Test()\n",
        "t2=Test()\n",
        "Test.x=888\n",
        "t1.y=999\n",
        "print(t1.x,t1.y)#888,999\n",
        "print(t2.x,t2.y)#888,20\n"
      ],
      "execution_count": 0,
      "outputs": [
        {
          "output_type": "stream",
          "text": [
            "888 999\n",
            "888 20\n"
          ],
          "name": "stdout"
        }
      ]
    },
    {
      "cell_type": "code",
      "metadata": {
        "id": "Rg4rkZDi-bqv",
        "colab_type": "code",
        "outputId": "b5b3c4a6-47e1-4511-e340-b015173d6de4",
        "colab": {
          "base_uri": "https://localhost:8080/",
          "height": 51
        }
      },
      "source": [
        "class Test:\n",
        "  x=10\n",
        "  def __init__(self):\n",
        "    self.y=20\n",
        "t1=Test()\n",
        "t2=Test()\n",
        "t1.x=888\n",
        "t1.y=999\n",
        "print(t1.x,t1.y)\n",
        "print(t2.x,t2.y)"
      ],
      "execution_count": 0,
      "outputs": [
        {
          "output_type": "stream",
          "text": [
            "888 999\n",
            "10 20\n"
          ],
          "name": "stdout"
        }
      ]
    },
    {
      "cell_type": "markdown",
      "metadata": {
        "id": "CCBNfQJBbTeQ",
        "colab_type": "text"
      },
      "source": [
        "> **Local variables / Method level variables :**\n",
        "* while declaring the local variables we should not use self,cls,classname\n",
        "\n",
        "> **Global variables :**\n",
        "* From the class we can access global variables directly\n",
        "* within the method of a class we can declare global variables by using **global** keyword\n",
        "* If local variable is present, preference will be given to local variable\n"
      ]
    },
    {
      "cell_type": "code",
      "metadata": {
        "id": "Cz0pkbOfgSS8",
        "colab_type": "code",
        "outputId": "5c8dcc5a-db87-4d5d-acda-5e3e7b82c8bf",
        "colab": {
          "base_uri": "https://localhost:8080/",
          "height": 68
        }
      },
      "source": [
        "class Test():\n",
        "  def m1(self):\n",
        "    a=10\n",
        "    print(a)\n",
        "  def m2(self):\n",
        "    a=999\n",
        "    b=40\n",
        "    print(a)\n",
        "    print(b)\n",
        "t=Test()\n",
        "t.m1()\n",
        "t.m2()"
      ],
      "execution_count": 0,
      "outputs": [
        {
          "output_type": "stream",
          "text": [
            "10\n",
            "999\n",
            "40\n"
          ],
          "name": "stdout"
        }
      ]
    },
    {
      "cell_type": "code",
      "metadata": {
        "id": "qJHK--iDgoJH",
        "colab_type": "code",
        "outputId": "1766bb74-83c4-4582-98be-afbd5d813fd5",
        "colab": {
          "base_uri": "https://localhost:8080/",
          "height": 34
        }
      },
      "source": [
        "class Test:\n",
        "  def average(self,list):\n",
        "    result=sum(list)/len(list)\n",
        "    print('The average value is',result)\n",
        "t=Test()\n",
        "t.average([1,2,3,4,5,6,7,8,9,10])"
      ],
      "execution_count": 0,
      "outputs": [
        {
          "output_type": "stream",
          "text": [
            "The average value is 5.5\n"
          ],
          "name": "stdout"
        }
      ]
    },
    {
      "cell_type": "code",
      "metadata": {
        "id": "-m5oGMoeh5q9",
        "colab_type": "code",
        "outputId": "dd7a6cde-5f34-4665-c0b9-a9e2071e098b",
        "colab": {
          "base_uri": "https://localhost:8080/",
          "height": 68
        }
      },
      "source": [
        "x=20\n",
        "class Test():\n",
        "  x=40\n",
        "  def m1(self):\n",
        "    x=888\n",
        "    print(x)\n",
        "  def m2(self):\n",
        "    print(x)\n",
        "    print(Test.x)\n",
        "t=Test()\n",
        "t.m1()\n",
        "t.m2()"
      ],
      "execution_count": 0,
      "outputs": [
        {
          "output_type": "stream",
          "text": [
            "888\n",
            "20\n",
            "40\n"
          ],
          "name": "stdout"
        }
      ]
    },
    {
      "cell_type": "code",
      "metadata": {
        "id": "3Vgicxhyi7tA",
        "colab_type": "code",
        "outputId": "3dd7d226-a469-433c-fc92-261788c5186f",
        "colab": {
          "base_uri": "https://localhost:8080/",
          "height": 51
        }
      },
      "source": [
        " class Test():\n",
        "  global x\n",
        "  x=40\n",
        "  def m1(self):\n",
        "    # x=888\n",
        "    print(x)\n",
        "  def m2(self):\n",
        "    print(x)\n",
        "t=Test()\n",
        "t.m1()\n",
        "t.m2()"
      ],
      "execution_count": 0,
      "outputs": [
        {
          "output_type": "stream",
          "text": [
            "40\n",
            "40\n"
          ],
          "name": "stdout"
        }
      ]
    },
    {
      "cell_type": "code",
      "metadata": {
        "id": "Vcgjtge0kKgg",
        "colab_type": "code",
        "outputId": "72168234-af58-4622-9ebd-e80403afe4be",
        "colab": {
          "base_uri": "https://localhost:8080/",
          "height": 367
        }
      },
      "source": [
        "import sys\n",
        "class customer:\n",
        "  '''Customer class with bank related operations'''\n",
        "  bankname='My Andhra Bank'\n",
        "  def __init__(self,name,balance=0):\n",
        "    self.name=name\n",
        "    self.balance=balance\n",
        "  def deposit(self,amount):\n",
        "    self.balance=self.balance+amount\n",
        "    print('The balance in account after deposit is',self.balance)\n",
        "  def withdrawl(self,amount):\n",
        "    if self.amount>self.balance:\n",
        "      print('Inufficient balance in your account')\n",
        "      sys.exit()\n",
        "    self.balance=self.balance-amount\n",
        "    print('The balance in account after withdrawl is',self.balance)\n",
        "print('Welcome to',customer.bankname)\n",
        "name=input('Enter Your name : ')\n",
        "c=customer(name)\n",
        "while True:\n",
        "  print('d-Deposit\\nw-Withdrawl\\ne-Exit')\n",
        "  option = input('choose your option :')\n",
        "  if option== 'd' or option== 'D':\n",
        "    amount=float(input('Enter the amount to deposit:'))\n",
        "    c.deposit(amount)\n",
        "\n",
        "  elif option== 'w'or option== 'W':\n",
        "    amount=float(input('Enter the amount to withdrawl:'))\n",
        "    c.withdrawl(amount)\n",
        "\n",
        "  elif option=='e'or option== 'E':\n",
        "    print('Thanks for Banking with',customer.bankname)\n",
        "    sys.exit()\n",
        "  else:\n",
        "    print('choose valid options')\n",
        "\n",
        "\n"
      ],
      "execution_count": 0,
      "outputs": [
        {
          "output_type": "stream",
          "text": [
            "Welcome to My Andhra Bank\n",
            "Enter Your name : Reddy\n",
            "d-Deposit\n",
            "w-Withdrawl\n",
            "e-Exit\n",
            "choose your option :d\n",
            "Enter the amount to deposit:10000\n",
            "The balance in account after deposit is 10000.0\n",
            "d-Deposit\n",
            "w-Withdrawl\n",
            "e-Exit\n",
            "choose your option :e\n",
            "Thanks for Banking with My Andhra Bank\n"
          ],
          "name": "stdout"
        },
        {
          "output_type": "error",
          "ename": "SystemExit",
          "evalue": "ignored",
          "traceback": [
            "An exception has occurred, use %tb to see the full traceback.\n",
            "\u001b[0;31mSystemExit\u001b[0m\n"
          ]
        },
        {
          "output_type": "stream",
          "text": [
            "/usr/local/lib/python3.6/dist-packages/IPython/core/interactiveshell.py:2890: UserWarning: To exit: use 'exit', 'quit', or Ctrl-D.\n",
            "  warn(\"To exit: use 'exit', 'quit', or Ctrl-D.\", stacklevel=1)\n"
          ],
          "name": "stderr"
        }
      ]
    },
    {
      "cell_type": "markdown",
      "metadata": {
        "id": "wO0PndhFwA6i",
        "colab_type": "text"
      },
      "source": [
        "> **Methods :**\n",
        "* **Instance methods / object related methods** : If we are using atleast one instance variable\n",
        "* **class methods / class related methods** : If we are using only static variables but not instance variables\n",
        "* **static methods / general utility methods** : If we are not using any instance or static variables\n",
        "\n",
        "> **Instance methods / object related methods** : \n",
        "* If we are using atleast one instance variable\n",
        "* Inside class we use **self**\n",
        "* outside of the class by using **object reference**\n",
        "* > **Setter & Getter Methods :**\n",
        "  * def setvariablename(self,variablename):\n",
        "  * def getvariablename(self)\n",
        "  \n",
        "\n"
      ]
    },
    {
      "cell_type": "code",
      "metadata": {
        "id": "4V-4nIxH3z3Q",
        "colab_type": "code",
        "outputId": "bb9794a5-b559-497b-ead5-73b9ba1d74e7",
        "colab": {
          "base_uri": "https://localhost:8080/",
          "height": 238
        }
      },
      "source": [
        "class student():\n",
        "  def __init__(self,name,marks):\n",
        "    self.name=name\n",
        "    self.marks=marks\n",
        "  def display(self):\n",
        "    print('Hi',self.name)\n",
        "    print('Your marks is', self.marks)\n",
        "  def grade(self):\n",
        "    if self.marks>60:\n",
        "      print('You Got First Grade')\n",
        "    elif self.marks >50:\n",
        "      print('You Got Second Grade')\n",
        "    elif self.marks>=35:\n",
        "      print('You Got Third Grade')\n",
        "    else:\n",
        "      print('You are Failed')\n",
        "n=int(input ('Number of students : '))\n",
        "for i in range(n):\n",
        "  name=input('Enter the name : ')\n",
        "  marks=int(input ('Enter the marks :'))\n",
        "  s=student(name,marks)\n",
        "  s.display()\n",
        "  s.grade()\n",
        "  print('*'*20)\n"
      ],
      "execution_count": 0,
      "outputs": [
        {
          "output_type": "stream",
          "text": [
            "Number of students : 2\n",
            "Enter the name : y\n",
            "Enter the marks :60\n",
            "Hi y\n",
            "Your marks is 60\n",
            "You Got Second Grade\n",
            "********************\n",
            "Enter the name : t\n",
            "Enter the marks :60\n",
            "Hi t\n",
            "Your marks is 60\n",
            "You Got Second Grade\n",
            "********************\n"
          ],
          "name": "stdout"
        }
      ]
    },
    {
      "cell_type": "code",
      "metadata": {
        "id": "417bUszl6nJw",
        "colab_type": "code",
        "outputId": "cf51abd7-44c1-459b-a407-52af27b4443d",
        "colab": {
          "base_uri": "https://localhost:8080/",
          "height": 102
        }
      },
      "source": [
        "class student:\n",
        "  def setname(self,name):\n",
        "    self.name=name\n",
        "  def getname(self):\n",
        "    return self.name\n",
        "  def setmarks(self,marks):\n",
        "    self.marks=marks\n",
        "  def getmarks(self):\n",
        "    return self.marks\n",
        "n=int(input('Enter the number of students : '))\n",
        "for  i in range(n):\n",
        "  name=input('Enter the name of student :')\n",
        "  marks=int(input('Enter the marks :'))\n",
        "  s=student()\n",
        "  s.setname(name)\n",
        "  s.setmarks(marks)\n",
        "  print('Hi',s.getname())\n",
        "  print('Your marks :',s.getmarks())"
      ],
      "execution_count": 0,
      "outputs": [
        {
          "output_type": "stream",
          "text": [
            "Enter the number of students : 1\n",
            "Enter the name of student :n\n",
            "Enter the marks :80\n",
            "Hi n\n",
            "Your marks : 80\n"
          ],
          "name": "stdout"
        }
      ]
    },
    {
      "cell_type": "markdown",
      "metadata": {
        "id": "TV4003oKDtq1",
        "colab_type": "text"
      },
      "source": [
        "> **class methods / class related methods :**\n",
        "* Inside method if we are accessing only static variables then we go for class methods\n",
        "* we should use **@classmethod** decorator\n",
        "\n",
        "> **Instance method Vs Class method vs Static method:**\n",
        "* **Instance Method:**\n",
        "  * **definition :**Inside method body if we are using atleast one instance variable then compulsory we should declare that method as Instance method\n",
        "  * **decorator :** To declare instance method we are not required to use any decorator\n",
        "  * **first argument :**The first argument to the instance method should be **self** ,which is reference to the current object and by using self we can access instance variable inside the method\n",
        "  * **Access :**Inside instance method we can access both instance and static variables\n",
        "  * **calling :**we can call instance method by using **object reference**\n",
        "\n",
        "* **Class method :**\n",
        "  * **definition :**Inside method body if we are using only static variables then it is highly recommended to declare that method as class method\n",
        "  * **decorator :**To declare class method compulsory we should use **@classmethod** decorator\n",
        "  * **first argument :**The first argument to the class method sholud be **cls** , which is reference variable to current class object and by using that we can access static variables\n",
        "  * **Access :**Inside class method we can access only static variables and we cannot access instance variables \n",
        "  * **calling :**we can call classmethod either by using **object reference** or by **classname**,but recomended to use class name\n",
        "\n",
        "* **Static method :**\n",
        "  * **definition :**If we are not using any instance variables and any static variables inside method body, to define such type of general utility methods we should go for static methods \n",
        "  * **decorator :** **@staticmethod** decorator is optional\n",
        "  * **calling :**we can call staticmethods either by using **object reference** or by **classname**,but recomended to use class name\n"
      ]
    },
    {
      "cell_type": "code",
      "metadata": {
        "id": "UpzkR0zaRqYQ",
        "colab_type": "code",
        "outputId": "eec45eb2-14e9-4f55-eff3-5a87f01a0219",
        "colab": {
          "base_uri": "https://localhost:8080/",
          "height": 51
        }
      },
      "source": [
        "class Animal:\n",
        "  legs=4\n",
        "  @classmethod\n",
        "  def walk(cls,name):\n",
        "    print('{} walks with {} legs' .format(name,cls.legs))\n",
        "Animal.walk('Dog')\n",
        "Animal.walk('cow')"
      ],
      "execution_count": 0,
      "outputs": [
        {
          "output_type": "stream",
          "text": [
            "Dog walks with 4 legs\n",
            "cow walks with 4 legs\n"
          ],
          "name": "stdout"
        }
      ]
    },
    {
      "cell_type": "code",
      "metadata": {
        "id": "NiOTJaMWSLlS",
        "colab_type": "code",
        "outputId": "0c6b9adf-b444-4a0e-b169-a193c89d4ac4",
        "colab": {
          "base_uri": "https://localhost:8080/",
          "height": 51
        }
      },
      "source": [
        "class Test:\n",
        "  count=0\n",
        "  def __init__(self):\n",
        "    Test.count=Test.count+1\n",
        "\n",
        "  @classmethod\n",
        "  def getnumberofobjects(cls):\n",
        "    print('Number of objects is',cls.count)\n",
        "t1=Test()\n",
        "t2=Test()\n",
        "t3=Test()\n",
        "t1.getnumberofobjects()\n",
        "Test.getnumberofobjects()"
      ],
      "execution_count": 0,
      "outputs": [
        {
          "output_type": "stream",
          "text": [
            "Number of objects is 3\n",
            "Number of objects is 3\n"
          ],
          "name": "stdout"
        }
      ]
    },
    {
      "cell_type": "markdown",
      "metadata": {
        "id": "rnFAb5FlU_UQ",
        "colab_type": "text"
      },
      "source": [
        "> **static method :**\n",
        "* Just general utility method / helper method\n",
        "* we can call static method using class name or by object reference\n",
        "* **@staticmethod** decorator is used in static method\n"
      ]
    },
    {
      "cell_type": "code",
      "metadata": {
        "id": "JpOKpzh6WiqT",
        "colab_type": "code",
        "outputId": "13489cc9-386d-4ca8-bfb6-aec3895f99b2",
        "colab": {
          "base_uri": "https://localhost:8080/",
          "height": 68
        }
      },
      "source": [
        "class pymath:\n",
        "  @staticmethod\n",
        "  def add(x,y):\n",
        "    print('The sum is :',x+y)\n",
        "  @staticmethod\n",
        "  def product(x,y):\n",
        "    print('The product is :',x*y)\n",
        "  @staticmethod\n",
        "  def average(x,y):\n",
        "    print('The average is :',(x+y)/2)\n",
        "pymath.add(10,20)\n",
        "pymath.product(10,20)\n",
        "p=pymath()\n",
        "p.average(10,20)"
      ],
      "execution_count": 0,
      "outputs": [
        {
          "output_type": "stream",
          "text": [
            "The sum is : 30\n",
            "The product is : 200\n",
            "The average is : 15.0\n"
          ],
          "name": "stdout"
        }
      ]
    },
    {
      "cell_type": "markdown",
      "metadata": {
        "id": "4NQIZO_Xal0a",
        "colab_type": "text"
      },
      "source": [
        "> **If we are not using Decorator :**\n",
        "* For class method ,**@classmethod** decorator is mandatory\n",
        "* For static method , **@staticmethod** decorator is optional\n",
        "* without decorator the method can be either instance or static method\n",
        "* If we are calling by using **object reference** then it is **Instance method**\n",
        "* If we are calling by using **class name** the it is **Static method**\n"
      ]
    },
    {
      "cell_type": "code",
      "metadata": {
        "id": "h_fTxhmNXZAJ",
        "colab_type": "code",
        "outputId": "d32c0ef3-12c8-47f3-e063-31eacc999052",
        "colab": {
          "base_uri": "https://localhost:8080/",
          "height": 214
        }
      },
      "source": [
        "class Test:\n",
        "  def m1():\n",
        "    print('some method')\n",
        "Test.m1()\n",
        "t1=Test()\n",
        "t1.m1()\n"
      ],
      "execution_count": 0,
      "outputs": [
        {
          "output_type": "stream",
          "text": [
            "some method\n"
          ],
          "name": "stdout"
        },
        {
          "output_type": "error",
          "ename": "TypeError",
          "evalue": "ignored",
          "traceback": [
            "\u001b[0;31m---------------------------------------------------------------------------\u001b[0m",
            "\u001b[0;31mTypeError\u001b[0m                                 Traceback (most recent call last)",
            "\u001b[0;32m<ipython-input-47-56acf796ab3a>\u001b[0m in \u001b[0;36m<module>\u001b[0;34m()\u001b[0m\n\u001b[1;32m      4\u001b[0m \u001b[0mTest\u001b[0m\u001b[0;34m.\u001b[0m\u001b[0mm1\u001b[0m\u001b[0;34m(\u001b[0m\u001b[0;34m)\u001b[0m\u001b[0;34m\u001b[0m\u001b[0;34m\u001b[0m\u001b[0m\n\u001b[1;32m      5\u001b[0m \u001b[0mt1\u001b[0m\u001b[0;34m=\u001b[0m\u001b[0mTest\u001b[0m\u001b[0;34m(\u001b[0m\u001b[0;34m)\u001b[0m\u001b[0;34m\u001b[0m\u001b[0;34m\u001b[0m\u001b[0m\n\u001b[0;32m----> 6\u001b[0;31m \u001b[0mt1\u001b[0m\u001b[0;34m.\u001b[0m\u001b[0mm1\u001b[0m\u001b[0;34m(\u001b[0m\u001b[0;34m)\u001b[0m\u001b[0;34m\u001b[0m\u001b[0;34m\u001b[0m\u001b[0m\n\u001b[0m",
            "\u001b[0;31mTypeError\u001b[0m: m1() takes 0 positional arguments but 1 was given"
          ]
        }
      ]
    },
    {
      "cell_type": "code",
      "metadata": {
        "id": "DtpcXTyDaGdg",
        "colab_type": "code",
        "outputId": "107062a0-95ce-432a-c6f9-625c4816d401",
        "colab": {
          "base_uri": "https://localhost:8080/",
          "height": 34
        }
      },
      "source": [
        "class Test:\n",
        "  def m1(x):\n",
        "    print('some method')\n",
        "t=Test()\n",
        "t.m1()"
      ],
      "execution_count": 0,
      "outputs": [
        {
          "output_type": "stream",
          "text": [
            "some method\n"
          ],
          "name": "stdout"
        }
      ]
    },
    {
      "cell_type": "markdown",
      "metadata": {
        "id": "LFW4Q6Nk5zTA",
        "colab_type": "text"
      },
      "source": [
        "\n",
        "\n",
        "> **How to access members of one class inside another class :**\n",
        "\n"
      ]
    },
    {
      "cell_type": "code",
      "metadata": {
        "id": "Y0vsxLtV6B9T",
        "colab_type": "code",
        "outputId": "232dedce-9829-4878-b03c-b01fcfa6375b",
        "colab": {
          "base_uri": "https://localhost:8080/",
          "height": 68
        }
      },
      "source": [
        "class Employee:\n",
        "  def __init__(self,eno,ename,esal):\n",
        "    self.eno=eno\n",
        "    self.ename=ename\n",
        "    self.esal=esal\n",
        "  def display(self):\n",
        "    print('Employee Number : ', self.eno)\n",
        "    print('Employee Name : ',self.ename)\n",
        "    print('Employee Salary : ',self.esal)\n",
        "class Test:\n",
        "  def modify(emp):\n",
        "    emp.esal=emp.esal+10000\n",
        "    emp.display()\n",
        "e=Employee(1,'Reddy',70000)\n",
        "Test.modify(e)\n"
      ],
      "execution_count": 0,
      "outputs": [
        {
          "output_type": "stream",
          "text": [
            "Employee Number :  1\n",
            "Employee Name :  Reddy\n",
            "Employee Salary :  80000\n"
          ],
          "name": "stdout"
        }
      ]
    },
    {
      "cell_type": "markdown",
      "metadata": {
        "id": "ICVO2g5j7-F9",
        "colab_type": "text"
      },
      "source": [
        "\n",
        "\n",
        "> **Inner class :**\n",
        "* The class which is declared inside the another class \n",
        "* Without existing outer class object there is no chance of existing inner class object.Inner class object is always associated outer class object\n",
        "\n",
        "\n"
      ]
    },
    {
      "cell_type": "code",
      "metadata": {
        "id": "5-X4y-3f-xb4",
        "colab_type": "code",
        "outputId": "6f9a24be-5cde-46de-d216-819df70af1a6",
        "colab": {
          "base_uri": "https://localhost:8080/",
          "height": 68
        }
      },
      "source": [
        "class outer:\n",
        "  def __init__(self):\n",
        "    print('outer class object creation')\n",
        "  class inner:\n",
        "    def __init__(self):\n",
        "      print('inner class object creation')\n",
        "    def m1(self):\n",
        "      print('inner class method')\n",
        "o=outer()\n",
        "i=o.inner()\n",
        "i.m1()\n",
        "# i=outer().inner().m1()\n",
        "  "
      ],
      "execution_count": 0,
      "outputs": [
        {
          "output_type": "stream",
          "text": [
            "outer class object creation\n",
            "inner class object creation\n",
            "inner class method\n"
          ],
          "name": "stdout"
        }
      ]
    },
    {
      "cell_type": "code",
      "metadata": {
        "id": "lSmvod4A_YJj",
        "colab_type": "code",
        "outputId": "3757b069-213a-4e6b-ddf7-737c09860866",
        "colab": {
          "base_uri": "https://localhost:8080/",
          "height": 51
        }
      },
      "source": [
        "class person:\n",
        "  def __init__(self,name,dd,mm,yyyy):\n",
        "    self.name=name\n",
        "    self.dob=self.DOB(dd,mm,yyyy)\n",
        "  def display(self):\n",
        "    print('Name : ',self.name)\n",
        "    self.dob.display()\n",
        "  class DOB:\n",
        "    def __init__(self,dd,mm,yyyy):\n",
        "      self.dd=dd\n",
        "      self.mm=mm\n",
        "      self.yyyy=yyyy\n",
        "    def display(self):\n",
        "      print('DOB = {}/{}/{}'.format(self.dd,self.mm,self.yyyy))\n",
        "p=person('Gowtham',12,1,2020)\n",
        "p.display()"
      ],
      "execution_count": 0,
      "outputs": [
        {
          "output_type": "stream",
          "text": [
            "Name :  Gowtham\n",
            "DOB = 12/1/2020\n"
          ],
          "name": "stdout"
        }
      ]
    },
    {
      "cell_type": "code",
      "metadata": {
        "id": "REwKNu4XQhyo",
        "colab_type": "code",
        "outputId": "22b6f347-acbb-4921-af16-dcd7cc04b918",
        "colab": {
          "base_uri": "https://localhost:8080/",
          "height": 68
        }
      },
      "source": [
        "class human:\n",
        "  def __init__(self):\n",
        "    self.name='Reddy'\n",
        "    self.head=self.head()\n",
        "    \n",
        "  def display(self):\n",
        "    print('Name : ',self.name)\n",
        "    self.head.talk()\n",
        "    self.head.brain.think()\n",
        "\n",
        "  class head:\n",
        "    def __init__(self):\n",
        "      self.brain=self.brain()\n",
        "    def talk(self):\n",
        "      print('Talking....................')\n",
        "    class brain:\n",
        "      def think(self):\n",
        "        print('Thinking.................')\n",
        "h=human()\n",
        "h.display()"
      ],
      "execution_count": 0,
      "outputs": [
        {
          "output_type": "stream",
          "text": [
            "Name :  Reddy\n",
            "Talking....................\n",
            "Thinking.................\n"
          ],
          "name": "stdout"
        }
      ]
    },
    {
      "cell_type": "markdown",
      "metadata": {
        "id": "uMgitzG6W-XI",
        "colab_type": "text"
      },
      "source": [
        "\n",
        "\n",
        "> **Inner method :**\n",
        "* The mehod which is declared inside the another method\n",
        "* code reusability\n",
        "\n",
        "\n"
      ]
    },
    {
      "cell_type": "code",
      "metadata": {
        "id": "umD0-q8LXdXg",
        "colab_type": "code",
        "outputId": "476ca9d9-ba8b-4076-b937-917106fac69f",
        "colab": {
          "base_uri": "https://localhost:8080/",
          "height": 272
        }
      },
      "source": [
        "class Test:\n",
        "  def m1(self):\n",
        "    def sum(a,b):\n",
        "      print('First argument : ',a)\n",
        "      print('Second argument : ',b)\n",
        "      print('Sum : ',a+b)\n",
        "      print('Product : ',a*b)\n",
        "      print('*'*20)\n",
        "    sum(10,20)\n",
        "    sum(100,200)\n",
        "    sum(1,2)\n",
        "t=Test()\n",
        "t.m1()\n"
      ],
      "execution_count": 0,
      "outputs": [
        {
          "output_type": "stream",
          "text": [
            "First argument :  10\n",
            "Second argument :  20\n",
            "Sum :  30\n",
            "Product :  200\n",
            "********************\n",
            "First argument :  100\n",
            "Second argument :  200\n",
            "Sum :  300\n",
            "Product :  20000\n",
            "********************\n",
            "First argument :  1\n",
            "Second argument :  2\n",
            "Sum :  3\n",
            "Product :  2\n",
            "********************\n"
          ],
          "name": "stdout"
        }
      ]
    },
    {
      "cell_type": "markdown",
      "metadata": {
        "id": "ZylsRhSxbQhE",
        "colab_type": "text"
      },
      "source": [
        "\n",
        "\n",
        "> **polymorphism :**\n",
        "* **poly** means **many** , **morphs** means **forms**, i.e. one name with multiple forms\n",
        "* Duck Typing philosophy of python \n",
        "* overloading \n",
        "  * operator overloading\n",
        "  * method overloading\n",
        "  * constructor overloading\n",
        "* overriding\n",
        "  * method overriding \n",
        "  * constructor overriding \n",
        "\n",
        "* **overloading :**\n",
        "  * **operator overloading using magic methods :**\n",
        "    * '+' ===> __ add __(self,other)\n",
        "    * '-' ===> __ sub __(self,other)\n",
        "    * '*' ===> __ mul __(self,other)\n",
        "    * '/' ===> __ div __(self,other)\n",
        "    * '% '==> __ mod __()\n",
        "    * '//'==> __ floordiv __()\n",
        "    * '**' ==> __ pow __()\n",
        "    * '+='  ==> __ iadd __()\n",
        "    * '-=' ==> __ isub __()\n",
        "    * '*=' ==> __ imul __()\n",
        "    * '/=' ==> __ idiv __()\n",
        "    * '%=' ==> __ imod __()\n",
        "    * '//=' ==> __ ifloordiv __()\n",
        "    * '**'= ==> __ ipow __()\n",
        "    * '>' ==> __ gt() __\n",
        "    * '>=' ==> __ ge() __\n",
        "    * '<' ==>__ lt() __\n",
        "    * '<=' ==>__ le()__\n",
        "    * '==' ==> __ eq() __\n",
        "    * '!=' ==> __ ne() __\n",
        "  * when ever we are calling **+** operator, then __ add __() method will be called. + operator return type will become __ add __() method return type\n",
        "  *when ever we are printing any object reference / object then __ str __() method will be called. If we are not providing this method then default implementation will be executed\n",
        "  \n",
        "\n",
        "\n",
        "    "
      ]
    },
    {
      "cell_type": "code",
      "metadata": {
        "id": "zlIZOgJBoHB_",
        "colab_type": "code",
        "outputId": "a92cf996-498d-4409-db14-4b2ce9042b35",
        "colab": {
          "base_uri": "https://localhost:8080/",
          "height": 85
        }
      },
      "source": [
        "class Book:\n",
        "  def __init__(self,pages):\n",
        "    self.pages=pages\n",
        "  def __add__(self,other):\n",
        "    return self.pages+other.pages\n",
        "  def __sub__(self,other):\n",
        "    return self.pages-other.pages\n",
        "  def __mul__(self,other):\n",
        "    return self.pages*other.pages\n",
        "b1=Book(300)\n",
        "b2=Book(600)\n",
        "print(b1+b2)\n",
        "print(b1-b2)\n",
        "print(b1*b2)\n",
        "print(b1)"
      ],
      "execution_count": 0,
      "outputs": [
        {
          "output_type": "stream",
          "text": [
            "900\n",
            "-300\n",
            "180000\n",
            "<__main__.Book object at 0x7f106665e2e8>\n"
          ],
          "name": "stdout"
        }
      ]
    },
    {
      "cell_type": "code",
      "metadata": {
        "id": "h17urAELor_U",
        "colab_type": "code",
        "outputId": "6816cbf6-ec8a-428e-9bf0-fee9e7950784",
        "colab": {
          "base_uri": "https://localhost:8080/",
          "height": 51
        }
      },
      "source": [
        "class Book:\n",
        "  def __init__(self,pages):\n",
        "    self.pages=pages\n",
        "  def __str__(self):\n",
        "    return 'The Number of pages :'+str(self.pages)\n",
        "  def __add__(self,other):\n",
        "    total=self.pages+other.pages\n",
        "    b=Book(total)\n",
        "    return b\n",
        "b1=Book(300)\n",
        "b2=Book(600)\n",
        "b3=Book(100)\n",
        "b4=Book(900)\n",
        "print(b1+b2+b3+b4)\n",
        "print(b1)"
      ],
      "execution_count": 0,
      "outputs": [
        {
          "output_type": "stream",
          "text": [
            "The Number of pages :1900\n",
            "The Number of pages :300\n"
          ],
          "name": "stdout"
        }
      ]
    },
    {
      "cell_type": "code",
      "metadata": {
        "id": "VWvczt7BUyVk",
        "colab_type": "code",
        "outputId": "257b9a03-f83d-4427-e915-8564b4bdd063",
        "colab": {
          "base_uri": "https://localhost:8080/",
          "height": 51
        }
      },
      "source": [
        "class Employee:\n",
        "  def __init__(self,name,salary):\n",
        "    self.name=name\n",
        "    self.salary=salary\n",
        "\n",
        "  def __mul__(self,other):\n",
        "    return self.salary*other.days\n",
        "class Timesheet:\n",
        "  def __init__(self,name,days):\n",
        "    self.name=name\n",
        "    self.days=days\n",
        "  \n",
        "  def __mul__(self,other):\n",
        "    return self.days*other.salary\n",
        "e=Employee('Reddy',2000)\n",
        "t=Timesheet('Reddy',31)\n",
        "print('This Month Salary',e*t)\n",
        "print('This Month Salary',t*e)\n"
      ],
      "execution_count": 0,
      "outputs": [
        {
          "output_type": "stream",
          "text": [
            "This Month Salary 62000\n",
            "This Month Salary 62000\n"
          ],
          "name": "stdout"
        }
      ]
    },
    {
      "cell_type": "markdown",
      "metadata": {
        "id": "tc3GtBHwWz2g",
        "colab_type": "text"
      },
      "source": [
        "\n",
        "\n",
        "> **method / constructor  overloading :**\n",
        "* **Def :**A method / constructor having same name but different arguments types\n",
        "* python won't provide support for method / constuctor overloading \n",
        "* **Reason :**since explicitly we are not specifying the type there is no possibility of overloading \n",
        "\n",
        "\n"
      ]
    },
    {
      "cell_type": "code",
      "metadata": {
        "id": "mfS16F3NXNGo",
        "colab_type": "code",
        "outputId": "d04f024e-d697-4a6c-9c5b-54e4364034b8",
        "colab": {
          "base_uri": "https://localhost:8080/",
          "height": 197
        }
      },
      "source": [
        "class Test:\n",
        "  def m1(self):\n",
        "    print('No-Arguments')\n",
        "  def m1(self,x):\n",
        "    print('1 - Argument')\n",
        "t=Test()\n",
        "t.m1()"
      ],
      "execution_count": 0,
      "outputs": [
        {
          "output_type": "error",
          "ename": "TypeError",
          "evalue": "ignored",
          "traceback": [
            "\u001b[0;31m---------------------------------------------------------------------------\u001b[0m",
            "\u001b[0;31mTypeError\u001b[0m                                 Traceback (most recent call last)",
            "\u001b[0;32m<ipython-input-3-1fcc6f42f11b>\u001b[0m in \u001b[0;36m<module>\u001b[0;34m()\u001b[0m\n\u001b[1;32m      5\u001b[0m     \u001b[0mprint\u001b[0m\u001b[0;34m(\u001b[0m\u001b[0;34m'1 - Argument'\u001b[0m\u001b[0;34m)\u001b[0m\u001b[0;34m\u001b[0m\u001b[0;34m\u001b[0m\u001b[0m\n\u001b[1;32m      6\u001b[0m \u001b[0mt\u001b[0m\u001b[0;34m=\u001b[0m\u001b[0mTest\u001b[0m\u001b[0;34m(\u001b[0m\u001b[0;34m)\u001b[0m\u001b[0;34m\u001b[0m\u001b[0;34m\u001b[0m\u001b[0m\n\u001b[0;32m----> 7\u001b[0;31m \u001b[0mt\u001b[0m\u001b[0;34m.\u001b[0m\u001b[0mm1\u001b[0m\u001b[0;34m(\u001b[0m\u001b[0;34m)\u001b[0m\u001b[0;34m\u001b[0m\u001b[0;34m\u001b[0m\u001b[0m\n\u001b[0m",
            "\u001b[0;31mTypeError\u001b[0m: m1() missing 1 required positional argument: 'x'"
          ]
        }
      ]
    },
    {
      "cell_type": "code",
      "metadata": {
        "id": "-oRwCiO4Xtik",
        "colab_type": "code",
        "outputId": "db3b7be9-1ab4-4b6f-d04d-702eda3cb93d",
        "colab": {
          "base_uri": "https://localhost:8080/",
          "height": 85
        }
      },
      "source": [
        "class Test:\n",
        "  def m1(self,x):\n",
        "    print(x)\n",
        "t=Test()\n",
        "t.m1(10)\n",
        "t.m1('Reddy')\n",
        "t.m1(10.24)\n",
        "t.m1(10+2j)"
      ],
      "execution_count": 0,
      "outputs": [
        {
          "output_type": "stream",
          "text": [
            "10\n",
            "Reddy\n",
            "10.24\n",
            "(10+2j)\n"
          ],
          "name": "stdout"
        }
      ]
    },
    {
      "cell_type": "markdown",
      "metadata": {
        "id": "-dSG2tNOnVnF",
        "colab_type": "text"
      },
      "source": [
        "\n",
        "\n",
        "> **method overriding :**\n",
        "* **Method overriding** is an ability of any object-oriented programming language that allows a **subclass or child class** to provide a specific implementation of a method that is already provided by one of its **super-classes or parent classes**. \n",
        "* When a method in a **subclass** has the same name, same parameters or signature and same return type(or sub-type) as a method in its super-class, then the method in the subclass is said to **override** the method in the **super-class**\n",
        "* method overriding can be achieved to change functionality of parent class function\n",
        "\n",
        "> **super() :**\n",
        "* **super()** provides the **access to those methods of the super-class** (parent class) **which have been overridden in a sub-class** (child class) that inherits from it.\n",
        "* **super()** directly calls the immediate **parent class** method and follows MRO algorithm\n",
        "\n",
        "> **How to call particular parent class method by using super method :**\n",
        "* Two ways we can achieve this:\n",
        "  * Type1: **parentclassname.methodname(self)**\n",
        "  * Type2: **super(parentclass,self).methodname**\n",
        "* From child class by using **super()** we cannot call parent class instance variables, we should use **self** only\n",
        "* From child class by using **super()** we can call parent class static variables\n",
        "\n",
        "\n",
        "\n"
      ]
    },
    {
      "cell_type": "code",
      "metadata": {
        "id": "1q15QkqMo5jz",
        "colab_type": "code",
        "outputId": "ca0c57a0-13e6-48ef-a305-976ef3a74345",
        "colab": {
          "base_uri": "https://localhost:8080/",
          "height": 34
        }
      },
      "source": [
        "class A:\n",
        "  def show(self):\n",
        "    print('In A class')\n",
        "class B(A):\n",
        "  def show(self):\n",
        "    print('In B class')\n",
        "b=B()\n",
        "b.show()"
      ],
      "execution_count": 0,
      "outputs": [
        {
          "output_type": "stream",
          "text": [
            "In B class\n"
          ],
          "name": "stdout"
        }
      ]
    },
    {
      "cell_type": "code",
      "metadata": {
        "id": "tW_KTMhTpVex",
        "colab_type": "code",
        "outputId": "63da5412-0277-4e42-a9e4-e596723b9c67",
        "colab": {
          "base_uri": "https://localhost:8080/",
          "height": 119
        }
      },
      "source": [
        "class P:\n",
        "  def __init__(self):\n",
        "    print('In parent class')\n",
        "  def property(self):\n",
        "    print('cash + land')\n",
        "  def tv(self):\n",
        "    print('samsung')\n",
        "class C(P):\n",
        "  def __init__(self):\n",
        "    print('In child class')\n",
        "  def tv(self):\n",
        "    super().tv()\n",
        "    print('sony')\n",
        "    super().tv()\n",
        "    super().__init__()\n",
        "c=C()\n",
        "c.property()\n",
        "c.tv()"
      ],
      "execution_count": 0,
      "outputs": [
        {
          "output_type": "stream",
          "text": [
            "In child class\n",
            "cash + land\n",
            "samsung\n",
            "sony\n",
            "samsung\n",
            "In parent class\n"
          ],
          "name": "stdout"
        }
      ]
    },
    {
      "cell_type": "code",
      "metadata": {
        "id": "uDE3fWh1JQP4",
        "colab_type": "code",
        "outputId": "afa265f9-8b7d-4264-c89f-8b81406c297c",
        "colab": {
          "base_uri": "https://localhost:8080/",
          "height": 187
        }
      },
      "source": [
        "class Person:\n",
        "  def __init__(self,name,age):\n",
        "    self.name=name\n",
        "    self.age=age\n",
        "  def display(self):\n",
        "    print('Name : ',self.name)\n",
        "    print('Age : ',self.age)\n",
        "\n",
        "class Student(Person):\n",
        "  def __init__(self,name,age,rollno,marks):\n",
        "    super().__init__(name,age)\n",
        "    self.rollno=rollno\n",
        "    self.marks=marks\n",
        "  def display(self):\n",
        "    super().display()\n",
        "    print('Rollno : ',self.rollno)\n",
        "    print('Marks : ',self.marks)\n",
        "    print('*'*20)\n",
        "\n",
        "class Teacher(Person):\n",
        "  def __init__(self,name,age,salary,subject):\n",
        "    super().__init__(name,age)\n",
        "    self.salary=salary\n",
        "    self.subject=subject\n",
        "  def display(self):\n",
        "    super().display()\n",
        "    print('Salary : ',self.salary)\n",
        "    print('subject : ',self.subject)\n",
        "    print('*'*20)\n",
        "\n",
        "s=Student('Reddy',26,11,98)\n",
        "s.display()\n",
        "t=Teacher('Gautam',28,100000,'AI')\n",
        "t.display()\n"
      ],
      "execution_count": 0,
      "outputs": [
        {
          "output_type": "stream",
          "text": [
            "Name :  Reddy\n",
            "Age :  26\n",
            "Rollno :  11\n",
            "Marks :  98\n",
            "********************\n",
            "Name :  Gautam\n",
            "Age :  28\n",
            "Salary :  100000\n",
            "subject :  AI\n",
            "********************\n"
          ],
          "name": "stdout"
        }
      ]
    },
    {
      "cell_type": "code",
      "metadata": {
        "id": "v4eY4h_7QfR-",
        "colab_type": "code",
        "outputId": "a430df27-7ff0-4076-f3e4-f095f1dd596b",
        "colab": {
          "base_uri": "https://localhost:8080/",
          "height": 68
        }
      },
      "source": [
        "'''Accessing the particular parent class method by using super method'''\n",
        "class A:\n",
        "  def m1(self):\n",
        "    print('A class method')\n",
        "class B(A):\n",
        "  def m1(self):\n",
        "    print('B class method')\n",
        "class C(B):\n",
        "  def m1(self):\n",
        "    print('C class method')\n",
        "class D(C):\n",
        "  def m1(self):\n",
        "    print('D class method')\n",
        "class E(D):\n",
        "  def m1(self):\n",
        "    print('E class method')\n",
        "    super(D,self).m1()# Type 2\n",
        "    A.m1(self)# Type 1\n",
        "e=E()\n",
        "e.m1()"
      ],
      "execution_count": 0,
      "outputs": [
        {
          "output_type": "stream",
          "text": [
            "E class method\n",
            "C class method\n",
            "A class method\n"
          ],
          "name": "stdout"
        }
      ]
    },
    {
      "cell_type": "code",
      "metadata": {
        "id": "dFF3eLjpTena",
        "colab_type": "code",
        "outputId": "47c26f26-d295-43aa-944f-61ae8319341c",
        "colab": {
          "base_uri": "https://localhost:8080/",
          "height": 350
        }
      },
      "source": [
        "class P:\n",
        "  a=10\n",
        "  def __init__(self):\n",
        "    self.b=20\n",
        "class C(P):\n",
        "  def m1(self):\n",
        "    print(super().a)\n",
        "    print(self.b)\n",
        "    print(super().b)\n",
        "c=C()\n",
        "c.m1()"
      ],
      "execution_count": 0,
      "outputs": [
        {
          "output_type": "stream",
          "text": [
            "10\n",
            "20\n"
          ],
          "name": "stdout"
        },
        {
          "output_type": "error",
          "ename": "AttributeError",
          "evalue": "ignored",
          "traceback": [
            "\u001b[0;31m---------------------------------------------------------------------------\u001b[0m",
            "\u001b[0;31mAttributeError\u001b[0m                            Traceback (most recent call last)",
            "\u001b[0;32m<ipython-input-10-def671e36b1c>\u001b[0m in \u001b[0;36m<module>\u001b[0;34m()\u001b[0m\n\u001b[1;32m      9\u001b[0m     \u001b[0mprint\u001b[0m\u001b[0;34m(\u001b[0m\u001b[0msuper\u001b[0m\u001b[0;34m(\u001b[0m\u001b[0;34m)\u001b[0m\u001b[0;34m.\u001b[0m\u001b[0mb\u001b[0m\u001b[0;34m)\u001b[0m\u001b[0;34m\u001b[0m\u001b[0;34m\u001b[0m\u001b[0m\n\u001b[1;32m     10\u001b[0m \u001b[0mc\u001b[0m\u001b[0;34m=\u001b[0m\u001b[0mC\u001b[0m\u001b[0;34m(\u001b[0m\u001b[0;34m)\u001b[0m\u001b[0;34m\u001b[0m\u001b[0;34m\u001b[0m\u001b[0m\n\u001b[0;32m---> 11\u001b[0;31m \u001b[0mc\u001b[0m\u001b[0;34m.\u001b[0m\u001b[0mm1\u001b[0m\u001b[0;34m(\u001b[0m\u001b[0;34m)\u001b[0m\u001b[0;34m\u001b[0m\u001b[0;34m\u001b[0m\u001b[0m\n\u001b[0m",
            "\u001b[0;32m<ipython-input-10-def671e36b1c>\u001b[0m in \u001b[0;36mm1\u001b[0;34m(self)\u001b[0m\n\u001b[1;32m      7\u001b[0m     \u001b[0mprint\u001b[0m\u001b[0;34m(\u001b[0m\u001b[0msuper\u001b[0m\u001b[0;34m(\u001b[0m\u001b[0;34m)\u001b[0m\u001b[0;34m.\u001b[0m\u001b[0ma\u001b[0m\u001b[0;34m)\u001b[0m\u001b[0;34m\u001b[0m\u001b[0;34m\u001b[0m\u001b[0m\n\u001b[1;32m      8\u001b[0m     \u001b[0mprint\u001b[0m\u001b[0;34m(\u001b[0m\u001b[0mself\u001b[0m\u001b[0;34m.\u001b[0m\u001b[0mb\u001b[0m\u001b[0;34m)\u001b[0m\u001b[0;34m\u001b[0m\u001b[0;34m\u001b[0m\u001b[0m\n\u001b[0;32m----> 9\u001b[0;31m     \u001b[0mprint\u001b[0m\u001b[0;34m(\u001b[0m\u001b[0msuper\u001b[0m\u001b[0;34m(\u001b[0m\u001b[0;34m)\u001b[0m\u001b[0;34m.\u001b[0m\u001b[0mb\u001b[0m\u001b[0;34m)\u001b[0m\u001b[0;34m\u001b[0m\u001b[0;34m\u001b[0m\u001b[0m\n\u001b[0m\u001b[1;32m     10\u001b[0m \u001b[0mc\u001b[0m\u001b[0;34m=\u001b[0m\u001b[0mC\u001b[0m\u001b[0;34m(\u001b[0m\u001b[0;34m)\u001b[0m\u001b[0;34m\u001b[0m\u001b[0;34m\u001b[0m\u001b[0m\n\u001b[1;32m     11\u001b[0m \u001b[0mc\u001b[0m\u001b[0;34m.\u001b[0m\u001b[0mm1\u001b[0m\u001b[0;34m(\u001b[0m\u001b[0;34m)\u001b[0m\u001b[0;34m\u001b[0m\u001b[0;34m\u001b[0m\u001b[0m\n",
            "\u001b[0;31mAttributeError\u001b[0m: 'super' object has no attribute 'b'"
          ]
        }
      ]
    },
    {
      "cell_type": "code",
      "metadata": {
        "id": "MUPtxKIfVCsO",
        "colab_type": "code",
        "outputId": "6e8210cc-8b20-40d8-988a-f85c485fd2cc",
        "colab": {
          "base_uri": "https://localhost:8080/",
          "height": 384
        }
      },
      "source": [
        "class P:\n",
        "  def __init__(self):\n",
        "    print('parent constructor')\n",
        "  def m1(self):\n",
        "    print('parent instance method')\n",
        "  @classmethod\n",
        "  def m2(cls):\n",
        "    print('parent class method')\n",
        "  @staticmethod\n",
        "  def m3():\n",
        "    a=4\n",
        "    print('parent static method')\n",
        "class C(P):\n",
        "  def __init__(self):\n",
        "    super().__init__()\n",
        "    super().m1()\n",
        "    super().m2()\n",
        "    super().m3()\n",
        "  def m1(self):\n",
        "    super().__init__()\n",
        "    super().m1()\n",
        "    super().m2()\n",
        "    super().m3()\n",
        "  @classmethod\n",
        "  def m2(cls):\n",
        "    # super().__init__()\n",
        "    # super().m1()\n",
        "    super().m2()\n",
        "    super().m3()\n",
        "c=C()\n",
        "# c.m1()\n",
        "C.m2()"
      ],
      "execution_count": 0,
      "outputs": [
        {
          "output_type": "stream",
          "text": [
            "parent constructor\n",
            "parent instance method\n",
            "parent class method\n",
            "parent static method\n"
          ],
          "name": "stdout"
        },
        {
          "output_type": "error",
          "ename": "TypeError",
          "evalue": "ignored",
          "traceback": [
            "\u001b[0;31m---------------------------------------------------------------------------\u001b[0m",
            "\u001b[0;31mTypeError\u001b[0m                                 Traceback (most recent call last)",
            "\u001b[0;32m<ipython-input-6-635ded794db8>\u001b[0m in \u001b[0;36m<module>\u001b[0;34m()\u001b[0m\n\u001b[1;32m     30\u001b[0m \u001b[0mc\u001b[0m\u001b[0;34m=\u001b[0m\u001b[0mC\u001b[0m\u001b[0;34m(\u001b[0m\u001b[0;34m)\u001b[0m\u001b[0;34m\u001b[0m\u001b[0;34m\u001b[0m\u001b[0m\n\u001b[1;32m     31\u001b[0m \u001b[0;31m# c.m1()\u001b[0m\u001b[0;34m\u001b[0m\u001b[0;34m\u001b[0m\u001b[0;34m\u001b[0m\u001b[0m\n\u001b[0;32m---> 32\u001b[0;31m \u001b[0mC\u001b[0m\u001b[0;34m.\u001b[0m\u001b[0mm2\u001b[0m\u001b[0;34m(\u001b[0m\u001b[0;34m)\u001b[0m\u001b[0;34m\u001b[0m\u001b[0;34m\u001b[0m\u001b[0m\n\u001b[0m",
            "\u001b[0;32m<ipython-input-6-635ded794db8>\u001b[0m in \u001b[0;36mm2\u001b[0;34m(cls)\u001b[0m\n\u001b[1;32m     24\u001b[0m   \u001b[0;34m@\u001b[0m\u001b[0mclassmethod\u001b[0m\u001b[0;34m\u001b[0m\u001b[0;34m\u001b[0m\u001b[0m\n\u001b[1;32m     25\u001b[0m   \u001b[0;32mdef\u001b[0m \u001b[0mm2\u001b[0m\u001b[0;34m(\u001b[0m\u001b[0mcls\u001b[0m\u001b[0;34m)\u001b[0m\u001b[0;34m:\u001b[0m\u001b[0;34m\u001b[0m\u001b[0;34m\u001b[0m\u001b[0m\n\u001b[0;32m---> 26\u001b[0;31m     \u001b[0msuper\u001b[0m\u001b[0;34m(\u001b[0m\u001b[0;34m)\u001b[0m\u001b[0;34m.\u001b[0m\u001b[0m__init__\u001b[0m\u001b[0;34m(\u001b[0m\u001b[0;34m)\u001b[0m\u001b[0;34m\u001b[0m\u001b[0;34m\u001b[0m\u001b[0m\n\u001b[0m\u001b[1;32m     27\u001b[0m     \u001b[0;31m# super().m1()\u001b[0m\u001b[0;34m\u001b[0m\u001b[0;34m\u001b[0m\u001b[0;34m\u001b[0m\u001b[0m\n\u001b[1;32m     28\u001b[0m     \u001b[0msuper\u001b[0m\u001b[0;34m(\u001b[0m\u001b[0;34m)\u001b[0m\u001b[0;34m.\u001b[0m\u001b[0mm2\u001b[0m\u001b[0;34m(\u001b[0m\u001b[0;34m)\u001b[0m\u001b[0;34m\u001b[0m\u001b[0;34m\u001b[0m\u001b[0m\n",
            "\u001b[0;31mTypeError\u001b[0m: __init__() missing 1 required positional argument: 'self'"
          ]
        }
      ]
    },
    {
      "cell_type": "markdown",
      "metadata": {
        "id": "5KcZ7X1yvj-D",
        "colab_type": "text"
      },
      "source": [
        "\n",
        "\n",
        "> **Duck Typing philosophy of python :**\n",
        "* If an object walks like a duck and quacks like a duck, then it is considered as Duck, i.e **python giving importance for behaviour of an object but not original type of object**. (other languages it will give importance to type of object)\n",
        "* If object contains quack() and walk() functionality then it is considered as Duck, eventhough originally it is not duck\n",
        "\n",
        "* **Advantages :**\n",
        "  * Readability of the code will be improved\n",
        "  * clear code and easy to understand\n",
        "\n",
        "> **Easier to Ask Forgiveness than Permission (EAFP) :**\n"
      ]
    },
    {
      "cell_type": "code",
      "metadata": {
        "id": "_T8mdFuqARMY",
        "colab_type": "code",
        "outputId": "b0538373-9e0a-489e-bb90-9ea7bf315414",
        "colab": {
          "base_uri": "https://localhost:8080/",
          "height": 51
        }
      },
      "source": [
        "class Duck:\n",
        "  def quack(self):\n",
        "    print('Quack..Quack..')\n",
        "class Monkey:\n",
        "  def quack(self):\n",
        "    print('Monkey talking like a duck: Quack..Quack')\n",
        "''' def invoke_quack(object):\n",
        "  # Non-pythonic code\n",
        "  if isinstance(object,Duck):\n",
        "    object.quack()\n",
        "  else:\n",
        "    print('To Quack object should be duck type') '''\n",
        "def invoke_quack(object):\n",
        "  # pythonic code\n",
        "  object.quack()\n",
        "d=Duck()\n",
        "m=Monkey()\n",
        "invoke_quack(d)\n",
        "invoke_quack(m)"
      ],
      "execution_count": 0,
      "outputs": [
        {
          "output_type": "stream",
          "text": [
            "Quack..Quack..\n",
            "Monkey talking like a duck: Quack..Quack\n"
          ],
          "name": "stdout"
        }
      ]
    },
    {
      "cell_type": "code",
      "metadata": {
        "id": "6F1c9JcOBnnf",
        "colab_type": "code",
        "outputId": "37231d38-21a9-42f4-ce10-1f1112c16814",
        "colab": {
          "base_uri": "https://localhost:8080/",
          "height": 51
        }
      },
      "source": [
        "class Duck:\n",
        "  def quack(self):\n",
        "    print('Quack..Quack..')\n",
        "class Monkey:\n",
        "  def talk(self):\n",
        "    print('Monkey talking like a duck: Quack..Quack')\n",
        "'''def invoke_quack(object):\n",
        "  # Non-pythonic code:LBYL (Look Before You Leave)\n",
        "  if hasattr(object,'quack'):\n",
        "    if callable(object.quack):\n",
        "      object.quack()'''\n",
        "def invoke_quack(object):\n",
        "  # pythonic code : EAFP\n",
        "  try: \n",
        "    object.quack()\n",
        "  except AttributeError as e:\n",
        "    print(e)\n",
        "\n",
        "d=Duck()\n",
        "m=Monkey()\n",
        "invoke_quack(d)\n",
        "invoke_quack(m)"
      ],
      "execution_count": 0,
      "outputs": [
        {
          "output_type": "stream",
          "text": [
            "Quack..Quack..\n",
            "'Monkey' object has no attribute 'quack'\n"
          ],
          "name": "stdout"
        }
      ]
    },
    {
      "cell_type": "code",
      "metadata": {
        "id": "FADSxItuRR2v",
        "colab_type": "code",
        "outputId": "051dc406-de0d-415a-f704-c6e2e70240c7",
        "colab": {
          "base_uri": "https://localhost:8080/",
          "height": 34
        }
      },
      "source": [
        "# student={'name':'Reddy','marks':98,'rollno':11}\n",
        "student={'name':'Reddy','marks':98}\n",
        "'''# Non-pythonic code:LBYL\n",
        "if 'name' in student and 'marks' in student and 'rollno' in student:\n",
        "  print('hello i am {name},my rollno:{rollno},my marks:{marks}'.format(**student))'''\n",
        "# pythonic code:EAFP\n",
        "try :\n",
        "  print('hello i am {name},my rollno:{rollno},my marks:{marks}'.format(**student))\n",
        "except KeyError as e:\n",
        "  print('missing {} key'.format(e))\n",
        "\n"
      ],
      "execution_count": 0,
      "outputs": [
        {
          "output_type": "stream",
          "text": [
            "missing 'rollno' key\n"
          ],
          "name": "stdout"
        }
      ]
    },
    {
      "cell_type": "code",
      "metadata": {
        "id": "5NV3kH1QWUIs",
        "colab_type": "code",
        "outputId": "460bdf32-042a-4237-959e-d70adff7ada6",
        "colab": {
          "base_uri": "https://localhost:8080/",
          "height": 51
        }
      },
      "source": [
        "# Non-pythonic\n",
        "def print4the_index_element(list):\n",
        "  if len(list)>=5:\n",
        "    print(list[4])\n",
        "  else:\n",
        "    print('There is no such element')\n",
        "# pythonic \n",
        "def print4the_index_element1(list):\n",
        "  try:\n",
        "    print(list[4])\n",
        "  except IndexError:\n",
        "    print('There is no such element')\n",
        "print4the_index_element([1,2,3,4])\n",
        "print4the_index_element1([1,2,3,4])"
      ],
      "execution_count": 0,
      "outputs": [
        {
          "output_type": "stream",
          "text": [
            "There is no such element\n",
            "There is no such element\n"
          ],
          "name": "stdout"
        }
      ]
    },
    {
      "cell_type": "markdown",
      "metadata": {
        "id": "oZkXXk5XcADU",
        "colab_type": "text"
      },
      "source": [
        ">>**Inheritence :**\n",
        "* when a child class inherits the property of parents class then it called Inheritence\n",
        "* **Advantages :**\n",
        "  * Code Reusability and extension of functionality\n",
        "  * Transition & Readability\n",
        "  * Real world Relationship\n",
        "* **Types of Inheritence :**\n",
        "  * Single Inheritence\n",
        "  * Multi level Inheritence\n",
        "  * Hierarchical Inheritence\n",
        "  * Multiple Inheritence\n",
        "  * Hybrid Inheritence\n",
        "  * Cyclic Inheritene\n"
      ]
    },
    {
      "cell_type": "code",
      "metadata": {
        "id": "ngHXaNngczSQ",
        "colab_type": "code",
        "outputId": "e31cb189-3594-480c-e074-cb7942aa7f20",
        "colab": {
          "base_uri": "https://localhost:8080/",
          "height": 51
        }
      },
      "source": [
        "class parent:\n",
        "  def m1(self):\n",
        "    print('In parent class')\n",
        "class child(parent):\n",
        "  def m2(self):\n",
        "    print('Inchild class')\n",
        "c=child()\n",
        "c.m1()\n",
        "c.m2()"
      ],
      "execution_count": 0,
      "outputs": [
        {
          "output_type": "stream",
          "text": [
            "In parent class\n",
            "Inchild class\n"
          ],
          "name": "stdout"
        }
      ]
    },
    {
      "cell_type": "code",
      "metadata": {
        "id": "5YDMWzEtdIO3",
        "colab_type": "code",
        "outputId": "ea768d78-38d4-44fb-b3ff-1cfc09365bff",
        "colab": {
          "base_uri": "https://localhost:8080/",
          "height": 34
        }
      },
      "source": [
        "class parent:\n",
        "  def __init__(self,fname,fage):\n",
        "    self.name=fname\n",
        "    self.age=fage\n",
        "  def view(self):\n",
        "    print(self.name,self.age)\n",
        "class child(parent):\n",
        "  def __init__(self,fname,fage):\n",
        "    parent.__init__(self,fname,fage)\n",
        "    self.lname='Reddy'\n",
        "  def view(self):\n",
        "    print(self.age,self.lname,self.name)\n",
        "c=child('Gowtham',26)\n",
        "c.view()"
      ],
      "execution_count": 0,
      "outputs": [
        {
          "output_type": "stream",
          "text": [
            "26 Reddy Gowtham\n"
          ],
          "name": "stdout"
        }
      ]
    },
    {
      "cell_type": "markdown",
      "metadata": {
        "id": "yImFotzkucIv",
        "colab_type": "text"
      },
      "source": [
        "> **Single Inheritence :**\n",
        "* single parent, single child\n"
      ]
    },
    {
      "cell_type": "code",
      "metadata": {
        "id": "ND9MAvh_u0th",
        "colab_type": "code",
        "outputId": "41570217-d4f1-444c-9e76-41b776cda740",
        "colab": {
          "base_uri": "https://localhost:8080/",
          "height": 51
        }
      },
      "source": [
        "class P:\n",
        "  def m1(self):\n",
        "    print('parent method')\n",
        "class C(P):\n",
        "  def m2(self):\n",
        "    print('child method')\n",
        "c=C()\n",
        "c.m1()\n",
        "c.m2()"
      ],
      "execution_count": 0,
      "outputs": [
        {
          "output_type": "stream",
          "text": [
            "parent method\n",
            "child method\n"
          ],
          "name": "stdout"
        }
      ]
    },
    {
      "cell_type": "markdown",
      "metadata": {
        "id": "2jk4YseVwrDV",
        "colab_type": "text"
      },
      "source": [
        "> **Multi level Inheritence :**\n",
        "* single parent, single child at each level\n"
      ]
    },
    {
      "cell_type": "code",
      "metadata": {
        "id": "49XKn3ikxEbv",
        "colab_type": "code",
        "outputId": "ff135865-f2fc-4503-fdc6-4feef9d8c6b6",
        "colab": {
          "base_uri": "https://localhost:8080/",
          "height": 68
        }
      },
      "source": [
        "class P:\n",
        "  def m1(self):\n",
        "    print('parent method')\n",
        "class C(P):\n",
        "  def m2(self):\n",
        "    print('child method')\n",
        "class CC(C):\n",
        "  def m3(self):\n",
        "    print('sub-child method')\n",
        "c=CC()\n",
        "c.m1()\n",
        "c.m2()\n",
        "c.m3()"
      ],
      "execution_count": 0,
      "outputs": [
        {
          "output_type": "stream",
          "text": [
            "parent method\n",
            "child method\n",
            "sub-child method\n"
          ],
          "name": "stdout"
        }
      ]
    },
    {
      "cell_type": "markdown",
      "metadata": {
        "id": "Y8iEGXVGxlzi",
        "colab_type": "text"
      },
      "source": [
        "> **Hierachical Inheritence :**\n",
        "* one parent with multiple childs at same level \n"
      ]
    },
    {
      "cell_type": "code",
      "metadata": {
        "id": "WdQLUDsOykn7",
        "colab_type": "code",
        "outputId": "5925df37-81ab-447d-a017-f1097286d87b",
        "colab": {
          "base_uri": "https://localhost:8080/",
          "height": 102
        }
      },
      "source": [
        "class P:\n",
        "  def m1(self):\n",
        "    print('parent method')\n",
        "class C1(P):\n",
        "  def m2(self):\n",
        "    print('child-1 method')\n",
        "class C2(P):\n",
        "  def m3(self):\n",
        "    print('child-2 method')\n",
        "c1=C1()\n",
        "c1.m1()\n",
        "c1.m2()\n",
        "print()\n",
        "c2=C2()\n",
        "c2.m1()\n",
        "c2.m3()"
      ],
      "execution_count": 0,
      "outputs": [
        {
          "output_type": "stream",
          "text": [
            "parent method\n",
            "child-1 method\n",
            "\n",
            "parent method\n",
            "child-2 method\n"
          ],
          "name": "stdout"
        }
      ]
    },
    {
      "cell_type": "markdown",
      "metadata": {
        "id": "RrlMRg_MzbyB",
        "colab_type": "text"
      },
      "source": [
        "> **Multiple Inheritence :**\n",
        "* Multiple parents but single child\n",
        "* First preference will be given to child, then it will depend on order of calling parents"
      ]
    },
    {
      "cell_type": "code",
      "metadata": {
        "id": "oEodkK-I0T2l",
        "colab_type": "code",
        "outputId": "a94fbf9c-87f3-4378-8d62-5ee593c2bd37",
        "colab": {
          "base_uri": "https://localhost:8080/",
          "height": 34
        }
      },
      "source": [
        "class P1:\n",
        "  def m2(self):\n",
        "    print('Parent-1 method')\n",
        "class P2:\n",
        "  def m1(self):\n",
        "    print('Parent-2 method')\n",
        "class C(P1,P2):\n",
        "  def m2(self):\n",
        "    print('child method')\n",
        "c=C()\n",
        "c.m1()"
      ],
      "execution_count": 0,
      "outputs": [
        {
          "output_type": "stream",
          "text": [
            "Parent-2 method\n"
          ],
          "name": "stdout"
        }
      ]
    },
    {
      "cell_type": "markdown",
      "metadata": {
        "id": "nWbD6HTT2dMl",
        "colab_type": "text"
      },
      "source": [
        "> **Hybrid Inheritence :**\n",
        "* combination of 2 or more types of inheritences "
      ]
    },
    {
      "cell_type": "markdown",
      "metadata": {
        "id": "Vmnpe28P2ypX",
        "colab_type": "text"
      },
      "source": [
        "> **Cyclic Inheritence :**\n",
        "* If a class extends same class \n",
        "* python doesn't support cyclic"
      ]
    },
    {
      "cell_type": "code",
      "metadata": {
        "id": "t6qrnXG33NCG",
        "colab_type": "code",
        "colab": {}
      },
      "source": [
        "class A(A):\n",
        "  pass"
      ],
      "execution_count": 0,
      "outputs": []
    },
    {
      "cell_type": "markdown",
      "metadata": {
        "id": "QBD7aSIwYIcd",
        "colab_type": "text"
      },
      "source": [
        "> **MRO Algorithm (Method Resolution order) :**\n",
        "* **C3 Algorithm :**\n",
        "  * If head element of first list not present in the tail part of any other list then consider that element in the result and remove that element from all the list\n",
        "  * mro(P)= P+ merge(mro(X)+ mro(Y)+ mro(C),XYC)\n",
        "  * mro(P)= P+ merge(XABO+ YBCO,CO,XYC)\n",
        "  * mro(P)= P+X+ merge(ABO+ YBCO,CO,YC)\n",
        "  * mro(P)= P+X+A+merge(BO+ YBCO,CO,YC)\n",
        "  * mro(P)= P+X+A+Y+merge(BO+ BCO,CO,C)\n",
        "  * mro(P)= P+X+A+Y+B+merge(O+ CO,CO,C)\n",
        "  * mro(P)= P+X+A+Y+B+C+merge(O+ O,O)\n",
        "  * mro(P)= P+X+A+Y+B+C+O\n",
        "  "
      ]
    },
    {
      "cell_type": "code",
      "metadata": {
        "id": "Dz3r_nVGarEE",
        "colab_type": "code",
        "outputId": "103ddfcc-9c83-40a6-f1a5-2edab4ceb0d1",
        "colab": {
          "base_uri": "https://localhost:8080/",
          "height": 51
        }
      },
      "source": [
        "class P:\n",
        "  def m1(self):\n",
        "    print('parent method')\n",
        "class C(P):\n",
        "  def m1(self):\n",
        "    print('child method')\n",
        "ca=C()\n",
        "ca.m1()\n",
        "print(C.mro())"
      ],
      "execution_count": 0,
      "outputs": [
        {
          "output_type": "stream",
          "text": [
            "child method\n",
            "[<class '__main__.C'>, <class '__main__.P'>, <class 'object'>]\n"
          ],
          "name": "stdout"
        }
      ]
    },
    {
      "cell_type": "code",
      "metadata": {
        "id": "TLOH_zm9bFcI",
        "colab_type": "code",
        "outputId": "5fa5486f-b9ed-4918-b708-7e8ccd1a46d0",
        "colab": {
          "base_uri": "https://localhost:8080/",
          "height": 85
        }
      },
      "source": [
        "class A:\n",
        "  def m1(self):\n",
        "    print('A class method')\n",
        "class B(A):\n",
        "  def m1(self):\n",
        "    print('B class method')\n",
        "class C(A):\n",
        "  def m1(self):\n",
        "    print('C class method')\n",
        "class D(B,C):\n",
        "  def m1(self):\n",
        "    print('D class method')\n",
        "d=D()\n",
        "d.m1()\n",
        "print(A.mro())\n",
        "print(B.mro())\n",
        "print(C.mro())\n",
        "print(D.mro())"
      ],
      "execution_count": 0,
      "outputs": [
        {
          "output_type": "stream",
          "text": [
            "[<class '__main__.A'>, <class 'object'>]\n",
            "[<class '__main__.B'>, <class '__main__.A'>, <class 'object'>]\n",
            "[<class '__main__.C'>, <class '__main__.A'>, <class 'object'>]\n",
            "[<class '__main__.D'>, <class '__main__.B'>, <class '__main__.C'>, <class '__main__.A'>, <class 'object'>]\n"
          ],
          "name": "stdout"
        }
      ]
    },
    {
      "cell_type": "code",
      "metadata": {
        "id": "eBtjdOADby9X",
        "colab_type": "code",
        "outputId": "e51a6c35-ba74-4b1d-91ac-1dce52576319",
        "colab": {
          "base_uri": "https://localhost:8080/",
          "height": 68
        }
      },
      "source": [
        "class A:pass\n",
        "class B:pass\n",
        "class C:pass\n",
        "class X(A,B):pass\n",
        "class Y(B,C):pass\n",
        "class P(X,Y,C):pass\n",
        "print(X.mro)\n",
        "print(Y.mro())\n",
        "print(P.mro())\n"
      ],
      "execution_count": 0,
      "outputs": [
        {
          "output_type": "stream",
          "text": [
            "<built-in method mro of type object at 0x446ed18>\n",
            "[<class '__main__.Y'>, <class '__main__.B'>, <class '__main__.C'>, <class 'object'>]\n",
            "[<class '__main__.P'>, <class '__main__.X'>, <class '__main__.A'>, <class '__main__.Y'>, <class '__main__.B'>, <class '__main__.C'>, <class 'object'>]\n"
          ],
          "name": "stdout"
        }
      ]
    },
    {
      "cell_type": "code",
      "metadata": {
        "id": "lY9wYcfPkOL6",
        "colab_type": "code",
        "outputId": "1e268751-cff4-4e7b-d9ac-db56ddbb2428",
        "colab": {
          "base_uri": "https://localhost:8080/",
          "height": 34
        }
      },
      "source": [
        "class D:pass\n",
        "class E:pass\n",
        "class F:pass\n",
        "class B(D,E):pass\n",
        "class C(D,F):pass\n",
        "class A(B,C):pass\n",
        "print(A.mro())"
      ],
      "execution_count": 0,
      "outputs": [
        {
          "output_type": "stream",
          "text": [
            "[<class '__main__.A'>, <class '__main__.B'>, <class '__main__.C'>, <class '__main__.D'>, <class '__main__.E'>, <class '__main__.F'>, <class 'object'>]\n"
          ],
          "name": "stdout"
        }
      ]
    },
    {
      "cell_type": "markdown",
      "metadata": {
        "id": "0ctTgM28mKp9",
        "colab_type": "text"
      },
      "source": [
        ">**Exception Handling :**\n",
        "* In any programming language, there are 2 types of possible errors\n",
        "  * **Syntax Errors :**\n",
        "      * The errors which occurs because of invalid syntax, such type of errors are considered as syntax errors\n",
        "      * programmer is responsible to correct these syntax errors.once all syntax errors are corrected, then only the program execution will be started\n",
        "  * **Runtime Errors or Exceptions :** \n",
        "    * While execting the program,at runtime something goes wrong because of end user input, memory problems, programming logic etc then we will get runtime errors\n",
        "    * ZeroDivisionError\n",
        "    * ValueError\n",
        "    * FileNotFoundError\n",
        "* Exception Handling concept applicable for Runtime errors but not for syntax errors\n",
        "* **what is an Exception :** An unwanted and unexpected event that disturbs normal flow of program is called Exception\n",
        "  * E.g :FileNotFoundError,  ValueError, ZeroDivisionError\n",
        "* **what is the main objective of Exception handling :**\n",
        "  * It is highly recommended to handle Exceptions\n",
        "  * The main objective of exception handling is Graceful Termination / Normal Termination (i.e. we should not block our resources and we should not miss any thing)\n",
        "* **what is the meaning of Exception handling :**\n",
        "  * Exception handling doesn't mean repairing the exception.we have to define alternative way to continue rest of the program normally\n",
        "  * This way of defining alternative is nothing but Exception handling\n",
        "* **Default Exception Handling :**\n",
        "  * Every exception in python is an object. For Every exception type the corresponding class is available\n",
        "  * whenever an exception occurs PVM will create the corresponding exception object and will check for handling code. If handling code is available then it will be executed and rest of the program will be executed normally\n",
        "  * If handling code is not available then PVM will terminates the program automatically and print corresponding exception information to the console,The rest of the program won't be executed\n",
        "  * To prevent this abnormal termination, we should handle exception explicitly.of course by using **try-except** block\n",
        "* **python exception hierarchy :**\n",
        "  * !(https://chercher.tech/images/python-programming/python-exception-heirarchi.png)\n",
        "* Being a programmer,most of the times, we have to concentrate / handle exception and its child classes\n",
        " "
      ]
    },
    {
      "cell_type": "code",
      "metadata": {
        "id": "fKogd1-Zmm8i",
        "colab_type": "code",
        "outputId": "edf90ee4-7769-4a7e-d132-e9cf3197eed8",
        "colab": {
          "base_uri": "https://localhost:8080/",
          "height": 129
        }
      },
      "source": [
        "'''Syntax Error'''\n",
        "x=10\n",
        "if x==10\n",
        "  print(x)"
      ],
      "execution_count": 0,
      "outputs": [
        {
          "output_type": "error",
          "ename": "SyntaxError",
          "evalue": "ignored",
          "traceback": [
            "\u001b[0;36m  File \u001b[0;32m\"<ipython-input-18-fd1bd38fd2aa>\"\u001b[0;36m, line \u001b[0;32m3\u001b[0m\n\u001b[0;31m    if x==10\u001b[0m\n\u001b[0m            ^\u001b[0m\n\u001b[0;31mSyntaxError\u001b[0m\u001b[0;31m:\u001b[0m invalid syntax\n"
          ]
        }
      ]
    },
    {
      "cell_type": "code",
      "metadata": {
        "id": "r0Oyao7cmvDG",
        "colab_type": "code",
        "outputId": "28b299ec-e6cd-4cc8-8866-707f21c78f78",
        "colab": {
          "base_uri": "https://localhost:8080/",
          "height": 231
        }
      },
      "source": [
        "'''Runtime Error'''\n",
        "x=int(input('Enter the first number'))\n",
        "y=int(input('Enter the second number'))\n",
        "result=print(x/y)"
      ],
      "execution_count": 0,
      "outputs": [
        {
          "output_type": "stream",
          "text": [
            "Enter the first number10\n",
            "Enter the second number0\n"
          ],
          "name": "stdout"
        },
        {
          "output_type": "error",
          "ename": "ZeroDivisionError",
          "evalue": "ignored",
          "traceback": [
            "\u001b[0;31m---------------------------------------------------------------------------\u001b[0m",
            "\u001b[0;31mZeroDivisionError\u001b[0m                         Traceback (most recent call last)",
            "\u001b[0;32m<ipython-input-5-9920cdf3c29f>\u001b[0m in \u001b[0;36m<module>\u001b[0;34m()\u001b[0m\n\u001b[1;32m      2\u001b[0m \u001b[0mx\u001b[0m\u001b[0;34m=\u001b[0m\u001b[0mint\u001b[0m\u001b[0;34m(\u001b[0m\u001b[0minput\u001b[0m\u001b[0;34m(\u001b[0m\u001b[0;34m'Enter the first number'\u001b[0m\u001b[0;34m)\u001b[0m\u001b[0;34m)\u001b[0m\u001b[0;34m\u001b[0m\u001b[0;34m\u001b[0m\u001b[0m\n\u001b[1;32m      3\u001b[0m \u001b[0my\u001b[0m\u001b[0;34m=\u001b[0m\u001b[0mint\u001b[0m\u001b[0;34m(\u001b[0m\u001b[0minput\u001b[0m\u001b[0;34m(\u001b[0m\u001b[0;34m'Enter the second number'\u001b[0m\u001b[0;34m)\u001b[0m\u001b[0;34m)\u001b[0m\u001b[0;34m\u001b[0m\u001b[0;34m\u001b[0m\u001b[0m\n\u001b[0;32m----> 4\u001b[0;31m \u001b[0mresult\u001b[0m\u001b[0;34m=\u001b[0m\u001b[0mprint\u001b[0m\u001b[0;34m(\u001b[0m\u001b[0mx\u001b[0m\u001b[0;34m/\u001b[0m\u001b[0my\u001b[0m\u001b[0;34m)\u001b[0m\u001b[0;34m\u001b[0m\u001b[0;34m\u001b[0m\u001b[0m\n\u001b[0m",
            "\u001b[0;31mZeroDivisionError\u001b[0m: division by zero"
          ]
        }
      ]
    },
    {
      "cell_type": "code",
      "metadata": {
        "id": "tT_fnDoyFZs4",
        "colab_type": "code",
        "outputId": "5f453210-a84a-4d4b-eb87-629c1faac9e1",
        "colab": {
          "base_uri": "https://localhost:8080/",
          "height": 180
        }
      },
      "source": [
        "f=open('x.txt')\n",
        "print(f.read())"
      ],
      "execution_count": 0,
      "outputs": [
        {
          "output_type": "error",
          "ename": "FileNotFoundError",
          "evalue": "ignored",
          "traceback": [
            "\u001b[0;31m---------------------------------------------------------------------------\u001b[0m",
            "\u001b[0;31mFileNotFoundError\u001b[0m                         Traceback (most recent call last)",
            "\u001b[0;32m<ipython-input-36-40f48b58db3d>\u001b[0m in \u001b[0;36m<module>\u001b[0;34m()\u001b[0m\n\u001b[0;32m----> 1\u001b[0;31m \u001b[0mf\u001b[0m\u001b[0;34m=\u001b[0m\u001b[0mopen\u001b[0m\u001b[0;34m(\u001b[0m\u001b[0;34m'x.txt'\u001b[0m\u001b[0;34m)\u001b[0m\u001b[0;34m\u001b[0m\u001b[0;34m\u001b[0m\u001b[0m\n\u001b[0m\u001b[1;32m      2\u001b[0m \u001b[0mprint\u001b[0m\u001b[0;34m(\u001b[0m\u001b[0mf\u001b[0m\u001b[0;34m.\u001b[0m\u001b[0mread\u001b[0m\u001b[0;34m(\u001b[0m\u001b[0;34m)\u001b[0m\u001b[0;34m)\u001b[0m\u001b[0;34m\u001b[0m\u001b[0;34m\u001b[0m\u001b[0m\n",
            "\u001b[0;31mFileNotFoundError\u001b[0m: [Errno 2] No such file or directory: 'x.txt'"
          ]
        }
      ]
    },
    {
      "cell_type": "markdown",
      "metadata": {
        "id": "gaXvTXV_s7aw",
        "colab_type": "text"
      },
      "source": [
        "\n",
        "\n",
        "> **Customized Exception Handling by using try-except :**\n",
        "* It is highly recomended to handle exception\n",
        "* The code which may raise an exception is called **Risky code** and we have take that risky code inside **try** code\n",
        "* The corresponding handling code we have to take inside **except** code\n",
        "* try :\n",
        "    Risky code\n",
        "  except :\n",
        "    Handling code / Alternative code\n",
        "* **Control flow in try-except :**\n",
        "* within try block anywhere if exception raised then rest of the try block won't be executed even though we handle exception. Hence inside try block we have to take only risky code and length of the try block should be as less as possible\n",
        "* In addition to try block, there may be a chance of raising exceptions inside **except** and **finally** blocks also\n",
        "* If any statement which not part of try block, raising an exception then it is always an **Abnormal Termination**\n",
        "\n",
        "\n"
      ]
    },
    {
      "cell_type": "code",
      "metadata": {
        "id": "ucy5RdIpurdF",
        "colab_type": "code",
        "outputId": "bec96f24-78b5-42d5-aca5-4f236fb5f75d",
        "colab": {
          "base_uri": "https://localhost:8080/",
          "height": 85
        }
      },
      "source": [
        "print('statement-1')\n",
        "try:\n",
        "  print('try')\n",
        "  print(10/0)\n",
        "  print('try')\n",
        "except ZeroDivisionError:\n",
        "  print(10/2)\n",
        "print('statement-3')"
      ],
      "execution_count": 0,
      "outputs": [
        {
          "output_type": "stream",
          "text": [
            "statement-1\n",
            "try\n",
            "5.0\n",
            "statement-3\n"
          ],
          "name": "stdout"
        }
      ]
    },
    {
      "cell_type": "code",
      "metadata": {
        "id": "ld3PB1RGvBBH",
        "colab_type": "code",
        "outputId": "41866b8e-53ac-4889-95a2-a6622e610766",
        "colab": {
          "base_uri": "https://localhost:8080/",
          "height": 85
        }
      },
      "source": [
        "try:\n",
        "  print(10/0)\n",
        "except ZeroDivisionError as e:\n",
        "  print('Type of exception is',type(e))\n",
        "  print('Type of exception is',e.__class__)\n",
        "  print('Type of exception Name is',e.__class__.__name__)\n",
        "  print('Description of exception is',e)"
      ],
      "execution_count": 0,
      "outputs": [
        {
          "output_type": "stream",
          "text": [
            "Type of exception is <class 'ZeroDivisionError'>\n",
            "Type of exception is <class 'ZeroDivisionError'>\n",
            "Type of exception Name is ZeroDivisionError\n",
            "Description of exception is division by zero\n"
          ],
          "name": "stdout"
        }
      ]
    },
    {
      "cell_type": "code",
      "metadata": {
        "id": "3hddROwN3oOw",
        "colab_type": "code",
        "outputId": "50308236-315a-412a-a6ed-077cad6532ad",
        "colab": {
          "base_uri": "https://localhost:8080/",
          "height": 102
        }
      },
      "source": [
        "try:\n",
        "  x=int(input('Enter the first number : '))\n",
        "  y=int(input('Enter the second number : '))\n",
        "  print(x/y)\n",
        "except BaseException as e:\n",
        "  print('Type of exception is',type(e))\n",
        "  print('Type of exception is',e.__class__)\n",
        "  print('Type of exception Name is',e.__class__.__name__)\n",
        "  print('Description of exception is',e)"
      ],
      "execution_count": 0,
      "outputs": [
        {
          "output_type": "stream",
          "text": [
            "Enter the first number : ten\n",
            "Type of exception is <class 'ValueError'>\n",
            "Type of exception is <class 'ValueError'>\n",
            "Type of exception Name is ValueError\n",
            "Description of exception is invalid literal for int() with base 10: 'ten'\n"
          ],
          "name": "stdout"
        }
      ]
    },
    {
      "cell_type": "markdown",
      "metadata": {
        "id": "jVVHw1aOUeBa",
        "colab_type": "text"
      },
      "source": [
        "\n",
        "\n",
        "> **try with multiple except blocks :**\n",
        "* The way of handling an exception varies from exception to exception\n",
        "* Hence for every possible exception type, we have to take a separate except block, try with multiple except blocks is possible and recomended to use\n",
        "* If try with multiple except blocks available, then based on raised exception the corresponding except block will be executed\n",
        "* If try with multiple except blocks available then order of except block is important.Python Virtual Machine will always consider from top to bottom until matched except block identified\n",
        "\n",
        "\n",
        "\n",
        "\n"
      ]
    },
    {
      "cell_type": "code",
      "metadata": {
        "id": "f-2zvfwyXPVd",
        "colab_type": "code",
        "outputId": "aef8fad7-dfc3-4840-f8de-dca9af637e92",
        "colab": {
          "base_uri": "https://localhost:8080/",
          "height": 51
        }
      },
      "source": [
        "try:\n",
        "  x=int(input('Enter the first number : '))\n",
        "  y=int(input('Enter the second number : '))\n",
        "  print(x/y)\n",
        "except ZeroDivisionError:\n",
        "  print('Cannot divide a number by zero')\n",
        "except ValueError:\n",
        "  print('Enter an valid interger number')"
      ],
      "execution_count": 0,
      "outputs": [
        {
          "output_type": "stream",
          "text": [
            "Enter the first number : ten\n",
            "Enter an valid interger number\n"
          ],
          "name": "stdout"
        }
      ]
    },
    {
      "cell_type": "code",
      "metadata": {
        "id": "puHaG4AIXiLi",
        "colab_type": "code",
        "outputId": "40f4f150-7279-4189-d490-bb7fddc59787",
        "colab": {
          "base_uri": "https://localhost:8080/",
          "height": 51
        }
      },
      "source": [
        "try:\n",
        "  print(10/0)\n",
        "except ZeroDivisionError:\n",
        "  print('ZeroDivisionError')\n",
        "except ArithmeticError:\n",
        "  print('ArithmeticError')\n",
        "\n",
        "try:\n",
        "  print(10/0)\n",
        "except ArithmeticError:\n",
        "  print('ArithmeticError')\n",
        "except ZeroDivisionError:\n",
        "  print('ZeroDivisionError')"
      ],
      "execution_count": 0,
      "outputs": [
        {
          "output_type": "stream",
          "text": [
            "ZeroDivisionError\n",
            "ArithmeticError\n"
          ],
          "name": "stdout"
        }
      ]
    },
    {
      "cell_type": "markdown",
      "metadata": {
        "id": "keIjXxnKcrtB",
        "colab_type": "text"
      },
      "source": [
        "> **single except block that can handle multiple different exceptions :**\n",
        "* If handling code is same for multiple exceptions, then instead of taking multiple except blocks, we can take single except block that can handle all those exceptions.\n",
        "* except(exception1,exception2....):\n",
        "* except(exception1,exception2) as e:\n",
        "* paranthesis are mandatory and this group of exceptions internally considered as tuple."
      ]
    },
    {
      "cell_type": "code",
      "metadata": {
        "id": "pRBiJWhOZknn",
        "colab_type": "code",
        "outputId": "61fcb56b-f1ec-4a78-b6e9-25a218b4b124",
        "colab": {
          "base_uri": "https://localhost:8080/",
          "height": 85
        }
      },
      "source": [
        "try:\n",
        "  x=int(input('Enter the first number : '))\n",
        "  y=int(input('Enter the second number : '))\n",
        "  print(x/y)\n",
        "except (ZeroDivisionError,ValueError) as e:\n",
        "  print('The name of exception is : ',e.__class__.__name__)\n",
        "  print('The Description of exception is : ',e)\n",
        "  print('Enter the valid input')"
      ],
      "execution_count": 0,
      "outputs": [
        {
          "output_type": "stream",
          "text": [
            "Enter the first number : red\n",
            "The name of exception is :  ValueError\n",
            "The Description of exception is :  invalid literal for int() with base 10: 'red'\n",
            "Enter the valid input\n"
          ],
          "name": "stdout"
        }
      ]
    },
    {
      "cell_type": "markdown",
      "metadata": {
        "id": "UYVAbOBEflj9",
        "colab_type": "text"
      },
      "source": [
        "> **Default Except Block :**\n",
        "* we can use default except block to handle any type of exceptions.\n",
        "* In default except block,generally we can print exception information to the console\n",
        "* If **default except** block is defined then compulsory it must be last except block, otherwise we will get **syntax error**\n",
        "* The restriction is applicable only for default except block but not for normal except blocks.i.e normal except blocks can be in any order\n",
        "\n",
        "> **Various possible combination of except blocks :**\n",
        "* **Valid Combinations :**\n",
        "  * except ZeroDivisionError:\n",
        "  * except(ZeroDivisionError):\n",
        "  * except ZeroDivisionError as e\n",
        "  * except(ZeroDivisionError) as e:\n",
        "  * except(ZeroDivisionError,ValueError):\n",
        "  * except(ZeroDivisionError,ValueError) as e:\n",
        "  * except:\n",
        "* **Invalid Combinations :**\n",
        "  * except(ZeroDivisionError as e): \n",
        "  * except ZeroDivisionError,ValueError:\n",
        "  * except(ZeroDivisionError,ValueError as e):\n"
      ]
    },
    {
      "cell_type": "code",
      "metadata": {
        "id": "sdvYv8dtbIbW",
        "colab_type": "code",
        "outputId": "31236ce3-a12d-4e4d-b6a2-de989573ce14",
        "colab": {
          "base_uri": "https://localhost:8080/",
          "height": 163
        }
      },
      "source": [
        "try:\n",
        "  x=int(input('Enter the first number : '))\n",
        "  y=int(input('Enter the second number : '))\n",
        "  print(x/y)\n",
        "except ZeroDivisionError:\n",
        "  print('ZeroDivisionError: cannot divide number by zero')\n",
        "except:\n",
        "  print('DefaultError: Enter a valid integer ')\n",
        "\n",
        "try:\n",
        "  x=int(input('Enter the first number : '))\n",
        "  y=int(input('Enter the second number : '))\n",
        "  print(x/y)\n",
        "except:\n",
        "  print('DefaultError: Enter a valid integer ')\n",
        "except ZeroDivisionError:\n",
        "  print('ZeroDivisionError: cannot divide number by zero')"
      ],
      "execution_count": 0,
      "outputs": [
        {
          "output_type": "stream",
          "text": [
            "Enter the first number : ten\n",
            "DefaultError: Enter a valid integer \n"
          ],
          "name": "stdout"
        },
        {
          "output_type": "error",
          "ename": "SyntaxError",
          "evalue": "ignored",
          "traceback": [
            "\u001b[0;36m  File \u001b[0;32m\"<ipython-input-8-f74c01c6d013>\"\u001b[0;36m, line \u001b[0;32m13\u001b[0m\n\u001b[0;31m    print(x/y)\u001b[0m\n\u001b[0m           ^\u001b[0m\n\u001b[0;31mSyntaxError\u001b[0m\u001b[0;31m:\u001b[0m default 'except:' must be last\n"
          ]
        }
      ]
    },
    {
      "cell_type": "markdown",
      "metadata": {
        "id": "QaNxqxgdm-4a",
        "colab_type": "text"
      },
      "source": [
        ">> **finally block :**\n",
        "* It is not recommended to place cleanup code inside try block, because there is no guarantee for execution of every statement inside try block \n",
        "* It is not recomended to place cleanup code inside except block, because if there is no exception then except block won't be executed\n",
        "* Hence we required some place to maintain cleanup code which should be executed always irrespective of wheather exception raised or not raised and wheather handle or not handled.such type of best place is nothing but finally block\n",
        "* Hence the main purpose of finally block is to maintain cleanup code "
      ]
    },
    {
      "cell_type": "code",
      "metadata": {
        "id": "dKwiATQHd8Sl",
        "colab_type": "code",
        "outputId": "f0d634ac-b6ba-4cb6-bbf1-bc2dd52159f3",
        "colab": {
          "base_uri": "https://localhost:8080/",
          "height": 51
        }
      },
      "source": [
        "try:\n",
        "  print('try')\n",
        "  # print(10/0)\n",
        "except ZeroDivisionError:\n",
        "  print('ZeroDivisionError')\n",
        "finally:\n",
        "  print('finally')"
      ],
      "execution_count": 0,
      "outputs": [
        {
          "output_type": "stream",
          "text": [
            "try\n",
            "finally\n"
          ],
          "name": "stdout"
        }
      ]
    },
    {
      "cell_type": "code",
      "metadata": {
        "id": "UiUa_UxmslpI",
        "colab_type": "code",
        "outputId": "d6aa2065-a8e1-44b7-f559-a3bfe0e593e9",
        "colab": {
          "base_uri": "https://localhost:8080/",
          "height": 51
        }
      },
      "source": [
        "try:\n",
        "  # print('try')\n",
        "  print(10/0)\n",
        "except ZeroDivisionError:\n",
        "  print('ZeroDivisionError')\n",
        "finally:\n",
        "  print('finally')"
      ],
      "execution_count": 0,
      "outputs": [
        {
          "output_type": "stream",
          "text": [
            "ZeroDivisionError\n",
            "finally\n"
          ],
          "name": "stdout"
        }
      ]
    },
    {
      "cell_type": "code",
      "metadata": {
        "id": "jFb_ZsJxtijc",
        "colab_type": "code",
        "outputId": "d1f2ef3c-ab64-4548-9a03-b13b24311e4f",
        "colab": {
          "base_uri": "https://localhost:8080/",
          "height": 51
        }
      },
      "source": [
        "try:\n",
        "  print('try')\n",
        "except ZeroDivisionError:\n",
        "  print('ZeroDivisionError')\n",
        "finally:\n",
        "  print('finally')"
      ],
      "execution_count": 0,
      "outputs": [
        {
          "output_type": "stream",
          "text": [
            "try\n",
            "finally\n"
          ],
          "name": "stdout"
        }
      ]
    },
    {
      "cell_type": "code",
      "metadata": {
        "id": "eVPPare2tN3O",
        "colab_type": "code",
        "outputId": "c393e725-7d33-4c06-ec49-f661f4eb6918",
        "colab": {
          "base_uri": "https://localhost:8080/",
          "height": 265
        }
      },
      "source": [
        "try:\n",
        "  print('try')\n",
        "  print(10/0)\n",
        "except ValueError:\n",
        "  print('ValueError')\n",
        "finally:\n",
        "  print('finally')"
      ],
      "execution_count": 0,
      "outputs": [
        {
          "output_type": "stream",
          "text": [
            "try\n",
            "finally\n"
          ],
          "name": "stdout"
        },
        {
          "output_type": "error",
          "ename": "ZeroDivisionError",
          "evalue": "ignored",
          "traceback": [
            "\u001b[0;31m---------------------------------------------------------------------------\u001b[0m",
            "\u001b[0;31mZeroDivisionError\u001b[0m                         Traceback (most recent call last)",
            "\u001b[0;32m<ipython-input-10-53ab07f119a7>\u001b[0m in \u001b[0;36m<module>\u001b[0;34m()\u001b[0m\n\u001b[1;32m      1\u001b[0m \u001b[0;32mtry\u001b[0m\u001b[0;34m:\u001b[0m\u001b[0;34m\u001b[0m\u001b[0;34m\u001b[0m\u001b[0m\n\u001b[1;32m      2\u001b[0m   \u001b[0mprint\u001b[0m\u001b[0;34m(\u001b[0m\u001b[0;34m'try'\u001b[0m\u001b[0;34m)\u001b[0m\u001b[0;34m\u001b[0m\u001b[0;34m\u001b[0m\u001b[0m\n\u001b[0;32m----> 3\u001b[0;31m   \u001b[0mprint\u001b[0m\u001b[0;34m(\u001b[0m\u001b[0;36m10\u001b[0m\u001b[0;34m/\u001b[0m\u001b[0;36m0\u001b[0m\u001b[0;34m)\u001b[0m\u001b[0;34m\u001b[0m\u001b[0;34m\u001b[0m\u001b[0m\n\u001b[0m\u001b[1;32m      4\u001b[0m \u001b[0;32mexcept\u001b[0m \u001b[0mValueError\u001b[0m\u001b[0;34m:\u001b[0m\u001b[0;34m\u001b[0m\u001b[0;34m\u001b[0m\u001b[0m\n\u001b[1;32m      5\u001b[0m   \u001b[0mprint\u001b[0m\u001b[0;34m(\u001b[0m\u001b[0;34m'ValueError'\u001b[0m\u001b[0;34m)\u001b[0m\u001b[0;34m\u001b[0m\u001b[0;34m\u001b[0m\u001b[0m\n",
            "\u001b[0;31mZeroDivisionError\u001b[0m: division by zero"
          ]
        }
      ]
    },
    {
      "cell_type": "markdown",
      "metadata": {
        "id": "uKT6oZ5P2fHO",
        "colab_type": "text"
      },
      "source": [
        "\n",
        "\n",
        "> **os._exit(0) vs finally :**\n",
        "* There is only one situation where finally block won't be executed i.e whenever we are using os._exit(0)\n",
        "* whenever we are using os.exit(0) then python virtual machine itself will be shutdown.In this particular case finally block don't be executed\n",
        "* **os._exit(0) :**\n",
        "  * Here Zero represent status code\n",
        "  * zero means normal termination\n",
        "  * non-zero means abnormal termination\n",
        "  * This status code internally used by PVM\n",
        "  * whenever it is zero or non-zero there is difference in the result of the program\n",
        "  \n",
        "\n"
      ]
    },
    {
      "cell_type": "code",
      "metadata": {
        "id": "xSd-kjvFtRvT",
        "colab_type": "code",
        "colab": {}
      },
      "source": [
        "import os\n",
        "try:\n",
        "  print('try')\n",
        "  os._exit(60)\n",
        "except ValueError:\n",
        "  print('ValueError')\n",
        "finally:\n",
        "  print('finally')"
      ],
      "execution_count": 0,
      "outputs": []
    },
    {
      "cell_type": "markdown",
      "metadata": {
        "id": "G4RtiFXc6d4b",
        "colab_type": "text"
      },
      "source": [
        "> **Finally vs Destructor :**\n",
        "* Finally block meant for maintaining cleanup code\n",
        "* Destructor meant for maintaining cleanup code\n",
        "* seems to be both are same, where is the difference ????\n",
        "* **Finally block** meant for cleanup activities related to **try** block, i.e whatever resources we opened as a part of try block will be closed inside finally block\n",
        "* **Destructor** meant for cleanup activities related to **object**. whatever resources associated with object should be deallocated inside destructor, which will be executed before destryoing object."
      ]
    },
    {
      "cell_type": "markdown",
      "metadata": {
        "id": "u4kHD6zfRxhG",
        "colab_type": "text"
      },
      "source": [
        "> **Nested try-except finally block :**\n",
        "* we can take try-except-finally blocks inside try or except or finally.Hence nesting of try except finally blocks is possible\n",
        "* Generally risky code we have to take inside outer try block and too much risky code we have to take inside inner try block\n",
        "* Inside Inner try block if an exception raised then inner except block is responsible to handle. If it is unable to handle then outer except block is responsible to handle\n",
        "* If the control not entered in the try block, then corresponding finally block won't be executed\n",
        "* once control entered the try block, compulsory the correponding finally block will be executed\n",
        " "
      ]
    },
    {
      "cell_type": "code",
      "metadata": {
        "id": "HGLwsJ7k27xY",
        "colab_type": "code",
        "outputId": "4b7f9d18-7b6a-42d2-ac88-f39ab36647b5",
        "colab": {
          "base_uri": "https://localhost:8080/",
          "height": 102
        }
      },
      "source": [
        "try:\n",
        "  print('outer try block')\n",
        "  try:\n",
        "    print('inner try block')\n",
        "    print(10/0)\n",
        "  except ZeroDivisionError:\n",
        "    print('inside except block')\n",
        "  finally:\n",
        "    print('inside finally block')\n",
        "except:\n",
        "  print('outer except block')\n",
        "finally:\n",
        "  print('outer finally block')"
      ],
      "execution_count": 0,
      "outputs": [
        {
          "output_type": "stream",
          "text": [
            "outer try block\n",
            "inner try block\n",
            "inside except block\n",
            "inside finally block\n",
            "outer finally block\n"
          ],
          "name": "stdout"
        }
      ]
    },
    {
      "cell_type": "markdown",
      "metadata": {
        "id": "NoOH9uWqjah5",
        "colab_type": "text"
      },
      "source": [
        "> **else block with try except finally :**\n",
        "* **if-else :** If the condition is false then only else will be executed\n",
        "* **for-else :** If loop executed without break then only else will be executed \n",
        "* **while-else :** If loop executed without break then only else will be executed\n",
        "* we can use **else** block with **try-except-finally** blocks\n",
        "*  If there is no exception in try block then only else will be executed\n",
        "* There is no chance of executing both except and else block simultaneously\n",
        "* If we want to take esle block, compulsory except block should be there i.e else without except block iss always invalid, **syntax error:invalid syntax**\n"
      ]
    },
    {
      "cell_type": "code",
      "metadata": {
        "id": "NSuIm6MzWX_M",
        "colab_type": "code",
        "colab": {}
      },
      "source": [
        "try:\n",
        "  # Risky code\n",
        "except:\n",
        "  # Handling code,  will be executed if an exception inside try\n",
        "else:\n",
        "  # will be executed if there is no exception inside try\n",
        "finally:\n",
        "  # cleanup code, will be executed whether exception raised or not raised and handled or not handled\n",
        "   "
      ],
      "execution_count": 0,
      "outputs": []
    },
    {
      "cell_type": "code",
      "metadata": {
        "id": "sAC7LBynmqYx",
        "colab_type": "code",
        "outputId": "a451780b-8e78-437e-88a8-2b37cbbb8080",
        "colab": {
          "base_uri": "https://localhost:8080/",
          "height": 68
        }
      },
      "source": [
        "try:\n",
        "  print('try')\n",
        "  print(10/0)\n",
        "except:\n",
        "  print('except')\n",
        "else:\n",
        "  print('else')\n",
        "finally:\n",
        "  print('finally')"
      ],
      "execution_count": 0,
      "outputs": [
        {
          "output_type": "stream",
          "text": [
            "try\n",
            "except\n",
            "finally\n"
          ],
          "name": "stdout"
        }
      ]
    },
    {
      "cell_type": "code",
      "metadata": {
        "id": "qL3tgsXhnH0Y",
        "colab_type": "code",
        "outputId": "20321114-672d-40e6-cd14-e69b9c81702f",
        "colab": {
          "base_uri": "https://localhost:8080/",
          "height": 129
        }
      },
      "source": [
        "try:\n",
        "  print('try')\n",
        "  # print(10/0)\n",
        "else:\n",
        "  print('else')\n",
        "finally:\n",
        "  print('finally')"
      ],
      "execution_count": 0,
      "outputs": [
        {
          "output_type": "error",
          "ename": "SyntaxError",
          "evalue": "ignored",
          "traceback": [
            "\u001b[0;36m  File \u001b[0;32m\"<ipython-input-4-40c0c16a15d0>\"\u001b[0;36m, line \u001b[0;32m4\u001b[0m\n\u001b[0;31m    else:\u001b[0m\n\u001b[0m       ^\u001b[0m\n\u001b[0;31mSyntaxError\u001b[0m\u001b[0;31m:\u001b[0m invalid syntax\n"
          ]
        }
      ]
    },
    {
      "cell_type": "markdown",
      "metadata": {
        "id": "LMnMmOhG5b5U",
        "colab_type": "text"
      },
      "source": [
        "> **Various possible combination of try-except-else-finally :**\n",
        "* whenever we are writing try block, compulsory we should write except or finally blocks i.e try without except or finally is always invalid\n",
        "* whenever we are writing except block, compulsory try block should be there i.e. except without try is always invalid\n",
        "* whenever we are writing finally block, compulsory try block should be there i.e. finally without try is always invalid\n",
        "* whenever we are writing else block, compulsory except block should be there i.e. else without except is always invalid\n",
        "* we can write multiple except blocks for the same try, but we cannot write multiple else and finally blocks\n",
        "* In try-except-else-finally order is important\n",
        "* we can write try-except-else-finally inside try,except,else and finally blocks.Hence nesting of try-except-else-finally is always possible\n"
      ]
    },
    {
      "cell_type": "markdown",
      "metadata": {
        "id": "HwoTkkqLB99V",
        "colab_type": "text"
      },
      "source": [
        "\n",
        "\n",
        "> **Types of Exceptions :**\n",
        "* There are two types of exceptions :\n",
        "  * Predefined Exceptions\n",
        "  * User Defined Exceptions\n",
        "* **Predefined Exceptions :**\n",
        "  * Also known inbuilt exceptions or PVM exceptions\n",
        "  * These will be raised automatically by PVM whenever a particular event occurs\n",
        "  * eg1: whenever we are trying to perform division by zero, automatically python will raise ZeroDivisionError\n",
        "    * print(10/0) # ZeroDivisionError\n",
        "  * eg2: whenever we are trying to convert str value into int type and string doesn't contain int value then we will get ValueError automatically\n",
        "    * print('ten') # ValueError\n",
        "* **User Defined Exceptions :**\n",
        "* Also known as Customized Exceptions or Programmatic Exceptions\n",
        "* sometimes we have to define and raise exceptions explicitly to indicate that something goes wrong, such types of exceptions are called user defined exceptions or customized exceptions or programatic exceptions\n",
        "* programmer is responsible to define these exceptions and PVM not having any idea about these. Hence we have to raise explicitly based on our requirement by using **raise** keyword\n"
      ]
    },
    {
      "cell_type": "markdown",
      "metadata": {
        "id": "34jIFDxFMrkT",
        "colab_type": "text"
      },
      "source": [
        "\n",
        "\n",
        "> **How to define and raise customized exception :**\n",
        "* Every Exception in python is a class and should be child class of BaseException\n",
        "* We can raise exception by using **raise** keyword\n",
        "\n"
      ]
    },
    {
      "cell_type": "code",
      "metadata": {
        "id": "r6Rzw1nPPd04",
        "colab_type": "code",
        "outputId": "08dde273-5f9c-48a1-de4b-3a47d8ba2196",
        "colab": {
          "base_uri": "https://localhost:8080/",
          "height": 51
        }
      },
      "source": [
        "class TooYoungException(BaseException):\n",
        "  def __init__(self,msg):\n",
        "    self.msg=msg\n",
        "class TooOldException(BaseException):\n",
        "  def __init__(self,msg):\n",
        "    self.msg=msg\n",
        "age=int(input(('Enter the Age :  ')))\n",
        "if age>60:\n",
        "  raise TooOldException('Your age already crossed marriage age no chance of getting marriage ')\n",
        "elif age<18:\n",
        "  raise TooYoungException('Please wait some more time, definitely you will get best match ')\n",
        "else:\n",
        "  print('You will get match details soon by email !!!')"
      ],
      "execution_count": 0,
      "outputs": [
        {
          "output_type": "stream",
          "text": [
            "Enter the Age :  21\n",
            "You will get match details soon by email !!!\n"
          ],
          "name": "stdout"
        }
      ]
    },
    {
      "cell_type": "markdown",
      "metadata": {
        "id": "qhD31bSZiUJQ",
        "colab_type": "text"
      },
      "source": [
        "> **Abstract Class & Abstract Methods :**\n",
        "* **Abstract Method :** Method which is decorated with **@abstractmethod** and **does not have any definition**\n",
        "* Python Don't support Abstract class, \n",
        "* So we have **ABC**(abstract Base Classes) Module and we can use here to achieve abstract classes\n"
      ]
    }
  ]
}