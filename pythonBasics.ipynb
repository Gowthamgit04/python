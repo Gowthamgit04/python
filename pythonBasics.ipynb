{
  "nbformat": 4,
  "nbformat_minor": 0,
  "metadata": {
    "colab": {
      "name": "pythonBasics.ipynb",
      "provenance": [],
      "collapsed_sections": []
    },
    "kernelspec": {
      "name": "python3",
      "display_name": "Python 3"
    }
  },
  "cells": [
    {
      "cell_type": "markdown",
      "metadata": {
        "id": "Co3UflRZvYjx",
        "colab_type": "text"
      },
      "source": [
        "\n",
        "\n",
        "> **Identifiers**:\n",
        "\n",
        "\n",
        "It is used for defining variable name, class name, method name \n",
        "\n",
        "\n",
        "> **Rules:**\n",
        "\n",
        "\n",
        "\n",
        "\n",
        "1.   a-z,A-Z,0-9,_\n",
        "2.   Should not start with digit\n",
        "\n",
        "1.   Case sensitive\n",
        "\n",
        "1.   We can't use reserve words as identifiers\n",
        "2.   No length limit\n",
        "\n",
        "1.   _x==>private\n",
        "2.   __x==>strongly private\n",
        "\n",
        "1.   __ x __==>language specific identifier\n",
        "\n",
        "\n",
        "\n",
        "\n",
        "\n",
        "\n",
        "\n",
        "\n",
        "\n",
        "\n",
        "\n",
        "\n",
        "\n",
        "\n",
        "\n",
        "\n",
        "\n",
        "\n",
        "\n",
        "\n",
        "\n",
        "\n",
        "\n"
      ]
    },
    {
      "cell_type": "code",
      "metadata": {
        "id": "muagrv3eWQfy",
        "colab_type": "code",
        "outputId": "09886b16-bfe6-4d76-8100-689b5b3a8db3",
        "colab": {
          "base_uri": "https://localhost:8080/",
          "height": 34
        }
      },
      "source": [
        "x=10\n",
        "X=100\n",
        "print(x,X)"
      ],
      "execution_count": 0,
      "outputs": [
        {
          "output_type": "stream",
          "text": [
            "10 100\n"
          ],
          "name": "stdout"
        }
      ]
    },
    {
      "cell_type": "code",
      "metadata": {
        "id": "98NoIcYFvVw8",
        "colab_type": "code",
        "outputId": "a61f21a3-bea7-43f3-e741-032b9a2beb13",
        "colab": {
          "base_uri": "https://localhost:8080/",
          "height": 34
        }
      },
      "source": [
        "x=10 #small x\n",
        "X=10 #capital x\n",
        "hellomynameis='Gautam' \n",
        "# if=100 #using keyword\n",
        "print(x,X,hellomynameis,sep=' --->')"
      ],
      "execution_count": 0,
      "outputs": [
        {
          "output_type": "stream",
          "text": [
            "10 --->10 --->Gautam\n"
          ],
          "name": "stdout"
        }
      ]
    },
    {
      "cell_type": "markdown",
      "metadata": {
        "id": "1B_W-214zxCZ",
        "colab_type": "text"
      },
      "source": [
        "\n",
        "\n",
        "> **Reserve words / Keywords:** Used to define syntax and structure of python, there are 33 Reserve words in python\n",
        "\n",
        "\n",
        "*  True,False,None\n",
        "\n",
        "*   and,or,not,is\n",
        "\n",
        "*   if,else,elif\n",
        "*   while,for,break,continue,return,in,yield(***do-while and switch is not available***)\n",
        "\n",
        "\n",
        "*   try,except,finally,raise,assert\n",
        "\n",
        "\n",
        "*   import,from,as,class,def,pass,global,nonlocal,lambda,del,with\n",
        "\n",
        "\n",
        "\n",
        "> **Note:**\n",
        "\n",
        "1.  only alphabetic symbols\n",
        "\n",
        "1.   Except first 3 all are in small letters\n",
        "\n",
        "\n",
        "\n",
        "\n",
        "\n",
        "\n",
        "\n",
        "\n",
        "\n",
        "\n",
        "\n",
        "\n",
        "\n"
      ]
    },
    {
      "cell_type": "code",
      "metadata": {
        "id": "kg0Bb_4-2boo",
        "colab_type": "code",
        "colab": {}
      },
      "source": [
        "if x==10:\n",
        "  pass"
      ],
      "execution_count": 0,
      "outputs": []
    },
    {
      "cell_type": "code",
      "metadata": {
        "id": "4RUODW_D3YPe",
        "colab_type": "code",
        "colab": {}
      },
      "source": [
        "import keyword\n",
        "keyword.kwlist"
      ],
      "execution_count": 0,
      "outputs": []
    },
    {
      "cell_type": "markdown",
      "metadata": {
        "id": "rMGY18qQ34Ju",
        "colab_type": "text"
      },
      "source": [
        "\n",
        "\n",
        "> **Data Types:**\n",
        "In python Everything is an object\n",
        "\n",
        "*   int ==> Integer values eg: 10,20,30\n",
        "*   float ==> eg: 1.2,13.0\n",
        "*   complex ==> eg: 10+2j\n",
        "*   bool ==> eg: True,False\n",
        "*   str ==>eg: 'Gautam'\n",
        "*   bytearray\n",
        "*   bytes\n",
        "*   range ==> eg: (0-10)\n",
        "*   list ==> eg: [10,20,30]\n",
        "*   set ==> eg: {10,20,30}\n",
        "*   tuple ==> eg:(10,20,30)\n",
        "*   dict ==> eg: {'Gautam','Reddy'}\n",
        "*   frozenset\n",
        "*   None\n",
        "\n",
        "> **Inbuilt Functions:**\n",
        "*   print() ==> to print the value of an object\n",
        "*   type() ==> for knowing the type of the object\n",
        "*   id() ==> for knowing the address of the object"
      ]
    },
    {
      "cell_type": "code",
      "metadata": {
        "id": "pbEKYs54aiNW",
        "colab_type": "code",
        "outputId": "af337169-368a-47f4-a94a-762cc3999bbc",
        "colab": {
          "base_uri": "https://localhost:8080/",
          "height": 68
        }
      },
      "source": [
        "a=[10,2,2]\n",
        "print(a)\n",
        "print(type(a))\n",
        "id(a)"
      ],
      "execution_count": 0,
      "outputs": [
        {
          "output_type": "stream",
          "text": [
            "[10, 2, 2]\n",
            "<class 'list'>\n"
          ],
          "name": "stdout"
        },
        {
          "output_type": "execute_result",
          "data": {
            "text/plain": [
              "140316811715784"
            ]
          },
          "metadata": {
            "tags": []
          },
          "execution_count": 21
        }
      ]
    },
    {
      "cell_type": "markdown",
      "metadata": {
        "id": "emgN02u_7uof",
        "colab_type": "text"
      },
      "source": [
        "\n",
        "\n",
        "> **Int:** Integer values,===> output will get only in Decimal form\n",
        "\n",
        "*   Decimal :(0-9) eg: ==> 1893\n",
        "\n",
        "*   Binary : (0,1) eg: ==> 0b1001010,0B10101\n",
        "*   Octal :(0-7) eg: ==> 0o12302,0O12311\n",
        "\n",
        "\n",
        "*   HexaDecimal :(0-F) eg: ==> 0xFace,0Xabc\n",
        "\n",
        "> **Base Conversions:**\n",
        "\n",
        "*   bin(15)\n",
        "*   oct(15)\n",
        "\n",
        "*  hex(15)\n",
        "\n",
        "\n",
        "---\n",
        "\n",
        "\n",
        "\n",
        "> **Float:** Decimal values eg:12.32,20.004,1.2e3(exponential form)\n",
        "\n",
        "\n",
        "*   We can use only decimal format only, we can't use for binary, octal,hexadecimal  \n",
        "\n",
        "*   Can represent in Exponential Form eg: 1.2e4\n",
        "\n",
        "---\n",
        "**Complex :** \n",
        "\n",
        "*   a+bj form ==> where a=Real part, b=Imaginary part , j^2=-1\n",
        "*   'a' can take any format => Decimal, Binary, Octal, HexaDecimal \n",
        "\n",
        "*   'b' can take only ==> Decimal\n",
        "\n",
        "*   eg: a= 10+20j ==>a.real=10,a.imag=20\n",
        "\n",
        "---\n",
        "\n",
        "\n",
        "> **Bool:** \n",
        "*   Allowed values True, False\n",
        "*   True => 1, False => 0\n",
        "\n",
        "\n",
        "---\n",
        "\n",
        "\n",
        "\n",
        "\n",
        "\n",
        "\n",
        "\n",
        "\n",
        "\n",
        "\n",
        "\n",
        "\n"
      ]
    },
    {
      "cell_type": "code",
      "metadata": {
        "id": "dMJT0xUAJ5jt",
        "colab_type": "code",
        "outputId": "735e2285-316d-4515-87f1-d202c0010091",
        "colab": {
          "base_uri": "https://localhost:8080/",
          "height": 34
        }
      },
      "source": [
        "a=(1j)\n",
        "print(a**2)"
      ],
      "execution_count": 0,
      "outputs": [
        {
          "output_type": "stream",
          "text": [
            "(-1+0j)\n"
          ],
          "name": "stdout"
        }
      ]
    },
    {
      "cell_type": "code",
      "metadata": {
        "id": "uhim7mEwbhna",
        "colab_type": "code",
        "outputId": "2389816f-d172-45d5-9352-3fcc918c1cb7",
        "colab": {
          "base_uri": "https://localhost:8080/",
          "height": 34
        }
      },
      "source": [
        "a=1.25556e4\n",
        "print(a)"
      ],
      "execution_count": 0,
      "outputs": [
        {
          "output_type": "stream",
          "text": [
            "12555.6\n"
          ],
          "name": "stdout"
        }
      ]
    },
    {
      "cell_type": "code",
      "metadata": {
        "id": "cGsRiP9ebj9_",
        "colab_type": "code",
        "outputId": "905edfa7-bced-479b-f190-ee6958fc5655",
        "colab": {
          "base_uri": "https://localhost:8080/",
          "height": 34
        }
      },
      "source": [
        "print(True+False)"
      ],
      "execution_count": 0,
      "outputs": [
        {
          "output_type": "stream",
          "text": [
            "1\n"
          ],
          "name": "stdout"
        }
      ]
    },
    {
      "cell_type": "markdown",
      "metadata": {
        "id": "MnkDXMFFB6Il",
        "colab_type": "text"
      },
      "source": [
        "\n",
        "\n",
        "> **Str:**\n",
        "\n",
        "*   represented in single quote \n",
        "\n",
        "*   represented in double quote \n",
        "*   represented in triple quote ==> multiline string literals\n",
        "\n",
        "*   No char data type is present , we can represent char using str only\n",
        "\n",
        "\n",
        "> **Slice Operator / Sub-String:**\n",
        "\n",
        "\n",
        "*   S[begin:end]==>returns sub-string from begin to end-1\n",
        "*   begin must be lower, end must be higher\n",
        "\n",
        "*   S[begin:end:step] ==> default value of step=1\n",
        "\n",
        "\n",
        "\n",
        "\n",
        "\n",
        "\n",
        "\n",
        "\n",
        "\n"
      ]
    },
    {
      "cell_type": "code",
      "metadata": {
        "id": "_TRGVkd2-vcs",
        "colab_type": "code",
        "outputId": "2d31b2bf-28ee-4109-d2b1-017bd08563c0",
        "colab": {
          "base_uri": "https://localhost:8080/",
          "height": 34
        }
      },
      "source": [
        "a='''gautam \"reddy\"'''\n",
        "print(a)\n"
      ],
      "execution_count": 0,
      "outputs": [
        {
          "output_type": "stream",
          "text": [
            "gautam \"reddy\"\n"
          ],
          "name": "stdout"
        }
      ]
    },
    {
      "cell_type": "code",
      "metadata": {
        "id": "Ty-JgWxpDbMS",
        "colab_type": "code",
        "outputId": "dda99149-548c-41cd-8e0c-5743347a0df1",
        "colab": {
          "base_uri": "https://localhost:8080/",
          "height": 68
        }
      },
      "source": [
        "a='Gautam'#single quote\n",
        "b=\"Gautam Reddy\"#double quote\n",
        "c='''Gautam \"Reddy\"'''#triple quote\n",
        "print(a,b,c,sep='\\n')"
      ],
      "execution_count": 0,
      "outputs": [
        {
          "output_type": "stream",
          "text": [
            "Gautam\n",
            "Gautam Reddy\n",
            "Gautam \"Reddy\"\n"
          ],
          "name": "stdout"
        }
      ]
    },
    {
      "cell_type": "code",
      "metadata": {
        "id": "h1DaBO8NAIaq",
        "colab_type": "code",
        "outputId": "ab8c0d4a-2bd9-445c-cf6e-cd240e55bf0c",
        "colab": {
          "base_uri": "https://localhost:8080/",
          "height": 34
        }
      },
      "source": [
        "print(c[1:20:2])"
      ],
      "execution_count": 0,
      "outputs": [
        {
          "output_type": "stream",
          "text": [
            "atm\"ed\"\n"
          ],
          "name": "stdout"
        }
      ]
    },
    {
      "cell_type": "code",
      "metadata": {
        "id": "I5S9Mm1uDuh6",
        "colab_type": "code",
        "outputId": "238bd62c-4f69-462a-f90c-dd20dde982c9",
        "colab": {
          "base_uri": "https://localhost:8080/",
          "height": 119
        }
      },
      "source": [
        "print(a[0])\n",
        "print(a[-1])\n",
        "print(a[-4:-1])\n",
        "print(a[:])\n",
        "print(a[1:100])\n",
        "print(c[1:20:2])"
      ],
      "execution_count": 0,
      "outputs": [
        {
          "output_type": "stream",
          "text": [
            "G\n",
            "m\n",
            "uta\n",
            "Gautam\n",
            "autam\n",
            "atm\"ed\"\n"
          ],
          "name": "stdout"
        }
      ]
    },
    {
      "cell_type": "markdown",
      "metadata": {
        "id": "ViEIbcGrJK5Q",
        "colab_type": "text"
      },
      "source": [
        "\n",
        "\n",
        "> **Type Conversion of fundamental data types:** \n",
        "\n",
        "\n",
        "> **int:**\n",
        "\n",
        "*   int(123.456) ==> 123\n",
        "*   int(10+20j) ==> Type Error\n",
        "\n",
        "*   int(True) ==> 1 \n",
        "*   int(\"10\") ==> 10\n",
        "\n",
        "*   int(\"10.23\") ==> Error decimal only accepted\n",
        "\n",
        "\n",
        "\n",
        "> **float:**\n",
        "\n",
        "*   float(123) ==> 123.0\n",
        "*   float(10+20j) ==> Type Error\n",
        "\n",
        "*   float(True) ==> 1.0\n",
        "*   float(\"10\") ==> 10.\n",
        "\n",
        "*   float(\"10.23\") ==> 10.23\n",
        "\n",
        "*   float('ten') ==> value error\n",
        "*   float(0b1111) ==> value error\n",
        "\n",
        "\n",
        "> **complex:**\n",
        "\n",
        "*   complex(x) => x+0j\n",
        "*   complex(x,y) => x+yj\n",
        "\n",
        "*   complex('ten') => value error\n",
        "*   complex(10,20) => 10+20j\n",
        "\n",
        "*   complex('10','20') => error\n",
        "\n",
        "\n",
        "\n",
        "> **bool:**\n",
        "\n",
        "\n",
        "*   bool(0.0) => False\n",
        "*   bool(0.1) => True\n",
        "*   bool(-10) => True\n",
        "*   bool(0) => False\n",
        "*   bool('') => False\n",
        "*   bool(0+j) => True\n",
        "*   bool('ten') => True\n",
        "\n",
        "\n",
        "\n",
        "> **Str:**\n",
        "\n",
        "*   str(10) => '10'\n",
        "\n",
        "> **Note:**\n",
        "\n",
        "*   All fundamental data types are immutable(once created we are not able to change the value).\n",
        "*   one object multiple references for int type only upto (0-256), bool => always,str => always , float and complex always creates new object\n",
        "*   At the time of python interpreter starts,from 0 to 256 integer objects will be created at the beginning\n",
        "\n"
      ]
    },
    {
      "cell_type": "markdown",
      "metadata": {
        "id": "88CzdCBRbm2N",
        "colab_type": "text"
      },
      "source": [
        "\n",
        "\n",
        "> **bytes:**It represents a group of byte numbers just like a number \n",
        "\n",
        "\n",
        "\n",
        "*   bytes is in the range 0-256\n",
        "\n",
        "*   immutable\n",
        "\n",
        "\n",
        "> **bytearray:**It represent a group of byte numbers just like a number\n",
        "\n",
        "*   bytearray is in the range 0-256\n",
        "*   mutable \n",
        "*   bytes and bytearray are used in images,video files and audio files\n",
        "\n",
        "\n",
        "\n",
        "\n",
        "\n"
      ]
    },
    {
      "cell_type": "code",
      "metadata": {
        "id": "QfBut5ZxfJug",
        "colab_type": "code",
        "outputId": "1ffb8a3c-eced-4f61-ec7b-ce6bc9146ecb",
        "colab": {
          "base_uri": "https://localhost:8080/",
          "height": 85
        }
      },
      "source": [
        "x=[10,20,3,5,6,89]\n",
        "y=bytes(x)\n",
        "print(type(y))\n",
        "print(y[0])\n",
        "z=bytearray(x)\n",
        "print(z[1])\n",
        "z[1]=2\n",
        "print(z[1])\n"
      ],
      "execution_count": 0,
      "outputs": [
        {
          "output_type": "stream",
          "text": [
            "<class 'bytes'>\n",
            "10\n",
            "20\n",
            "2\n"
          ],
          "name": "stdout"
        }
      ]
    },
    {
      "cell_type": "markdown",
      "metadata": {
        "id": "PtpPMVhTgmgw",
        "colab_type": "text"
      },
      "source": [
        "\n",
        "\n",
        "> **list:**\n",
        "\n",
        "*   values are enclosed in []\n",
        "*   Insertion order is preserved\n",
        "*   Duplicates are allowed\n",
        "*   heterogeneous data types are allowed (int, float,bool,str)\n",
        "*   list is growable in nature(increase or decrease)\n",
        "*   mutable\n",
        "*   values are accessed using index\n",
        "*   slice operator is also applicable\n",
        "\n"
      ]
    },
    {
      "cell_type": "code",
      "metadata": {
        "id": "5tVaJS4gifkT",
        "colab_type": "code",
        "outputId": "f82ee6fb-7c5b-4084-db0c-23b60914a35a",
        "colab": {
          "base_uri": "https://localhost:8080/",
          "height": 85
        }
      },
      "source": [
        "l=[]\n",
        "l1=[1,2,3,1,2,3,'Gautam',True]\n",
        "print(l,l1,sep='\\n')\n",
        "l2=l1*2\n",
        "print(l2)\n",
        "l3=l2[1:5:2]\n",
        "print(l3)"
      ],
      "execution_count": 0,
      "outputs": [
        {
          "output_type": "stream",
          "text": [
            "[]\n",
            "[1, 2, 3, 1, 2, 3, 'Gautam', True]\n",
            "[1, 2, 3, 1, 2, 3, 'Gautam', True, 1, 2, 3, 1, 2, 3, 'Gautam', True]\n",
            "[2, 1]\n"
          ],
          "name": "stdout"
        }
      ]
    },
    {
      "cell_type": "markdown",
      "metadata": {
        "id": "Ip1IHZwTjRv8",
        "colab_type": "text"
      },
      "source": [
        "\n",
        "\n",
        "> **tuple:**\n",
        "\n",
        "*   values are enclosed in ()\n",
        "*   Insertion order is preserved\n",
        "*   Duplicates are allowed\n",
        "*   heterogeneous data types are allowed (int, float,bool,str)\n",
        "*   tuple is growable in nature(increase or decrease)\n",
        "*   immutable\n",
        "*   values are accessed using index\n",
        "*   slice operator is also applicable\n",
        "\n"
      ]
    },
    {
      "cell_type": "code",
      "metadata": {
        "id": "dwfbNr6ljyRF",
        "colab_type": "code",
        "outputId": "b19fbc2b-7eb6-4193-9800-40173010ee69",
        "colab": {
          "base_uri": "https://localhost:8080/",
          "height": 85
        }
      },
      "source": [
        "t=()\n",
        "t1=(1,2,3,1,2,3,'Gautam',True)\n",
        "print(t,t1,sep='\\n')\n",
        "t2=t1*2\n",
        "print(t2)\n",
        "t3=t2[0:5]\n",
        "print(t3)"
      ],
      "execution_count": 0,
      "outputs": [
        {
          "output_type": "stream",
          "text": [
            "()\n",
            "(1, 2, 3, 1, 2, 3, 'Gautam', True)\n",
            "(1, 2, 3, 1, 2, 3, 'Gautam', True, 1, 2, 3, 1, 2, 3, 'Gautam', True)\n",
            "(1, 2, 3, 1, 2)\n"
          ],
          "name": "stdout"
        }
      ]
    },
    {
      "cell_type": "markdown",
      "metadata": {
        "id": "2T47YtYnk1Y8",
        "colab_type": "text"
      },
      "source": [
        "\n",
        "\n",
        "> **range:**\n",
        "\n",
        "\n",
        "*   range data types represent a sequence of values\n",
        "*   immutable\n",
        "*   Form1: range(x) => It represent values from 0 to x-1\n",
        "*   Form2: range(x,y) => It represent values from x to y-1\n",
        "*   Form3: range(x,y,step) => It represent values from x to y-1 with step value\n",
        "*   Not applicable for float, only applicable for integer type\n",
        "\n",
        "\n"
      ]
    },
    {
      "cell_type": "code",
      "metadata": {
        "id": "Ut-Gzml7moUm",
        "colab_type": "code",
        "outputId": "fc44e448-d427-4a45-91df-26f1aab810aa",
        "colab": {
          "base_uri": "https://localhost:8080/",
          "height": 204
        }
      },
      "source": [
        "print(range(10))\n",
        "print(range(10,29))\n",
        "print(range (10,50,5) )\n",
        "for i in range(10,50,5):\n",
        "  print(i)\n"
      ],
      "execution_count": 0,
      "outputs": [
        {
          "output_type": "stream",
          "text": [
            "range(0, 10)\n",
            "range(10, 29)\n",
            "range(10, 50, 5)\n",
            "10\n",
            "15\n",
            "20\n",
            "25\n",
            "30\n",
            "35\n",
            "40\n",
            "45\n"
          ],
          "name": "stdout"
        }
      ]
    },
    {
      "cell_type": "markdown",
      "metadata": {
        "id": "ZJK_tUi9ncE3",
        "colab_type": "text"
      },
      "source": [
        "\n",
        "\n",
        "> **Set:**\n",
        "\n",
        "\n",
        "*   values are enclosed in {}\n",
        "*   Insertion order is not preserved\n",
        "*   Duplicates are not allowed\n",
        "*   heterogeneous data types are allowed (int, float,bool,str)\n",
        "*   set is growable in nature(increase or decrease)\n",
        "*   mutable\n",
        "*   indexing and slicing are not applicable\n",
        "\n",
        "\n",
        "\n",
        "\n"
      ]
    },
    {
      "cell_type": "code",
      "metadata": {
        "id": "ZJB0bIxGo4j_",
        "colab_type": "code",
        "outputId": "0695dc96-8a24-4ba0-f8c2-505c5f6bc318",
        "colab": {
          "base_uri": "https://localhost:8080/",
          "height": 34
        }
      },
      "source": [
        "s=set() #empty set declaration\n",
        "s1={1,2,'Gautam'}\n",
        "print(s,s1)"
      ],
      "execution_count": 0,
      "outputs": [
        {
          "output_type": "stream",
          "text": [
            "set() {1, 2, 'Gautam'}\n"
          ],
          "name": "stdout"
        }
      ]
    },
    {
      "cell_type": "markdown",
      "metadata": {
        "id": "ApZLZEhvqOix",
        "colab_type": "text"
      },
      "source": [
        "\n",
        "\n",
        "> **frozenset:**\n",
        "\n",
        "*   values are enclosed in {}\n",
        "*   Insertion order is not preserved\n",
        "*   Duplicates are not allowed\n",
        "*   heterogeneous data types are allowed (int, float,bool,str)\n",
        "*   immutable\n",
        "*   indexing and slicing are not applicable\n",
        "\n"
      ]
    },
    {
      "cell_type": "code",
      "metadata": {
        "id": "A7C2v19cqmsh",
        "colab_type": "code",
        "outputId": "8f1d3ca0-05bf-4b8e-bc12-ee74c782b03f",
        "colab": {
          "base_uri": "https://localhost:8080/",
          "height": 34
        }
      },
      "source": [
        "s1={1,2,'Gautam'}\n",
        "s2=frozenset(s1)\n",
        "print(s2)"
      ],
      "execution_count": 0,
      "outputs": [
        {
          "output_type": "stream",
          "text": [
            "frozenset({1, 2, 'Gautam'})\n"
          ],
          "name": "stdout"
        }
      ]
    },
    {
      "cell_type": "markdown",
      "metadata": {
        "id": "Mw2VU6Ouyu3E",
        "colab_type": "text"
      },
      "source": [
        "\n",
        "\n",
        "> **Dict:**\n",
        "\n",
        "\n",
        "\n",
        "*   key and values pair\n",
        "*   unordered \n",
        "*   values are enclosed in {}\n",
        "*   duplicate keys are not allowed , but values can be duplicated\n",
        "*   key and values can be heterogeneous\n",
        "*   mutable\n",
        "*   if we are using duplicate key, the old value will be replaced with new value\n"
      ]
    },
    {
      "cell_type": "code",
      "metadata": {
        "id": "aON9W5ZnzscE",
        "colab_type": "code",
        "outputId": "e5365f79-b46b-4997-be35-50486e8e51ba",
        "colab": {
          "base_uri": "https://localhost:8080/",
          "height": 34
        }
      },
      "source": [
        "d={} #empty dictionary\n",
        "d1={100:'Gautam','300':'Reddy'}\n",
        "print(d,d1)"
      ],
      "execution_count": 0,
      "outputs": [
        {
          "output_type": "stream",
          "text": [
            "{} {100: 'Gautam', '300': 'Reddy'}\n"
          ],
          "name": "stdout"
        }
      ]
    },
    {
      "cell_type": "markdown",
      "metadata": {
        "id": "_ahzRO8v8dQ-",
        "colab_type": "text"
      },
      "source": [
        "\n",
        "\n",
        "> **None:**\n",
        "\n",
        "\n",
        "\n",
        "*   If function is not returning any value, then if we print the function we get None\n",
        "\n",
        "\n",
        "\n",
        "\n",
        "\n"
      ]
    },
    {
      "cell_type": "code",
      "metadata": {
        "id": "F6fLxAR784in",
        "colab_type": "code",
        "outputId": "29f33030-2b62-4e40-dd3f-8a07e5f4de5d",
        "colab": {
          "base_uri": "https://localhost:8080/",
          "height": 34
        }
      },
      "source": [
        "def f1():\n",
        "  a=10\n",
        "print(f1())  \n"
      ],
      "execution_count": 0,
      "outputs": [
        {
          "output_type": "stream",
          "text": [
            "None\n"
          ],
          "name": "stdout"
        }
      ]
    },
    {
      "cell_type": "markdown",
      "metadata": {
        "id": "oG02CYwZgZoO",
        "colab_type": "text"
      },
      "source": [
        "\n",
        "\n",
        "> **raw_input vs input :**\n",
        "* **raw_input :** It is used in python 2.x version only, take any type of data into string \n",
        "* **input() :** It is used in both 2.x and 3.x version ,In python 2.x version ,based on given input type will change automatically\n",
        "\n",
        "\n",
        "---\n",
        "> **input() in python 3 :**\n",
        "* Any data provided to the input function is always takes into **string type**\n",
        "* for conversions we have to use type casting\n",
        "\n",
        "\n",
        "\n"
      ]
    },
    {
      "cell_type": "code",
      "metadata": {
        "id": "wu-VdNeQwjiL",
        "colab_type": "code",
        "outputId": "6e765506-ef10-453d-d1f8-c74c2c6c86ed",
        "colab": {
          "base_uri": "https://localhost:8080/",
          "height": 51
        }
      },
      "source": [
        "x=input('enter the number : ')\n",
        "type(x)"
      ],
      "execution_count": 0,
      "outputs": [
        {
          "output_type": "stream",
          "text": [
            "enter the number : 3\n"
          ],
          "name": "stdout"
        },
        {
          "output_type": "execute_result",
          "data": {
            "text/plain": [
              "str"
            ]
          },
          "metadata": {
            "tags": []
          },
          "execution_count": 8
        }
      ]
    },
    {
      "cell_type": "code",
      "metadata": {
        "id": "6MX3qEj4wxrX",
        "colab_type": "code",
        "outputId": "25de62b0-8426-4e4b-ac18-5603dc70aee3",
        "colab": {
          "base_uri": "https://localhost:8080/",
          "height": 221
        }
      },
      "source": [
        "eno=int(input('enter the employee no : '))\n",
        "ename=input('enter the employee name : ')\n",
        "esal=float(input('enter the employee salary : '))\n",
        "eadd=input('enter the employee address : ')\n",
        "emar=bool(input('Is employee married ? enter True | False : '))# if any string present bool will return true so in order to overcome this problem we will use eval\n",
        "emar1=eval(input(('Is employee married ? enter True | False : ')))\n",
        "print('employee no : ',eno)\n",
        "print('employee name : ',ename)\n",
        "print('employee salary : ',esal)\n",
        "print('employee address : ',eadd)\n",
        "print('employee married ? :', emar)\n",
        "print('Employee married1 ? :',emar1)"
      ],
      "execution_count": 0,
      "outputs": [
        {
          "output_type": "stream",
          "text": [
            "enter the employee no : 12457\n",
            "enter the employee name : Reddy\n",
            "enter the employee salary : 1245789\n",
            "enter the employee address : Bangalore\n",
            "Is employee married ? enter True | False : False\n",
            "Is employee married ? enter True | False : False\n",
            "employee no :  12457\n",
            "employee name :  Reddy\n",
            "employee salary :  1245789.0\n",
            "employee address :  Bangalore\n",
            "employee married ? : True\n",
            "Employee married1 ? : False\n"
          ],
          "name": "stdout"
        }
      ]
    },
    {
      "cell_type": "markdown",
      "metadata": {
        "id": "Q1cYB7tQG04M",
        "colab_type": "text"
      },
      "source": [
        "\n",
        "\n",
        "> **How to read multiple values from the keyword in a single line :**\n",
        "* a,b=[int(x) for x in input('enter the 2 numbers : ').split()]\n",
        "\n"
      ]
    },
    {
      "cell_type": "code",
      "metadata": {
        "id": "ewMVad5uHQ-W",
        "colab_type": "code",
        "outputId": "6d9450c2-6421-4a5c-e9b8-808b2455f8bf",
        "colab": {
          "base_uri": "https://localhost:8080/",
          "height": 85
        }
      },
      "source": [
        "a,b=[int(x) for x in input('enter the 2 numbers : ').split()]\n",
        "print('sum : ',a+b)\n",
        "p,q=[int(x) for x in input('enter the 2 numbers : ').split(',')]\n",
        "print('product : ',p*q)"
      ],
      "execution_count": 0,
      "outputs": [
        {
          "output_type": "stream",
          "text": [
            "enter the 2 numbers : 1 2\n",
            "sum :  3\n",
            "enter the 2 numbers : 1,8\n",
            "product :  8\n"
          ],
          "name": "stdout"
        }
      ]
    },
    {
      "cell_type": "markdown",
      "metadata": {
        "id": "Rw7frSbWIp9C",
        "colab_type": "text"
      },
      "source": [
        "> **eval() :**\n",
        "* eval will convert the type given input automatically to corresponding type"
      ]
    },
    {
      "cell_type": "code",
      "metadata": {
        "id": "Cg97tsyqJSet",
        "colab_type": "code",
        "outputId": "c9a886cf-e368-4cc6-a487-dfb46e5eaaae",
        "colab": {
          "base_uri": "https://localhost:8080/",
          "height": 51
        }
      },
      "source": [
        "x=eval(input('enter the number'))\n",
        "type(x)"
      ],
      "execution_count": 0,
      "outputs": [
        {
          "output_type": "stream",
          "text": [
            "enter the number10.34\n"
          ],
          "name": "stdout"
        },
        {
          "output_type": "execute_result",
          "data": {
            "text/plain": [
              "float"
            ]
          },
          "metadata": {
            "tags": []
          },
          "execution_count": 14
        }
      ]
    },
    {
      "cell_type": "markdown",
      "metadata": {
        "id": "AcRqUkf7JldU",
        "colab_type": "text"
      },
      "source": [
        "> **command line arguments :**\n",
        "* first command line argument is always name of the file but not the value provided\n",
        "* It is present in sys module and present in argv"
      ]
    },
    {
      "cell_type": "code",
      "metadata": {
        "id": "r7QHd7w6KHXm",
        "colab_type": "code",
        "outputId": "e11adbd3-294b-4779-ffff-8d3c6538d3c8",
        "colab": {
          "base_uri": "https://localhost:8080/",
          "height": 34
        }
      },
      "source": [
        "from sys import argv\n",
        "type(argv)"
      ],
      "execution_count": 0,
      "outputs": [
        {
          "output_type": "execute_result",
          "data": {
            "text/plain": [
              "list"
            ]
          },
          "metadata": {
            "tags": []
          },
          "execution_count": 2
        }
      ]
    },
    {
      "cell_type": "markdown",
      "metadata": {
        "id": "EYTYOjU9c7ZN",
        "colab_type": "text"
      },
      "source": [
        "> **sep :**\n",
        "* The separator between the arguments to print() function in Python is space by default (softspace feature) , which can be modified and can be made to any character, integer or string as per our choice. \n",
        "* The ‘sep’ parameter is used to achieve the same, it is found only in python 3.x or later. It is also used for formatting the output strings\n",
        "\n",
        "> **end :**\n",
        "* By default python’s print() function ends with a newline\n",
        "* Python’s print() function comes with a parameter called ‘end’. By default, the value of this parameter is ‘\\n’, i.e. the new line character.\n",
        "*  You can end a print statement with any character/string using this parameter"
      ]
    },
    {
      "cell_type": "code",
      "metadata": {
        "id": "6dTUmNNKdN6e",
        "colab_type": "code",
        "outputId": "2e991d82-c1c6-4cdc-ca9a-04f530586c6c",
        "colab": {
          "base_uri": "https://localhost:8080/",
          "height": 85
        }
      },
      "source": [
        "a,b,c,d=10,20,30,40\n",
        "print(a,b,c,d,sep=':')\n",
        "print('*'*20)\n",
        "print(10,20,30,sep='=>',end='****')\n",
        "print(40,50,60,sep=':')\n",
        "print(70,80,sep='**',end='$$$$')\n",
        "print(90,100)"
      ],
      "execution_count": 0,
      "outputs": [
        {
          "output_type": "stream",
          "text": [
            "10:20:30:40\n",
            "********************\n",
            "10=>20=>30****40:50:60\n",
            "70**80$$$$90 100\n"
          ],
          "name": "stdout"
        }
      ]
    },
    {
      "cell_type": "code",
      "metadata": {
        "id": "FPyV0h7BfrO7",
        "colab_type": "code",
        "outputId": "0625b482-f703-4d40-b5c7-9d5ea34a7b7d",
        "colab": {
          "base_uri": "https://localhost:8080/",
          "height": 51
        }
      },
      "source": [
        "print('Gowtham'+'Reddy')\n",
        "print('Gowtham','Reddy')"
      ],
      "execution_count": 0,
      "outputs": [
        {
          "output_type": "stream",
          "text": [
            "GowthamReddy\n",
            "Gowtham Reddy\n"
          ],
          "name": "stdout"
        }
      ]
    },
    {
      "cell_type": "markdown",
      "metadata": {
        "id": "uI2Q5fxmgPvn",
        "colab_type": "text"
      },
      "source": [
        "> **print() with replacement operator {} :**"
      ]
    },
    {
      "cell_type": "code",
      "metadata": {
        "id": "ulhYTM7AgemG",
        "colab_type": "code",
        "outputId": "bbb4fa8a-67f9-4150-ecd2-0a1e1d72c2c3",
        "colab": {
          "base_uri": "https://localhost:8080/",
          "height": 68
        }
      },
      "source": [
        "name='Gowtham'\n",
        "dept='AI'\n",
        "city='kgp'\n",
        "print('hello my name is {} studying under the dept {} at {}'.format(name,dept,city))\n",
        "print('hello my name is {1} studying under the dept {2} at {0}'.format(name,dept,city))\n",
        "print('hello my name is {n} studying under the dept {d} at {c}'.format(n=name,c=city,d=dept))"
      ],
      "execution_count": 0,
      "outputs": [
        {
          "output_type": "stream",
          "text": [
            "hello my name is Gowtham studying under the dept AI at kgp\n",
            "hello my name is AI studying under the dept kgp at Gowtham\n",
            "hello my name is Gowtham studying under the dept AI at kgp\n"
          ],
          "name": "stdout"
        }
      ]
    },
    {
      "cell_type": "markdown",
      "metadata": {
        "id": "fMblPotb97vo",
        "colab_type": "text"
      },
      "source": [
        "\n",
        "\n",
        "> **Escape characters:**\n",
        "\n",
        "\n",
        "*   \\n => new line\n",
        "*   \\t => horizontal tab\n",
        "*   \\r => carriage return => go to the post position of the line\n",
        "*   \\b => backspace\n",
        "*   \\f => formfeed => page down (go to next page)\n",
        "*   \\'=> single quote\n",
        "*   \\\" => double quote\n",
        "*   \\\\ => backslash\n",
        "*   \\v => vertical tab\n",
        "\n",
        "\n",
        "\n",
        "\n",
        "\n"
      ]
    },
    {
      "cell_type": "markdown",
      "metadata": {
        "id": "pIb768GKBbt4",
        "colab_type": "text"
      },
      "source": [
        "\n",
        "\n",
        "> **Constant:**\n",
        "\n",
        "*   No constants are available in python\n",
        "\n",
        "\n",
        "\n",
        "\n"
      ]
    },
    {
      "cell_type": "markdown",
      "metadata": {
        "id": "KyCD8UniCrMt",
        "colab_type": "text"
      },
      "source": [
        "\n",
        "\n",
        "> **Operators:**\n",
        "\n",
        "\n",
        "\n",
        "*   Arithmetic operators\n",
        "*   Relational operators or Comparision operators\n",
        "*   Logical operators\n",
        "*   Bitwise operators\n",
        "*   Assignment operators\n",
        "*   Special operators\n",
        "\n",
        "\n",
        "\n",
        "> **Arithmetic operators:**Arithmetic operators are used to perform mathematical operations like addition, subtraction, multiplication and division\n",
        "\n",
        "\n",
        "*   addition => +\n",
        "*   substraction => -\n",
        "*   multiplication => *\n",
        "*   division => /\n",
        "*   modulo => % \n",
        "*   floor division => // , if both the operands are int then result is int , else float\n",
        "*   exponent or power => **\n",
        "*   Addition and multiplication operators are also applicable for string\n",
        "    *   Addition => both must be string\n",
        "   *   multiplication => atleast one operator must be int\n",
        "\n"
      ]
    },
    {
      "cell_type": "code",
      "metadata": {
        "id": "dV-Qx1DDFTsI",
        "colab_type": "code",
        "outputId": "4fd144a1-99e4-4a07-e854-9ce5da31f341",
        "colab": {
          "base_uri": "https://localhost:8080/",
          "height": 170
        }
      },
      "source": [
        "a=35\n",
        "b=2\n",
        "c='Gautam'\n",
        "d='Reddy'\n",
        "print(\"a+b is\",a+b)\n",
        "print(\"a-b is\",a-b)\n",
        "print(\"a*b is\",a*b)\n",
        "print(\"a/b is\",a/b)\n",
        "print(\"a%b is\",a%b)\n",
        "print(\"a//b is\",a//b)\n",
        "print(\"a**b is\",a**b)\n",
        "print(\"string addition ==> \",c+d)\n",
        "print(\"string multiplication ==> \",c*4)"
      ],
      "execution_count": 0,
      "outputs": [
        {
          "output_type": "stream",
          "text": [
            "a+b is 37\n",
            "a-b is 33\n",
            "a*b is 70\n",
            "a/b is 17.5\n",
            "a%b is 1\n",
            "a//b is 17\n",
            "a**b is 1225\n",
            "string addition ==>  GautamReddy\n",
            "string multiplication ==>  GautamGautamGautamGautam\n"
          ],
          "name": "stdout"
        }
      ]
    },
    {
      "cell_type": "markdown",
      "metadata": {
        "id": "7n6GZ43bLr7Q",
        "colab_type": "text"
      },
      "source": [
        "\n",
        "\n",
        "> **Relational operators:**Relational operators compares the values. It either returns True or False according to the condition\n",
        "\n",
        "\n",
        "*   greater than :   >\n",
        "*   greater than or equalto : >=\n",
        "*   less than: <\n",
        "*   less than or equal to : <=\n",
        "*   equal : ==\n",
        "*   not equal : !=\n",
        "*   Based on ASCII code the relational operation is done\n",
        "*   chaining of relational operators is applicable"
      ]
    },
    {
      "cell_type": "code",
      "metadata": {
        "id": "IjVE4Eo4NDJ9",
        "colab_type": "code",
        "outputId": "d7f3dc9d-d32c-4f1e-e7f0-ff7e37bd2a85",
        "colab": {
          "base_uri": "https://localhost:8080/",
          "height": 173
        }
      },
      "source": [
        "a=32\n",
        "b=2\n",
        "c='Gautam'\n",
        "d='Reddy'\n",
        "print('a>b is',a>b)\n",
        "print('a>=b is',a>=b)\n",
        "print('a<b is',a<b)\n",
        "print('a<=b is',a<=b)\n",
        "print('c>d is',c>d)\n",
        "print('c<d is',c<d)\n",
        "print('chaining relation:',a<b>c<d)\n",
        "print('a equal b',a==b)\n",
        "print('a not equal b',a!=b)"
      ],
      "execution_count": 0,
      "outputs": [
        {
          "output_type": "stream",
          "text": [
            "a>b is True\n",
            "a>=b is True\n",
            "a<b is False\n",
            "a<=b is False\n",
            "c>d is False\n",
            "c<d is True\n",
            "chaining relation: False\n",
            "a equal b False\n",
            "a not equal b True\n"
          ],
          "name": "stdout"
        }
      ]
    },
    {
      "cell_type": "markdown",
      "metadata": {
        "id": "jmaJYKV53iEN",
        "colab_type": "text"
      },
      "source": [
        "\n",
        "\n",
        "> **Logical operators :**Logical operators perform Logical AND, Logical OR and Logical NOT operations\n",
        "\n",
        "\n",
        "*   and\n",
        "*   or\n",
        "*   not"
      ]
    },
    {
      "cell_type": "code",
      "metadata": {
        "id": "F_kgrx4j31Y8",
        "colab_type": "code",
        "outputId": "72f43f88-6017-48cd-ccd5-ce74b8adb1a9",
        "colab": {
          "base_uri": "https://localhost:8080/",
          "height": 104
        }
      },
      "source": [
        "a = 199\n",
        "b = 20\n",
        "c= True\n",
        "d= False\n",
        "# Print a and b is min value 20 \n",
        "print(a and b)   \n",
        "# Print a or b is max value 199 \n",
        "print(a or b) \n",
        "\n",
        "# Print c and d is False \n",
        "print(c and d) \n",
        "  \n",
        "# Print c or d is True \n",
        "print(c or d) \n",
        "  \n",
        "# Print not c is False \n",
        "print(not c) "
      ],
      "execution_count": 0,
      "outputs": [
        {
          "output_type": "stream",
          "text": [
            "20\n",
            "199\n",
            "False\n",
            "True\n",
            "False\n"
          ],
          "name": "stdout"
        }
      ]
    },
    {
      "cell_type": "markdown",
      "metadata": {
        "id": "ksbY1U-64_MU",
        "colab_type": "text"
      },
      "source": [
        "\n",
        "\n",
        "> **Bitwise operators :**Bitwise operators acts on bits and performs bit by bit operation\n",
        "\n",
        "*   Bitwise AND ==> &\n",
        "*   Bitwise OR \t==> |\n",
        "* \tBitwise NOT ==> ~\t\n",
        "* \tBitwise XOR ==> ^\t\n",
        "*\t  Bitwise right shift ==> >> \t\n",
        "* \tBitwise left shift ==> <<\n",
        "\n",
        "\n",
        "\n",
        "\n"
      ]
    },
    {
      "cell_type": "code",
      "metadata": {
        "id": "Xt79cI226AFu",
        "colab_type": "code",
        "outputId": "f86ea66a-6b4a-4912-9159-5639ee1ed244",
        "colab": {
          "base_uri": "https://localhost:8080/",
          "height": 153
        }
      },
      "source": [
        "# Examples of Bitwise operators \n",
        "a = 10\n",
        "b = 4\n",
        "print(bin(a))\n",
        "print(bin(b)) \n",
        "# Print bitwise AND operation   \n",
        "print(a & b) \n",
        "  \n",
        "# Print bitwise OR operation \n",
        "print(a | b) \n",
        "  \n",
        "# Print bitwise NOT operation  \n",
        "print(~b) \n",
        "  \n",
        "# print bitwise XOR operation  \n",
        "print(a ^ b) \n",
        "  \n",
        "# print bitwise right shift operation  \n",
        "print(b >> 2) \n",
        "  \n",
        "# print bitwise left shift operation  \n",
        "print(b << 2) "
      ],
      "execution_count": 0,
      "outputs": [
        {
          "output_type": "stream",
          "text": [
            "0b1010\n",
            "0b100\n",
            "0\n",
            "14\n",
            "-5\n",
            "14\n",
            "1\n",
            "16\n"
          ],
          "name": "stdout"
        }
      ]
    },
    {
      "cell_type": "markdown",
      "metadata": {
        "id": "5IGy4Djy8Rd0",
        "colab_type": "text"
      },
      "source": [
        "\n",
        "\n",
        "> **Assignment operators :**Assignment operators are used to assign values to the variables\n",
        "\n",
        "\n",
        "\n",
        "*   Assign value of right side of expression to left side operand ==> = (e.g:a = b + c ) \n",
        "*   Add AND: ==> a+=b (e.g:a = a+b )\n",
        "*   Subtract AND: ==> a-=b (e.g:a = a-b )\n",
        "*   Multiply AND: ==> a*=b (e.g:a = a*b )\n",
        "*   Divide AND: ==> a/=b (e.g:a = a/b )\n",
        "*   Modulus AND: ==> a%=b (e.g:a = a%b )\n",
        "*   Divide(floor) AND: ==> a//=b (e.g:a = a//b )\n",
        "*   Exponent AND: ==> a**=b \n",
        "*   Bitwise AND: ==> a&=b (e.g:a = a&b )\n",
        "*   Bitwise OR: ==> a|=b (e.g:a = a|b )\n",
        "*   Bitwise xOR: ==> a^=b (e.g:a = a^b )\n",
        "*   Bitwise right shift: ==> a>>=b (e.g:a = a>>b )\n",
        "*   Bitwise left shift : ==> a<<=b (e.g:a = a<<b )"
      ]
    },
    {
      "cell_type": "code",
      "metadata": {
        "id": "2I6YHqlzAgn8",
        "colab_type": "code",
        "outputId": "0b7aed29-ce13-465f-816c-0fb9cb3b5f30",
        "colab": {
          "base_uri": "https://localhost:8080/",
          "height": 34
        }
      },
      "source": [
        "a=35\n",
        "b=2\n",
        "a+=b\n",
        "print(a)"
      ],
      "execution_count": 0,
      "outputs": [
        {
          "output_type": "stream",
          "text": [
            "37\n"
          ],
          "name": "stdout"
        }
      ]
    },
    {
      "cell_type": "markdown",
      "metadata": {
        "id": "H911mF0GBnW1",
        "colab_type": "text"
      },
      "source": [
        "\n",
        "\n",
        "> **Special operators:**There are some special type of operators like:\n",
        "\n",
        "*   **Identity operators**\n",
        "*   **Membership operators**\n",
        "\n",
        "> **Identity operators:** **is** and **is not** are the identity operators both are used to check if two values are located on the same part of the memory. Two variables that are equal does not imply that they are identical.\n",
        "\n",
        "\n",
        "*   **is**   ==>      True if the operands are identical \n",
        "*   **is not** ==>     True if the operands are not identical \n",
        "\n"
      ]
    },
    {
      "cell_type": "code",
      "metadata": {
        "id": "Pa1UTVF6C3UC",
        "colab_type": "code",
        "outputId": "3c987315-e252-40db-e234-9a5aee612aa9",
        "colab": {
          "base_uri": "https://localhost:8080/",
          "height": 102
        }
      },
      "source": [
        "\n",
        "# Examples of Identity operators \n",
        "a1 = 3\n",
        "b1 = 3\n",
        "print(id(a1))\n",
        "print(id(b1))\n",
        "a2 = 'GeeksforGeeks'\n",
        "b2 = 'Geeks forGeeks'\n",
        "a3 = (1,2,3) \n",
        "b3 = (1,2,3)\n",
        "  \n",
        "  \n",
        "print(a1 is b1) \n",
        "  \n",
        "  \n",
        "print(a2 is b2) \n",
        "  \n",
        " \n",
        "print(a3 is b3) \n"
      ],
      "execution_count": 0,
      "outputs": [
        {
          "output_type": "stream",
          "text": [
            "10914560\n",
            "10914560\n",
            "True\n",
            "False\n",
            "False\n"
          ],
          "name": "stdout"
        }
      ]
    },
    {
      "cell_type": "markdown",
      "metadata": {
        "id": "z6o5PLK5DDre",
        "colab_type": "text"
      },
      "source": [
        "\n",
        "\n",
        "> **Membership operators:** **in** and **not in** are the membership operators; used to test whether a value or variable is in a sequence\n",
        "\n",
        "*   **in**   ==>         True if value is found in the sequence\n",
        "*  **not in**  ==>     True if value is not found in the sequence\n",
        "\n",
        "\n",
        "\n"
      ]
    },
    {
      "cell_type": "code",
      "metadata": {
        "id": "CdwaAwCiDmwb",
        "colab_type": "code",
        "outputId": "d9345031-2154-4494-d3ca-412307e8ed38",
        "colab": {
          "base_uri": "https://localhost:8080/",
          "height": 102
        }
      },
      "source": [
        "\n",
        "# Examples of Membership operator \n",
        "x = 'Geeks for Geeks'\n",
        "y = {3:'a',4:'b'} \n",
        "  \n",
        "  \n",
        "print('G' in x) \n",
        "  \n",
        "print('geeks' not in x) \n",
        "  \n",
        "print('Geeks' not in x) \n",
        "  \n",
        "print(3 in y) \n",
        "  \n",
        "print('b' in y) \n"
      ],
      "execution_count": 0,
      "outputs": [
        {
          "output_type": "stream",
          "text": [
            "True\n",
            "True\n",
            "False\n",
            "True\n",
            "False\n"
          ],
          "name": "stdout"
        }
      ]
    },
    {
      "cell_type": "markdown",
      "metadata": {
        "id": "6m6Mphwd0wr-",
        "colab_type": "text"
      },
      "source": [
        "\n",
        "\n",
        "> **List:**\n",
        "\n",
        "\n",
        "*   To determine how many items a list has, use the **len()** function\n",
        "*   To add an item to the end of the list, use the **append()** method\n",
        "*   To add an item at the specified index, use the **insert()** method\n",
        "\n",
        "*  append() ==>\tAdds an element at the end of the list\n",
        "*   clear() ==>\tRemoves all the elements from the list\n",
        "*   copy() ==> \tReturns a copy of the list\n",
        "*   count() ==>\tReturns the number of elements with the specified value\n",
        "*   extend() ==> Add the elements of a list (multiple elements), to the end of the current list\n",
        "*  index() ==>\tReturns the index of the first element with the specified value\n",
        "*  insert() ==>\tAdds an element at the specified position\n",
        "*  pop() ==>\tRemoves the element at the specified position or or the last                     item if index is not specified\n",
        "*  remove() ==>\tRemoves the item with the specified value\n",
        "*  reverse() ==>\tReverses the order of the list\n",
        "*  sort() ==>\tSorts the list\n",
        "*  del ==> The del keyword removes the specified index or delete the list completely\n",
        "\n",
        "\n",
        "\n",
        "\n",
        "\n"
      ]
    },
    {
      "cell_type": "code",
      "metadata": {
        "id": "b1VL6pVs25kA",
        "colab_type": "code",
        "outputId": "9cfad602-a4b7-441d-e679-1ce3fa1df594",
        "colab": {
          "base_uri": "https://localhost:8080/",
          "height": 204
        }
      },
      "source": [
        "a=[1,2,3,\"gautam\",\"reddy\",'a','b',1]\n",
        "print(len(a))\n",
        "a.append('c') #adding 1 value at the end of the list\n",
        "print(a)\n",
        "c=[2,34,1,21,2,31,4,1]\n",
        "c.sort()\n",
        "print(c)\n",
        "a.insert(1,'d')#adding value at a particular position in the list\n",
        "print(a)\n",
        "b=a.copy()\n",
        "print(b)\n",
        "a.extend([11,12])#for adding multiple position at the end of the string\n",
        "print(a)\n",
        "print(a.count(1))#for displaying number of repeated elements\n",
        "b.remove(1) #for removing 1 element from the list\n",
        "print(b)\n",
        "b.pop()\n",
        "print(b)\n",
        "del b[1:3]\n",
        "print(b)\n",
        "b.clear()\n",
        "print(b)\n",
        "del b\n",
        "# print(b) #this will raise an error because the List is no longer exists\n"
      ],
      "execution_count": 0,
      "outputs": [
        {
          "output_type": "stream",
          "text": [
            "8\n",
            "[1, 2, 3, 'gautam', 'reddy', 'a', 'b', 1, 'c']\n",
            "[1, 1, 2, 2, 4, 21, 31, 34]\n",
            "[1, 'd', 2, 3, 'gautam', 'reddy', 'a', 'b', 1, 'c']\n",
            "[1, 'd', 2, 3, 'gautam', 'reddy', 'a', 'b', 1, 'c']\n",
            "[1, 'd', 2, 3, 'gautam', 'reddy', 'a', 'b', 1, 'c', 11, 12]\n",
            "2\n",
            "['d', 2, 3, 'gautam', 'reddy', 'a', 'b', 1, 'c']\n",
            "['d', 2, 3, 'gautam', 'reddy', 'a', 'b', 1]\n",
            "['d', 'gautam', 'reddy', 'a', 'b', 1]\n",
            "[]\n"
          ],
          "name": "stdout"
        }
      ]
    },
    {
      "cell_type": "markdown",
      "metadata": {
        "id": "1tcrli4FXuP6",
        "colab_type": "text"
      },
      "source": [
        "\n",
        "\n",
        "> **Tuple:**\n",
        "\n",
        "*   **len():** To determine how many items a tuple has, use the **len()** method\n",
        "\n",
        "*   To create a tuple with only one item, you have add a comma after the item, unless Python will not recognize the variable as a tuple.\n",
        "*   Tuples are unchangeable, so you cannot remove items from it, but you can delete the tuple completely\n",
        "\n",
        "*   **del**: **del** keyword can delete the tuple completely\n",
        "\n",
        "\n",
        "\n"
      ]
    },
    {
      "cell_type": "code",
      "metadata": {
        "id": "vPZScavfY1qc",
        "colab_type": "code",
        "outputId": "cb67d543-338d-42b6-c172-9604c295e44e",
        "colab": {
          "base_uri": "https://localhost:8080/",
          "height": 265
        }
      },
      "source": [
        "t=(\"apple\", \"banana\", \"cherry\")\n",
        "print(t)\n",
        "ta=(1)\n",
        "print(type(ta))\n",
        "tb=(12,)\n",
        "print(type(tb))\n",
        "print(len(t))\n",
        "del t\n",
        "# print(t)"
      ],
      "execution_count": 0,
      "outputs": [
        {
          "output_type": "stream",
          "text": [
            "('apple', 'banana', 'cherry')\n",
            "<class 'int'>\n",
            "<class 'tuple'>\n",
            "3\n"
          ],
          "name": "stdout"
        },
        {
          "output_type": "error",
          "ename": "NameError",
          "evalue": "ignored",
          "traceback": [
            "\u001b[0;31m---------------------------------------------------------------------------\u001b[0m",
            "\u001b[0;31mNameError\u001b[0m                                 Traceback (most recent call last)",
            "\u001b[0;32m<ipython-input-12-341e086c3f26>\u001b[0m in \u001b[0;36m<module>\u001b[0;34m()\u001b[0m\n\u001b[1;32m      7\u001b[0m \u001b[0mprint\u001b[0m\u001b[0;34m(\u001b[0m\u001b[0mlen\u001b[0m\u001b[0;34m(\u001b[0m\u001b[0mt\u001b[0m\u001b[0;34m)\u001b[0m\u001b[0;34m)\u001b[0m\u001b[0;34m\u001b[0m\u001b[0;34m\u001b[0m\u001b[0m\n\u001b[1;32m      8\u001b[0m \u001b[0;32mdel\u001b[0m \u001b[0mt\u001b[0m\u001b[0;34m\u001b[0m\u001b[0;34m\u001b[0m\u001b[0m\n\u001b[0;32m----> 9\u001b[0;31m \u001b[0mprint\u001b[0m\u001b[0;34m(\u001b[0m\u001b[0mt\u001b[0m\u001b[0;34m)\u001b[0m\u001b[0;34m\u001b[0m\u001b[0;34m\u001b[0m\u001b[0m\n\u001b[0m",
            "\u001b[0;31mNameError\u001b[0m: name 't' is not defined"
          ]
        }
      ]
    },
    {
      "cell_type": "markdown",
      "metadata": {
        "id": "_aRnXgqKZs2l",
        "colab_type": "text"
      },
      "source": [
        "\n",
        "\n",
        "> **Set:**\n",
        "\n",
        "*   **add()**: To add one item to a set use the **add()** method\n",
        "*   **update()**: To add more than one item to a set use the **update()** method\n",
        "*   **len():** To determine how many items a set has, use the **len()** method\n",
        "*  **remove()**: To remove an item from the set,If the item to remove does not exist, **remove()** will raise an error\n",
        "*   **discard()**: To remove an item from the set,If the item to remove does not exist, **discard()** will not raise an error\n",
        "*   **pop()**:Removes the last item by using the pop() method,Remember that sets are unordered, so you will not know what item that gets removed\n",
        "*   **clear()**: The **clear()** method empties the set\n",
        "*  **del**: The **del** keyword will delete the set completely\n",
        "\n",
        "\n"
      ]
    },
    {
      "cell_type": "code",
      "metadata": {
        "id": "MUNz1ubycDkc",
        "colab_type": "code",
        "outputId": "1b29803f-94ce-4abf-ba6c-e7fc32bc8925",
        "colab": {
          "base_uri": "https://localhost:8080/",
          "height": 187
        }
      },
      "source": [
        "s0=set()\n",
        "print(s0)\n",
        "s={'apple','banana','mango','grapes','papaya','water melon'}\n",
        "print(s)\n",
        "s.add('orange')\n",
        "print(s)\n",
        "s.update(['cherry','strawberry'])\n",
        "print(s)\n",
        "print(len(s))\n",
        "s.remove('papaya')\n",
        "print(s)\n",
        "s0.discard(1)\n",
        "print(s0)\n",
        "s1=s.pop()\n",
        "print(s1)\n",
        "s.clear()\n",
        "print(s)\n",
        "set1 = {\"a\", \"b\" , \"c\"}\n",
        "set2 = {1, 2, 3}\n",
        "\n",
        "set1.update(set2)\n",
        "print(set1) \n",
        "\n",
        "del s0\n",
        "#print(s0)"
      ],
      "execution_count": 0,
      "outputs": [
        {
          "output_type": "stream",
          "text": [
            "set()\n",
            "{'banana', 'apple', 'grapes', 'water melon', 'papaya', 'mango'}\n",
            "{'banana', 'apple', 'orange', 'grapes', 'water melon', 'papaya', 'mango'}\n",
            "{'strawberry', 'banana', 'apple', 'orange', 'grapes', 'water melon', 'cherry', 'papaya', 'mango'}\n",
            "9\n",
            "{'strawberry', 'banana', 'apple', 'orange', 'grapes', 'water melon', 'cherry', 'mango'}\n",
            "set()\n",
            "strawberry\n",
            "set()\n",
            "{1, 2, 3, 'b', 'a', 'c'}\n"
          ],
          "name": "stdout"
        }
      ]
    },
    {
      "cell_type": "markdown",
      "metadata": {
        "id": "Giwm6gpo1w7a",
        "colab_type": "text"
      },
      "source": [
        "\n",
        "\n",
        "> **Dict:**\n",
        "\n",
        "\n",
        "\n",
        "*   You can access the items of a dictionary by referring to its key name, inside square brackets \n",
        "\n",
        "*   **get():**You can access the items of a dictionary using **get()**\n",
        "\n",
        "*   **len():** To determine how many items a dict has, use the **len()** method\n",
        "*   Adding an item to the dictionary is done by using a new index key and assigning a value to it\n",
        "\n",
        "\n",
        "*   **pop():** The pop() method removes the item with the specified key name\n",
        "\n",
        "\n",
        "*   **popitem():** The popitem() method removes the last inserted item\n",
        "*   **del:** The del keyword removes the item with the specified key name\n",
        "*   The **del** keyword can also delete the dictionary completely\n",
        "*   **clear():** The clear() method empties the dictionary\n",
        "*   **copy():** Make a copy of a dictionary with the copy() method\n",
        "*   Another way to make a copy is to use the built-in method dict()\n",
        "*  **items():**\tReturns a list containing a tuple for each key value pair\n",
        "*   **keys():**\tReturns a list containing the dictionary's keys\n",
        "*  **update():**\tUpdates the dictionary with the specified key-value pairs\n",
        "*  **values():**\tReturns a list of all the values in the dictionary\n",
        "*  **fromkeys():**\tReturns a dictionary with the specified keys and value\n",
        "\n",
        "\n",
        "\n"
      ]
    },
    {
      "cell_type": "code",
      "metadata": {
        "id": "YuGc-mp0tsAe",
        "colab_type": "code",
        "outputId": "27021450-7896-45cc-8585-b0389bdddf2d",
        "colab": {
          "base_uri": "https://localhost:8080/",
          "height": 187
        }
      },
      "source": [
        "dict = {\n",
        "  \"brand\": \"Ford\",\n",
        "  \"model\": \"Mustang\",\n",
        "  \"year\": 1964\n",
        "}\n",
        "print(dict)\n",
        "\n",
        "x = dict.get(\"model\")\n",
        "print(x)\n",
        "dict[\"year\"] = 2018 # change the value of a specific item by referring to its key name\n",
        "print(dict)\n",
        "print(len(dict))\n",
        "dict[\"color\"] = \"red\" # adding element to  an dictonary\n",
        "print(dict)\n",
        "dict.pop('color')\n",
        "print(dict)\n",
        "dict.popitem()\n",
        "print(dict)\n",
        "\n",
        "dicta=dict.copy()\n",
        "print(dicta)\n",
        "dicta.clear()\n",
        "print(dicta)\n",
        "del dicta\n",
        "# print(dicta)\n",
        "dict.keys()"
      ],
      "execution_count": 0,
      "outputs": [
        {
          "output_type": "stream",
          "text": [
            "{'brand': 'Ford', 'model': 'Mustang', 'year': 1964}\n",
            "Mustang\n",
            "{'brand': 'Ford', 'model': 'Mustang', 'year': 2018}\n",
            "3\n",
            "{'brand': 'Ford', 'model': 'Mustang', 'year': 2018, 'color': 'red'}\n",
            "{'brand': 'Ford', 'model': 'Mustang', 'year': 2018}\n",
            "{'brand': 'Ford', 'model': 'Mustang'}\n",
            "{'brand': 'Ford', 'model': 'Mustang'}\n",
            "{}\n"
          ],
          "name": "stdout"
        },
        {
          "output_type": "execute_result",
          "data": {
            "text/plain": [
              "dict_keys(['brand', 'model'])"
            ]
          },
          "metadata": {
            "tags": []
          },
          "execution_count": 3
        }
      ]
    },
    {
      "cell_type": "markdown",
      "metadata": {
        "id": "ywLvvAOQ-Itt",
        "colab_type": "text"
      },
      "source": [
        "\n",
        "\n",
        "> **If,else,elif:** Python supports the usual logical conditions from mathematics:\n",
        "\n",
        "\n",
        "*  Equals: a == b\n",
        "*  Not Equals: a != b\n",
        "*  Less than: a < b\n",
        "*  Less than or equal to: a <= b\n",
        "*  Greater than: a > b\n",
        "*  Greater than or equal to: a >= b\n",
        "*   These conditions can be used in several ways, most commonly in **\"if statements\"** and **\"loops\"**.\n",
        "*   An **\"if statement**\" is written by using the **if** keyword\n",
        "* The **elif** keyword is pythons way of saying **\"if the previous conditions were not true, then try this condition\"**\n",
        "*  The **else** keyword catches anything which isn't caught by the preceding conditions\n",
        "*  **Nested If:** You can have if statements inside if statements, this is called nested if statements\n",
        "\n",
        "\n",
        "\n"
      ]
    },
    {
      "cell_type": "code",
      "metadata": {
        "id": "_FZwBUViBwGh",
        "colab_type": "code",
        "outputId": "991ef7bb-f528-41f6-b54f-3fb0fd443460",
        "colab": {
          "base_uri": "https://localhost:8080/",
          "height": 34
        }
      },
      "source": [
        "# program using if\n",
        "a = 33\n",
        "b = 200\n",
        "if b > a:\n",
        "  print(\"b is greater than a\") # you will get an error\n",
        "\n",
        "\n"
      ],
      "execution_count": 0,
      "outputs": [
        {
          "output_type": "stream",
          "text": [
            "b is greater than a\n"
          ],
          "name": "stdout"
        }
      ]
    },
    {
      "cell_type": "code",
      "metadata": {
        "id": "8BFCpzd_ByNu",
        "colab_type": "code",
        "outputId": "cda40611-968f-4921-f865-7dbc4e5cca25",
        "colab": {
          "base_uri": "https://localhost:8080/",
          "height": 34
        }
      },
      "source": [
        "# program using if and elif\n",
        "a = 33\n",
        "b = 33\n",
        "if b > a:\n",
        "  print(\"b is greater than a\")\n",
        "elif a == b:\n",
        "  print(\"a and b are equal\")"
      ],
      "execution_count": 0,
      "outputs": [
        {
          "output_type": "stream",
          "text": [
            "a and b are equal\n"
          ],
          "name": "stdout"
        }
      ]
    },
    {
      "cell_type": "code",
      "metadata": {
        "id": "RURaoB9KCq-8",
        "colab_type": "code",
        "outputId": "45496d6f-f823-4383-8dd7-994673f39d1e",
        "colab": {
          "base_uri": "https://localhost:8080/",
          "height": 34
        }
      },
      "source": [
        "# program using if,elif,else\n",
        "a = 200\n",
        "b = 33\n",
        "if b > a:\n",
        "  print(\"b is greater than a\")\n",
        "elif a == b:\n",
        "  print(\"a and b are equal\")\n",
        "else:\n",
        "  print(\"a is greater than b\")"
      ],
      "execution_count": 0,
      "outputs": [
        {
          "output_type": "stream",
          "text": [
            "a is greater than b\n"
          ],
          "name": "stdout"
        }
      ]
    },
    {
      "cell_type": "code",
      "metadata": {
        "id": "963gP4mIC2_s",
        "colab_type": "code",
        "outputId": "e2d1c5f5-76bd-4629-a666-f13048a13599",
        "colab": {
          "base_uri": "https://localhost:8080/",
          "height": 51
        }
      },
      "source": [
        "# program using Nested if\n",
        "x = 41\n",
        "\n",
        "if x > 10:\n",
        "  print(\"Above ten,\")\n",
        "  if x > 20:\n",
        "    print(\"and also above 20\")\n",
        "  else:\n",
        "    print(\"but not above 20.\")"
      ],
      "execution_count": 0,
      "outputs": [
        {
          "output_type": "stream",
          "text": [
            "Above ten,\n",
            "and also above 20\n"
          ],
          "name": "stdout"
        }
      ]
    },
    {
      "cell_type": "code",
      "metadata": {
        "id": "Xmg75XlIFS75",
        "colab_type": "code",
        "outputId": "53325a4e-3eec-4804-cdd1-5d46e02c463c",
        "colab": {
          "base_uri": "https://localhost:8080/",
          "height": 197
        }
      },
      "source": [
        "sampleSet = {\"Jodi\", \"Eric\", \"Garry\"}\n",
        "sampleSet.add(1, \"Vicki\")\n",
        "print(sampleSet)"
      ],
      "execution_count": 0,
      "outputs": [
        {
          "output_type": "error",
          "ename": "TypeError",
          "evalue": "ignored",
          "traceback": [
            "\u001b[0;31m---------------------------------------------------------------------------\u001b[0m",
            "\u001b[0;31mTypeError\u001b[0m                                 Traceback (most recent call last)",
            "\u001b[0;32m<ipython-input-7-4088723dffaa>\u001b[0m in \u001b[0;36m<module>\u001b[0;34m()\u001b[0m\n\u001b[1;32m      1\u001b[0m \u001b[0msampleSet\u001b[0m \u001b[0;34m=\u001b[0m \u001b[0;34m{\u001b[0m\u001b[0;34m\"Jodi\"\u001b[0m\u001b[0;34m,\u001b[0m \u001b[0;34m\"Eric\"\u001b[0m\u001b[0;34m,\u001b[0m \u001b[0;34m\"Garry\"\u001b[0m\u001b[0;34m}\u001b[0m\u001b[0;34m\u001b[0m\u001b[0;34m\u001b[0m\u001b[0m\n\u001b[0;32m----> 2\u001b[0;31m \u001b[0msampleSet\u001b[0m\u001b[0;34m.\u001b[0m\u001b[0madd\u001b[0m\u001b[0;34m(\u001b[0m\u001b[0;36m1\u001b[0m\u001b[0;34m,\u001b[0m \u001b[0;34m\"Vicki\"\u001b[0m\u001b[0;34m)\u001b[0m\u001b[0;34m\u001b[0m\u001b[0;34m\u001b[0m\u001b[0m\n\u001b[0m\u001b[1;32m      3\u001b[0m \u001b[0mprint\u001b[0m\u001b[0;34m(\u001b[0m\u001b[0msampleSet\u001b[0m\u001b[0;34m)\u001b[0m\u001b[0;34m\u001b[0m\u001b[0;34m\u001b[0m\u001b[0m\n",
            "\u001b[0;31mTypeError\u001b[0m: add() takes exactly one argument (2 given)"
          ]
        }
      ]
    },
    {
      "cell_type": "code",
      "metadata": {
        "id": "6YznLXpXIGPC",
        "colab_type": "code",
        "outputId": "8e11176f-cf24-4cd8-f4ed-6d8dfaa59d72",
        "colab": {
          "base_uri": "https://localhost:8080/",
          "height": 34
        }
      },
      "source": [
        "var = \"James\" * 2  * 3\n",
        "print(var)"
      ],
      "execution_count": 0,
      "outputs": [
        {
          "output_type": "stream",
          "text": [
            "JamesJamesJamesJamesJamesJames\n"
          ],
          "name": "stdout"
        }
      ]
    },
    {
      "cell_type": "code",
      "metadata": {
        "id": "xGeBqDxOIVZV",
        "colab_type": "code",
        "outputId": "84e4f01c-4efc-40af-d39f-d12cb59976e7",
        "colab": {
          "base_uri": "https://localhost:8080/",
          "height": 51
        }
      },
      "source": [
        "salary = 8000\n",
        "\n",
        "def printSalary():\n",
        "  salary = 12000\n",
        "  print(\"Salary:\", salary)\n",
        "  \n",
        "printSalary();\n",
        "print(\"Salary:\", salary)"
      ],
      "execution_count": 0,
      "outputs": [
        {
          "output_type": "stream",
          "text": [
            "Salary: 12000\n",
            "Salary: 8000\n"
          ],
          "name": "stdout"
        }
      ]
    },
    {
      "cell_type": "code",
      "metadata": {
        "id": "YC-k-_BFI0yk",
        "colab_type": "code",
        "outputId": "6f84c87d-6e07-4552-8a93-c68b54ac87c4",
        "colab": {
          "base_uri": "https://localhost:8080/",
          "height": 102
        }
      },
      "source": [
        "for i in range(1, 5):\n",
        "    print(i)\n",
        "else:\n",
        "    print(\"this is else block statement\" )"
      ],
      "execution_count": 0,
      "outputs": [
        {
          "output_type": "stream",
          "text": [
            "1\n",
            "2\n",
            "3\n",
            "4\n",
            "this is else block statement\n"
          ],
          "name": "stdout"
        }
      ]
    },
    {
      "cell_type": "code",
      "metadata": {
        "id": "43h53fSiJPBn",
        "colab_type": "code",
        "outputId": "da67d125-05b3-417d-bc6f-f8a88f80d6c3",
        "colab": {
          "base_uri": "https://localhost:8080/",
          "height": 185
        }
      },
      "source": [
        "for x in range(0, 5.6, 1):\n",
        "  print(x)"
      ],
      "execution_count": 0,
      "outputs": [
        {
          "output_type": "error",
          "ename": "TypeError",
          "evalue": "ignored",
          "traceback": [
            "\u001b[0;31m---------------------------------------------------------------------------\u001b[0m",
            "\u001b[0;31mTypeError\u001b[0m                                 Traceback (most recent call last)",
            "\u001b[0;32m<ipython-input-9-95c3c672dc0f>\u001b[0m in \u001b[0;36m<module>\u001b[0;34m()\u001b[0m\n\u001b[0;32m----> 1\u001b[0;31m \u001b[0;32mfor\u001b[0m \u001b[0mx\u001b[0m \u001b[0;32min\u001b[0m \u001b[0mrange\u001b[0m\u001b[0;34m(\u001b[0m\u001b[0;36m0\u001b[0m\u001b[0;34m,\u001b[0m \u001b[0;36m5.6\u001b[0m\u001b[0;34m,\u001b[0m \u001b[0;36m1\u001b[0m\u001b[0;34m)\u001b[0m\u001b[0;34m:\u001b[0m\u001b[0;34m\u001b[0m\u001b[0;34m\u001b[0m\u001b[0m\n\u001b[0m\u001b[1;32m      2\u001b[0m   \u001b[0mprint\u001b[0m\u001b[0;34m(\u001b[0m\u001b[0mx\u001b[0m\u001b[0;34m)\u001b[0m\u001b[0;34m\u001b[0m\u001b[0;34m\u001b[0m\u001b[0m\n",
            "\u001b[0;31mTypeError\u001b[0m: 'float' object cannot be interpreted as an integer"
          ]
        }
      ]
    },
    {
      "cell_type": "code",
      "metadata": {
        "id": "A6O_wEQNJP27",
        "colab_type": "code",
        "outputId": "1b851f6b-d42f-4ac7-b955-907a8646c4ae",
        "colab": {
          "base_uri": "https://localhost:8080/",
          "height": 34
        }
      },
      "source": [
        "var= \"James Bond\"\n",
        "print(var[2::2])"
      ],
      "execution_count": 0,
      "outputs": [
        {
          "output_type": "stream",
          "text": [
            "msBn\n"
          ],
          "name": "stdout"
        }
      ]
    },
    {
      "cell_type": "markdown",
      "metadata": {
        "id": "FgSnFwJr2CI0",
        "colab_type": "text"
      },
      "source": [
        "\n",
        "\n",
        "> **For:** \n",
        "*   A for loop is used for iterating over a sequence (that is either a list, a tuple, a dictionary, a set, or a string)\n",
        "*   With the for loop we can execute a set of statements, once for each item in a list, tuple, set etc\n",
        "*   Even strings are iterable objects, they contain a sequence of characters\n",
        "*   The **else** keyword in a **for** loop specifies a block of code to be executed when the loop is finished\n",
        "*   **Nested Loops :** A nested loop is a loop inside a loop.The \"inner loop\" will be executed one time for each iteration of the \"outer loop\"\n",
        "*   **pass :**for loops cannot be empty, but if you for some reason have a for loop with no content, put in the pass statement to avoid getting an error\n",
        "*   **break :**With the break statement we can stop the loop before it has looped through all the items\n",
        "*   **continue :**With the continue statement we can stop the current iteration of the loop, and continue with the next\n"
      ]
    },
    {
      "cell_type": "code",
      "metadata": {
        "id": "Udz9ptc_5Hsr",
        "colab_type": "code",
        "outputId": "4a4e72c7-8c33-4990-9052-15421bbb30c2",
        "colab": {
          "base_uri": "https://localhost:8080/",
          "height": 68
        }
      },
      "source": [
        "fruits = [\"apple\", \"banana\", \"cherry\"]\n",
        "for x in fruits:\n",
        "  print(x)"
      ],
      "execution_count": 0,
      "outputs": [
        {
          "output_type": "stream",
          "text": [
            "apple\n",
            "banana\n",
            "cherry\n"
          ],
          "name": "stdout"
        }
      ]
    },
    {
      "cell_type": "code",
      "metadata": {
        "id": "PNcnqrlh5S6l",
        "colab_type": "code",
        "outputId": "142b50b3-fe0e-491e-8462-115f24292f09",
        "colab": {
          "base_uri": "https://localhost:8080/",
          "height": 119
        }
      },
      "source": [
        "for x in \"banana\":\n",
        "  print(x)"
      ],
      "execution_count": 0,
      "outputs": [
        {
          "output_type": "stream",
          "text": [
            "b\n",
            "a\n",
            "n\n",
            "a\n",
            "n\n",
            "a\n"
          ],
          "name": "stdout"
        }
      ]
    },
    {
      "cell_type": "code",
      "metadata": {
        "id": "tM-_nSP35Xtc",
        "colab_type": "code",
        "outputId": "bd531fa9-a3a3-4694-effd-2fc7a1752f89",
        "colab": {
          "base_uri": "https://localhost:8080/",
          "height": 51
        }
      },
      "source": [
        "# beak: Exit the loop when x is \"banana\"\n",
        "fruits = [\"apple\", \"banana\", \"cherry\"]\n",
        "for x in fruits:\n",
        "  print(x)\n",
        "  if x == \"banana\":\n",
        "    break"
      ],
      "execution_count": 0,
      "outputs": [
        {
          "output_type": "stream",
          "text": [
            "apple\n",
            "banana\n"
          ],
          "name": "stdout"
        }
      ]
    },
    {
      "cell_type": "code",
      "metadata": {
        "id": "brHl1LQ55xRG",
        "colab_type": "code",
        "outputId": "38788f7c-2237-4f2b-b440-9e551902287f",
        "colab": {
          "base_uri": "https://localhost:8080/",
          "height": 51
        }
      },
      "source": [
        "# continue  =>if Do not want banana\n",
        "fruits = [\"apple\", \"banana\", \"cherry\"]\n",
        "for x in fruits:\n",
        "  if x == \"banana\":\n",
        "    continue\n",
        "  print(x)"
      ],
      "execution_count": 0,
      "outputs": [
        {
          "output_type": "stream",
          "text": [
            "apple\n",
            "cherry\n"
          ],
          "name": "stdout"
        }
      ]
    },
    {
      "cell_type": "code",
      "metadata": {
        "id": "O8XY0gkK6fDa",
        "colab_type": "code",
        "outputId": "b08bb1a3-ec40-4eb9-cfe8-d1dd272c9f1e",
        "colab": {
          "base_uri": "https://localhost:8080/",
          "height": 136
        }
      },
      "source": [
        "for x in range(6):\n",
        "  print(x)\n",
        "  if (x==10):\n",
        "    print('1 exists')\n",
        "else:\n",
        "  print(\"Finally finished!\")"
      ],
      "execution_count": 0,
      "outputs": [
        {
          "output_type": "stream",
          "text": [
            "0\n",
            "1\n",
            "2\n",
            "3\n",
            "4\n",
            "5\n",
            "Finally finished!\n"
          ],
          "name": "stdout"
        }
      ]
    },
    {
      "cell_type": "code",
      "metadata": {
        "id": "DNGa7Idr6-sd",
        "colab_type": "code",
        "outputId": "ce2e8b63-ea7d-4188-9dfe-301e7bac6085",
        "colab": {
          "base_uri": "https://localhost:8080/",
          "height": 170
        }
      },
      "source": [
        "adj = [\"red\", \"big\", \"tasty\"]\n",
        "fruits = [\"apple\", \"banana\", \"cherry\"]\n",
        "\n",
        "for x in adj:\n",
        "  for y in fruits:\n",
        "    print(x, y)"
      ],
      "execution_count": 0,
      "outputs": [
        {
          "output_type": "stream",
          "text": [
            "red apple\n",
            "red banana\n",
            "red cherry\n",
            "big apple\n",
            "big banana\n",
            "big cherry\n",
            "tasty apple\n",
            "tasty banana\n",
            "tasty cherry\n"
          ],
          "name": "stdout"
        }
      ]
    },
    {
      "cell_type": "code",
      "metadata": {
        "id": "34wugfvP7Opb",
        "colab_type": "code",
        "colab": {}
      },
      "source": [
        "# pass:\n",
        "for x in [0, 1, 2]:\n",
        "  pass\n",
        "  "
      ],
      "execution_count": 0,
      "outputs": []
    },
    {
      "cell_type": "code",
      "metadata": {
        "id": "Zj91QSuLOmch",
        "colab_type": "code",
        "outputId": "6c699841-5f01-4bd7-8e0d-5df1fc46a6bf",
        "colab": {
          "base_uri": "https://localhost:8080/",
          "height": 34
        }
      },
      "source": [
        "b=0xa5\n",
        "print(b)"
      ],
      "execution_count": 0,
      "outputs": [
        {
          "output_type": "stream",
          "text": [
            "165\n"
          ],
          "name": "stdout"
        }
      ]
    },
    {
      "cell_type": "markdown",
      "metadata": {
        "id": "gvqWtahfEu5T",
        "colab_type": "text"
      },
      "source": [
        "\n",
        "\n",
        "> **while :**\n",
        "\n",
        "\n",
        "*   With the **while** loop we can execute a set of statements as long as a condition is true\n",
        "*  remember to increment i, or else the loop will continue forever\n",
        "*   **break** :With the break statement we can stop the loop even if the while condition is true\n",
        "*  **continue :**With the continue statement we can stop the current iteration of the loop, and continue with the next\n",
        "* **else :**With the else statement we can run a block of code once when the condition no longer is true\n",
        "\n",
        "\n",
        "\n"
      ]
    },
    {
      "cell_type": "code",
      "metadata": {
        "id": "WNY2rwOqIdCK",
        "colab_type": "code",
        "outputId": "c7275301-e8a6-407e-eb47-b0a9c2214afc",
        "colab": {
          "base_uri": "https://localhost:8080/",
          "height": 102
        }
      },
      "source": [
        "i = 1\n",
        "while i < 6:\n",
        "  print(i)\n",
        "  i += 1"
      ],
      "execution_count": 0,
      "outputs": [
        {
          "output_type": "stream",
          "text": [
            "1\n",
            "2\n",
            "3\n",
            "4\n",
            "5\n"
          ],
          "name": "stdout"
        }
      ]
    },
    {
      "cell_type": "code",
      "metadata": {
        "id": "JCsmxzKHIlJI",
        "colab_type": "code",
        "outputId": "a7a7b700-c320-4a00-8d2f-956c2fa05a55",
        "colab": {
          "base_uri": "https://localhost:8080/",
          "height": 69
        }
      },
      "source": [
        "# Exit the loop when i is 3\n",
        "i = 1\n",
        "while i < 6:\n",
        "  print(i)\n",
        "  if i == 3:\n",
        "    break\n",
        "  i += 1 "
      ],
      "execution_count": 0,
      "outputs": [
        {
          "output_type": "stream",
          "text": [
            "1\n",
            "2\n",
            "3\n"
          ],
          "name": "stdout"
        }
      ]
    },
    {
      "cell_type": "code",
      "metadata": {
        "id": "rhnUefvHJKDN",
        "colab_type": "code",
        "outputId": "9901cb28-11e8-4dbb-ce52-3d0d2b4c636e",
        "colab": {
          "base_uri": "https://localhost:8080/",
          "height": 104
        }
      },
      "source": [
        "# Continue to the next iteration if i is 3\n",
        "i = 0\n",
        "while i < 6:\n",
        "  i += 1\n",
        "  if i == 3:\n",
        "    continue\n",
        "  print(i)"
      ],
      "execution_count": 0,
      "outputs": [
        {
          "output_type": "stream",
          "text": [
            "1\n",
            "2\n",
            "4\n",
            "5\n",
            "6\n"
          ],
          "name": "stdout"
        }
      ]
    },
    {
      "cell_type": "code",
      "metadata": {
        "id": "7YcBBwodKGwF",
        "colab_type": "code",
        "outputId": "44e79a2b-c139-4807-ff67-c945d145d88a",
        "colab": {
          "base_uri": "https://localhost:8080/",
          "height": 121
        }
      },
      "source": [
        "i = 1\n",
        "while i < 6:\n",
        "  print(i)\n",
        "  i += 1\n",
        "else:\n",
        "  print(\"i is no longer less than 6\")"
      ],
      "execution_count": 0,
      "outputs": [
        {
          "output_type": "stream",
          "text": [
            "1\n",
            "2\n",
            "3\n",
            "4\n",
            "5\n",
            "i is no longer less than 6\n"
          ],
          "name": "stdout"
        }
      ]
    },
    {
      "cell_type": "markdown",
      "metadata": {
        "id": "Da7xszStKRG-",
        "colab_type": "text"
      },
      "source": [
        "\n",
        "\n",
        "> **Functions:**\n",
        " *  function is a block of code which only runs when it is called.\n",
        " *   You can pass data, known as parameters, into a function.\n",
        " *  A function can return data as a result\n",
        "\n",
        "\n",
        "> **Creating a Function :**\n",
        "*  In Python a function is defined using the **def** keyword, It must be followed by the **function name** and the **parenthesized list of formal parameters**\n",
        "\n",
        "> **calling a Function :**\n",
        "* To call a function, use the **function name** followed by parenthesis\n",
        "\n",
        "\n",
        "\n",
        "> **Arguments :**\n",
        "*  Information can be passed into functions as arguments\n",
        "* Arguments are specified after the function name, inside the parentheses. You can add as many arguments as you want, just separate them with a comma\n",
        "\n",
        "\n",
        "\n",
        "> **Parameters or Arguments? :**\n",
        "* From a function's perspective:\n",
        "  * A **parameter** is the variable listed inside the parentheses in the function definition\n",
        "  * An **argument** is the value that are sent to the function when it is called\n",
        "\n",
        "> **Number of Arguments :**\n",
        "* By default, a function must be called with the correct number of arguments. Meaning that if your function expects 2 arguments, you have to call the function with 2 arguments, not more, and not less\n",
        "* If you try to call the function with 1 or 3 arguments, you will get an error\n",
        "\n",
        "\n",
        "\n",
        "> **Recurssive function :**\n",
        "*  A function call itself, i.e. same function call multiple times\n",
        "\n",
        "\n",
        "\n",
        "\n",
        "\n",
        "\n",
        "\n",
        "\n"
      ]
    },
    {
      "cell_type": "code",
      "metadata": {
        "id": "A79VIbatMMR0",
        "colab_type": "code",
        "outputId": "52d6c84c-f236-4a21-864e-73532f984597",
        "colab": {
          "base_uri": "https://localhost:8080/",
          "height": 34
        }
      },
      "source": [
        "def basics():\n",
        "  print('This is a basic of python')\n",
        "basics()"
      ],
      "execution_count": 0,
      "outputs": [
        {
          "output_type": "stream",
          "text": [
            "This is a basic of python\n"
          ],
          "name": "stdout"
        }
      ]
    },
    {
      "cell_type": "code",
      "metadata": {
        "id": "QruaHbs-OcF3",
        "colab_type": "code",
        "outputId": "3260204f-9592-4f25-d7e6-1ccf0c6e5730",
        "colab": {
          "base_uri": "https://localhost:8080/",
          "height": 34
        }
      },
      "source": [
        "# The following example has a function with one argument (name)\n",
        "def student(name):\n",
        "  print('my name is',name)\n",
        "student('gowtham')# When the function is called, we pass along a first name, which is used inside the function to print the full name\n"
      ],
      "execution_count": 0,
      "outputs": [
        {
          "output_type": "stream",
          "text": [
            "my name is gowtham\n"
          ],
          "name": "stdout"
        }
      ]
    },
    {
      "cell_type": "code",
      "metadata": {
        "id": "1RiMGPX5S2RG",
        "colab_type": "code",
        "outputId": "bb334e84-0f70-4d68-d24c-ab9879081ccd",
        "colab": {
          "base_uri": "https://localhost:8080/",
          "height": 69
        }
      },
      "source": [
        "def student(name,rollno):\n",
        "  print('my name is',name,'And my rollno is',rollno)\n",
        "  return student\n",
        "student('gowtham',11)\n",
        "\n",
        "print(student('gowtham',11))"
      ],
      "execution_count": 0,
      "outputs": [
        {
          "output_type": "stream",
          "text": [
            "my name is gowtham And my rollno is 11\n",
            "my name is gowtham And my rollno is 11\n",
            "<function student at 0x7fa1f11ed048>\n"
          ],
          "name": "stdout"
        }
      ]
    },
    {
      "cell_type": "code",
      "metadata": {
        "id": "LX9UasggTYUl",
        "colab_type": "code",
        "outputId": "59fa638d-71c2-41dc-ef47-0086ccbb85e3",
        "colab": {
          "base_uri": "https://localhost:8080/",
          "height": 197
        }
      },
      "source": [
        "def student(name,rollno):\n",
        "  print('my name is',name,'And my rollno is',rollno)\n",
        "student('gowtham')# Error: This function expects 2 arguments, but gets only 1"
      ],
      "execution_count": 0,
      "outputs": [
        {
          "output_type": "error",
          "ename": "TypeError",
          "evalue": "ignored",
          "traceback": [
            "\u001b[0;31m---------------------------------------------------------------------------\u001b[0m",
            "\u001b[0;31mTypeError\u001b[0m                                 Traceback (most recent call last)",
            "\u001b[0;32m<ipython-input-23-805186c90b37>\u001b[0m in \u001b[0;36m<module>\u001b[0;34m()\u001b[0m\n\u001b[1;32m      1\u001b[0m \u001b[0;32mdef\u001b[0m \u001b[0mstudent\u001b[0m\u001b[0;34m(\u001b[0m\u001b[0mname\u001b[0m\u001b[0;34m,\u001b[0m\u001b[0mrollno\u001b[0m\u001b[0;34m)\u001b[0m\u001b[0;34m:\u001b[0m\u001b[0;34m\u001b[0m\u001b[0;34m\u001b[0m\u001b[0m\n\u001b[1;32m      2\u001b[0m   \u001b[0mprint\u001b[0m\u001b[0;34m(\u001b[0m\u001b[0;34m'my name is'\u001b[0m\u001b[0;34m,\u001b[0m\u001b[0mname\u001b[0m\u001b[0;34m,\u001b[0m\u001b[0;34m'And my rollno is'\u001b[0m\u001b[0;34m,\u001b[0m\u001b[0mrollno\u001b[0m\u001b[0;34m)\u001b[0m\u001b[0;34m\u001b[0m\u001b[0;34m\u001b[0m\u001b[0m\n\u001b[0;32m----> 3\u001b[0;31m \u001b[0mstudent\u001b[0m\u001b[0;34m(\u001b[0m\u001b[0;34m)\u001b[0m\u001b[0;31m# Error: This function expects 2 arguments, but gets only 1\u001b[0m\u001b[0;34m\u001b[0m\u001b[0;34m\u001b[0m\u001b[0m\n\u001b[0m",
            "\u001b[0;31mTypeError\u001b[0m: student() missing 2 required positional arguments: 'name' and 'rollno'"
          ]
        }
      ]
    },
    {
      "cell_type": "code",
      "metadata": {
        "id": "YZWFZcHe0NUc",
        "colab_type": "code",
        "outputId": "cc05631c-4cc9-47f6-aa63-19c4bd47cbee",
        "colab": {
          "base_uri": "https://localhost:8080/",
          "height": 34
        }
      },
      "source": [
        "def fib(n):\n",
        "  a,b=0,1\n",
        "  while(a<n):\n",
        "    print(a,end=' ')\n",
        "    a,b=b,a+b\n",
        "fib(50)"
      ],
      "execution_count": 0,
      "outputs": [
        {
          "output_type": "stream",
          "text": [
            "0 1 1 2 3 5 8 13 21 34 "
          ],
          "name": "stdout"
        }
      ]
    },
    {
      "cell_type": "code",
      "metadata": {
        "id": "DuAbIaBN5nar",
        "colab_type": "code",
        "outputId": "c3e7dd55-cabd-4836-c00c-a0452e0e46d0",
        "colab": {
          "base_uri": "https://localhost:8080/",
          "height": 102
        }
      },
      "source": [
        "# prime numbers using function\n",
        "def prime(num):\n",
        "  print(\"Prime numbers are\")\n",
        "\n",
        "  for num in range(num):\n",
        "   # all prime numbers are greater than 1\n",
        "    if num > 1:\n",
        "       for i in range(2, num):\n",
        "           if (num % i) == 0:\n",
        "               break\n",
        "       else:\n",
        "           print(num)\n",
        "prime(10)"
      ],
      "execution_count": 0,
      "outputs": [
        {
          "output_type": "stream",
          "text": [
            "Prime numbers are\n",
            "2\n",
            "3\n",
            "5\n",
            "7\n"
          ],
          "name": "stdout"
        }
      ]
    },
    {
      "cell_type": "code",
      "metadata": {
        "id": "ujAq36ZY7IoQ",
        "colab_type": "code",
        "outputId": "8058946d-df36-4f7b-c983-20af19a66c2b",
        "colab": {
          "base_uri": "https://localhost:8080/",
          "height": 34
        }
      },
      "source": [
        "# factorial using function\n",
        "def fact(n):\n",
        "  if n==1:\n",
        "    return 1\n",
        "  else:\n",
        "    return n*fact(n-1)\n",
        "fact(10)\n",
        "\n",
        "\n",
        "num=[1,2,3,4]\n",
        "num2=[5,6,7,8]\n",
        "list(map(fact,num))"
      ],
      "execution_count": 0,
      "outputs": [
        {
          "output_type": "execute_result",
          "data": {
            "text/plain": [
              "[1, 2, 6, 24]"
            ]
          },
          "metadata": {
            "tags": []
          },
          "execution_count": 16
        }
      ]
    },
    {
      "cell_type": "code",
      "metadata": {
        "id": "QKimbMpL9ODm",
        "colab_type": "code",
        "outputId": "fb33609d-d535-4154-9f4f-df5b510c95ec",
        "colab": {
          "base_uri": "https://localhost:8080/",
          "height": 34
        }
      },
      "source": [
        "\n",
        "x=int(3)\n",
        "print(x)"
      ],
      "execution_count": 0,
      "outputs": [
        {
          "output_type": "stream",
          "text": [
            "3\n"
          ],
          "name": "stdout"
        }
      ]
    },
    {
      "cell_type": "markdown",
      "metadata": {
        "id": "mhVbo-YemLkF",
        "colab_type": "text"
      },
      "source": [
        "\n",
        "\n",
        "> **Anonymous function :**\n",
        "*  function declared without name\n",
        "* Instant use only (only one time usage) e.g : **lambda**,**filter**,**map**,**reduce** function\n",
        "* Not required any **return** statement\n",
        "\n",
        "\n",
        "\n",
        "> **Lambda :**\n",
        "*  A lambda function is a small anonymous function\n",
        "*  A lambda function can take any number of arguments, but can only have one expression\n",
        "*  **Syntax ==> lambda arguments : expression**\n",
        "\n",
        "\n",
        "\n",
        "> **Map :**\n",
        "*  The **map()** function executes a specified function for each item in a iterable. The item is sent to the function as a parameter.\n",
        "*  **Syntax ==> map(function,sequence)**\n",
        "* Applicable for multiple iterables\n",
        "\n",
        "\n",
        "\n",
        "> **Filter :**\n",
        "* The **filter()** function returns an iterator were the items are filtered through a function to test if the item is accepted or not\n",
        "*  **Syntax ==> filter(function,iterables)**\n",
        "* Applicable only for one iterable \n",
        "\n",
        "> **Reduce :**\n",
        "* **Syntax ==> reduce(function,iterables)**\n",
        "* we have to **import functools** to use reduce\n",
        "* Applicable only for one iterable\n",
        "\n",
        "\n",
        "\n",
        "\n",
        "\n",
        "\n"
      ]
    },
    {
      "cell_type": "code",
      "metadata": {
        "id": "irZb1bN4JFV2",
        "colab_type": "code",
        "outputId": "bcfcfbfa-6f34-440a-b625-a28db040f475",
        "colab": {
          "base_uri": "https://localhost:8080/",
          "height": 68
        }
      },
      "source": [
        "# A lambda function that adds 10 to the number passed in as an argument, and print the result\n",
        "x = lambda a : a + 10\n",
        "print(x(5))\n",
        "\n",
        "# A lambda function that multiplies argument a with argument b and print the result\n",
        "x = lambda a, b : a * b\n",
        "print(x(5, 6))\n",
        "\n",
        "# A lambda function that sums argument a, b, and c and print the result\n",
        "x = lambda a, b, c : a + b + c\n",
        "print(x(5, 6, 2))"
      ],
      "execution_count": 0,
      "outputs": [
        {
          "output_type": "stream",
          "text": [
            "15\n",
            "30\n",
            "13\n"
          ],
          "name": "stdout"
        }
      ]
    },
    {
      "cell_type": "code",
      "metadata": {
        "id": "RXQ3aPFYOTII",
        "colab_type": "code",
        "outputId": "a0bf6b2c-474f-4baf-b0aa-0e5091583a2e",
        "colab": {
          "base_uri": "https://localhost:8080/",
          "height": 34
        }
      },
      "source": [
        "a=[1,2,3,4]\n",
        "set(map(lambda x : x*x*x,a))\n",
        "# b=[1,2,2,2]\n",
        "# tuple(map (lambda a,b:a+b,a,b))"
      ],
      "execution_count": 0,
      "outputs": [
        {
          "output_type": "execute_result",
          "data": {
            "text/plain": [
              "{1, 8, 27, 64}"
            ]
          },
          "metadata": {
            "tags": []
          },
          "execution_count": 4
        }
      ]
    },
    {
      "cell_type": "code",
      "metadata": {
        "id": "1drAgurGP123",
        "colab_type": "code",
        "outputId": "9725a54b-aadf-4284-e522-ad0a06bea0ff",
        "colab": {
          "base_uri": "https://localhost:8080/",
          "height": 34
        }
      },
      "source": [
        "set(filter(lambda x:x%2!=0,range(1,11)))"
      ],
      "execution_count": 0,
      "outputs": [
        {
          "output_type": "execute_result",
          "data": {
            "text/plain": [
              "{1, 3, 5, 7, 9}"
            ]
          },
          "metadata": {
            "tags": []
          },
          "execution_count": 10
        }
      ]
    },
    {
      "cell_type": "code",
      "metadata": {
        "id": "GFpojMUISNPf",
        "colab_type": "code",
        "outputId": "d1d2c38f-e0c8-45b6-b8ca-d3b74a533c17",
        "colab": {
          "base_uri": "https://localhost:8080/",
          "height": 34
        }
      },
      "source": [
        "import functools\n",
        "num=[1,2,2,7,8,9]\n",
        "functools.reduce(lambda x,y:x*y,num)"
      ],
      "execution_count": 0,
      "outputs": [
        {
          "output_type": "execute_result",
          "data": {
            "text/plain": [
              "2016"
            ]
          },
          "metadata": {
            "tags": []
          },
          "execution_count": 12
        }
      ]
    },
    {
      "cell_type": "markdown",
      "metadata": {
        "id": "lyVZq-QBiJPh",
        "colab_type": "text"
      },
      "source": [
        "\n",
        "\n",
        "> **Arguments:**\n",
        "\n",
        "\n",
        "*   Positional Arguments\n",
        "\n",
        "*   Keyword Arguments\n",
        "*   Default Arguments\n",
        "\n",
        "\n",
        "*   Vararg Arguments\n",
        "* Keyword Arguments or **kwargs\n",
        "\n",
        "\n",
        "\n",
        "> **Default Arguments :**\n",
        "* If we call the function without argument, it uses the default value\n",
        "\n",
        "> **Keyword Arguments :**\n",
        "* send arguments with the **key = value** syntax\n",
        "* This way the order of the arguments does not matter\n",
        "\n",
        "> **Positional Argument :**\n",
        "* In this the order of the arguments is important\n",
        "\n",
        "> **Vararg Arguments :**\n",
        "* If the number of arguments is unknown, Then we use Vararg arguments \n",
        "* Add it is declared by * before the parameter name\n",
        "\n",
        "> **Arbitrary Keyword Arguments or kwargs:**\n",
        "* If you do not know how many keyword arguments that will be passed into your function, add two asterisk: ** before the parameter name in the function definition.\n",
        "* This way the function will receive a dictionary of arguments, and can access the items accordingly\n",
        "* Type of kwargs is dict\n",
        "\n",
        "\n",
        "\n"
      ]
    },
    {
      "cell_type": "code",
      "metadata": {
        "id": "_-yVu6memVgL",
        "colab_type": "code",
        "outputId": "8e4f1be9-9ba5-44ec-f0ac-fe2951270dd8",
        "colab": {
          "base_uri": "https://localhost:8080/",
          "height": 85
        }
      },
      "source": [
        "#  Default Argument\n",
        "\n",
        "def my_function(country = \"Norway\"):\n",
        "  print(\"I am from \" + country)\n",
        "\n",
        "my_function(\"Sweden\")\n",
        "my_function(\"India\")\n",
        "my_function()\n",
        "my_function(\"Brazil\")"
      ],
      "execution_count": 0,
      "outputs": [
        {
          "output_type": "stream",
          "text": [
            "I am from Sweden\n",
            "I am from India\n",
            "I am from Norway\n",
            "I am from Brazil\n"
          ],
          "name": "stdout"
        }
      ]
    },
    {
      "cell_type": "code",
      "metadata": {
        "id": "PZoe8SEngsvW",
        "colab_type": "code",
        "outputId": "31c3c1fd-7d20-42f8-e7ae-15a8f5feb9de",
        "colab": {
          "base_uri": "https://localhost:8080/",
          "height": 34
        }
      },
      "source": [
        "# Keyword Arguments\n",
        "\n",
        "def my_function(animal3, animal2, animal1):\n",
        "  print(\"The King of forest is \" + animal3)\n",
        "\n",
        "my_function(animal1 = \"Tiger\", animal2 = \"Elephant\", animal3 = \"Lion\")"
      ],
      "execution_count": 0,
      "outputs": [
        {
          "output_type": "stream",
          "text": [
            "The King of forest is Lion\n"
          ],
          "name": "stdout"
        }
      ]
    },
    {
      "cell_type": "code",
      "metadata": {
        "id": "SWTYWEEQikhJ",
        "colab_type": "code",
        "outputId": "ead91033-6802-41aa-80b4-ab7676eebaac",
        "colab": {
          "base_uri": "https://localhost:8080/",
          "height": 34
        }
      },
      "source": [
        "# Positional Arguments\n",
        "\n",
        "def my_function(fname, lname):\n",
        "  print(fname + \" \" + lname)\n",
        "\n",
        "my_function(\"Gowtham\", \"Reddy\")\n"
      ],
      "execution_count": 0,
      "outputs": [
        {
          "output_type": "stream",
          "text": [
            "Gowtham Reddy\n"
          ],
          "name": "stdout"
        }
      ]
    },
    {
      "cell_type": "code",
      "metadata": {
        "id": "RX8O98WIzlIv",
        "colab_type": "code",
        "outputId": "eb330b91-48b7-469c-eb1f-a518eb49d8e6",
        "colab": {
          "base_uri": "https://localhost:8080/",
          "height": 34
        }
      },
      "source": [
        "# Vararg Arguments\n",
        "def my_function(*animals):\n",
        "  print(\"The smallest animal is \" + animals[2])\n",
        "\n",
        "my_function(\"rabbit\", \"dog\", \"rat\",\"elephant\")\n"
      ],
      "execution_count": 0,
      "outputs": [
        {
          "output_type": "stream",
          "text": [
            "The smallest animal is rat\n"
          ],
          "name": "stdout"
        }
      ]
    },
    {
      "cell_type": "code",
      "metadata": {
        "id": "n-bNok4qE1J9",
        "colab_type": "code",
        "outputId": "b1479103-9262-4329-fd6c-319e5e561b3a",
        "colab": {
          "base_uri": "https://localhost:8080/",
          "height": 51
        }
      },
      "source": [
        "# **Kwargs\n",
        "\n",
        "def my_function(**name):\n",
        "  print(type(name))\n",
        "  print(\"His last name is \" + name[\"mname\"])\n",
        "\n",
        "my_function(fname = \"gowtham\", lname = \"reddy\",mname=\"N\") \n"
      ],
      "execution_count": 0,
      "outputs": [
        {
          "output_type": "stream",
          "text": [
            "<class 'dict'>\n",
            "His last name is N\n"
          ],
          "name": "stdout"
        }
      ]
    },
    {
      "cell_type": "code",
      "metadata": {
        "id": "vxMLL0ww2SdY",
        "colab_type": "code",
        "outputId": "46d33fe6-f357-4abd-ee55-ac6fb5539e16",
        "colab": {
          "base_uri": "https://localhost:8080/",
          "height": 68
        }
      },
      "source": [
        "# Vararg\n",
        "\n",
        "def sum(*n):\n",
        "  result=0\n",
        "  for x in n:\n",
        "    result=result+x\n",
        "  print(\"The sum is\",result)\n",
        "sum()\n",
        "sum(10,20)\n",
        "sum(10,20,30,40)"
      ],
      "execution_count": 0,
      "outputs": [
        {
          "output_type": "stream",
          "text": [
            "The sum is 0\n",
            "The sum is 30\n",
            "The sum is 100\n"
          ],
          "name": "stdout"
        }
      ]
    },
    {
      "cell_type": "markdown",
      "metadata": {
        "id": "01EE_NKpUWTS",
        "colab_type": "text"
      },
      "source": [
        "> **Arguments rules:**\n",
        "* first we have to positional arguments then followed by keyword arguments\n",
        "* positional arguments followed by vararg argument we can pass directly\n",
        "* vararg argument followed by positional arguments, then while calling we have pass positional arguments as keyword aruments\n",
        "* Default Arguments to be declared at the end "
      ]
    },
    {
      "cell_type": "code",
      "metadata": {
        "id": "cKgTBguCYYhE",
        "colab_type": "code",
        "outputId": "6dd5d9db-0055-41f8-b25d-4c44f16e96af",
        "colab": {
          "base_uri": "https://localhost:8080/",
          "height": 265
        }
      },
      "source": [
        "def f(a1,a2,a3=30,a4=40):\n",
        "  print(a1,a2,a3,a4)\n",
        "f(1,2)\n",
        "f(1,2,30)\n",
        "f(1,2,a4=100)\n",
        "f(1,2,a4=20,a3=60)\n",
        "f(1,2,a3=30,a5=40)"
      ],
      "execution_count": 0,
      "outputs": [
        {
          "output_type": "stream",
          "text": [
            "1 2 30 40\n",
            "1 2 30 40\n",
            "1 2 30 100\n",
            "1 2 60 20\n"
          ],
          "name": "stdout"
        },
        {
          "output_type": "error",
          "ename": "TypeError",
          "evalue": "ignored",
          "traceback": [
            "\u001b[0;31m---------------------------------------------------------------------------\u001b[0m",
            "\u001b[0;31mTypeError\u001b[0m                                 Traceback (most recent call last)",
            "\u001b[0;32m<ipython-input-13-b3855593e30d>\u001b[0m in \u001b[0;36m<module>\u001b[0;34m()\u001b[0m\n\u001b[1;32m      5\u001b[0m \u001b[0mf\u001b[0m\u001b[0;34m(\u001b[0m\u001b[0;36m1\u001b[0m\u001b[0;34m,\u001b[0m\u001b[0;36m2\u001b[0m\u001b[0;34m,\u001b[0m\u001b[0ma4\u001b[0m\u001b[0;34m=\u001b[0m\u001b[0;36m100\u001b[0m\u001b[0;34m)\u001b[0m\u001b[0;34m\u001b[0m\u001b[0;34m\u001b[0m\u001b[0m\n\u001b[1;32m      6\u001b[0m \u001b[0mf\u001b[0m\u001b[0;34m(\u001b[0m\u001b[0;36m1\u001b[0m\u001b[0;34m,\u001b[0m\u001b[0;36m2\u001b[0m\u001b[0;34m,\u001b[0m\u001b[0ma4\u001b[0m\u001b[0;34m=\u001b[0m\u001b[0;36m20\u001b[0m\u001b[0;34m,\u001b[0m\u001b[0ma3\u001b[0m\u001b[0;34m=\u001b[0m\u001b[0;36m60\u001b[0m\u001b[0;34m)\u001b[0m\u001b[0;34m\u001b[0m\u001b[0;34m\u001b[0m\u001b[0m\n\u001b[0;32m----> 7\u001b[0;31m \u001b[0mf\u001b[0m\u001b[0;34m(\u001b[0m\u001b[0;36m1\u001b[0m\u001b[0;34m,\u001b[0m\u001b[0;36m2\u001b[0m\u001b[0;34m,\u001b[0m\u001b[0ma3\u001b[0m\u001b[0;34m=\u001b[0m\u001b[0;36m30\u001b[0m\u001b[0;34m,\u001b[0m\u001b[0ma5\u001b[0m\u001b[0;34m=\u001b[0m\u001b[0;36m40\u001b[0m\u001b[0;34m)\u001b[0m\u001b[0;34m\u001b[0m\u001b[0;34m\u001b[0m\u001b[0m\n\u001b[0m",
            "\u001b[0;31mTypeError\u001b[0m: f() got an unexpected keyword argument 'a5'"
          ]
        }
      ]
    },
    {
      "cell_type": "code",
      "metadata": {
        "id": "8DMRWkVaY0oH",
        "colab_type": "code",
        "outputId": "cea02dab-31f6-4981-847a-0e75c2f3657e",
        "colab": {
          "base_uri": "https://localhost:8080/",
          "height": 68
        }
      },
      "source": [
        "def sum(*n,name):\n",
        "  result=0\n",
        "  for x in n:\n",
        "    result=result+x\n",
        "  print(\"The sum is\",result,name)\n",
        "sum(name='Gautam')\n",
        "sum(10,20,name='Reddy')\n",
        "sum(10,20,30,40,name='N')"
      ],
      "execution_count": 0,
      "outputs": [
        {
          "output_type": "stream",
          "text": [
            "The sum is 0 Gautam\n",
            "The sum is 30 Reddy\n",
            "The sum is 100 N\n"
          ],
          "name": "stdout"
        }
      ]
    },
    {
      "cell_type": "code",
      "metadata": {
        "id": "ks_12iEFFxzI",
        "colab_type": "code",
        "outputId": "761582a9-cb90-44f3-8196-7758a2976369",
        "colab": {
          "base_uri": "https://localhost:8080/",
          "height": 68
        }
      },
      "source": [
        "def sum(name,*n):\n",
        "  result=0\n",
        "  for x in n:\n",
        "    result=result+x\n",
        "  print(\"The sum is\",result,name)\n",
        "sum('Gautam')\n",
        "sum('Reddy',10,20)\n",
        "sum('N',10,20,30,40)"
      ],
      "execution_count": 0,
      "outputs": [
        {
          "output_type": "stream",
          "text": [
            "The sum is 0 Gautam\n",
            "The sum is 30 Reddy\n",
            "The sum is 100 N\n"
          ],
          "name": "stdout"
        }
      ]
    },
    {
      "cell_type": "code",
      "metadata": {
        "id": "sPqfavSAI1P6",
        "colab_type": "code",
        "colab": {}
      },
      "source": [
        ""
      ],
      "execution_count": 0,
      "outputs": []
    }
  ]
}